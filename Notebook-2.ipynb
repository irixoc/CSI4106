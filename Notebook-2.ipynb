{
 "cells": [
  {
   "cell_type": "markdown",
   "metadata": {},
   "source": [
    "# Notebook 2 - Searching for solutions"
   ]
  },
  {
   "cell_type": "markdown",
   "metadata": {},
   "source": [
    "CSI4106 Artificial Intelligence  \n",
    "Fall 2021  \n",
    "Version 1 prepared by Julian Templeton and Caroline Barrière (2020).  Version 2 adapted by Caroline Barrière. (2021)"
   ]
  },
  {
   "cell_type": "markdown",
   "metadata": {},
   "source": [
    "**INTRODUCTION**:  \\\n",
    "We will look at the implementation of a search space.  The code below is largely inspired from the resources provided with the book Artificial Intelligence, Foundations of Computational Agents (https://artint.info/2e/online.html).  The resources corresponding to Chapter 3, on Searching for Solutions, are found here https://artint.info/AIPython/.  \n",
    "\n",
    "There is even a companion Python book, with explanation of all the python code accompanying the book, as well as a first chapter called **Python for AI** where they give some basics of Python.  See https://artint.info/AIPython/aipython.pdf\n",
    "\n",
    "The code below is more specifically based on the code in the file *searchProblem.py*.  You do not need to go back to that code. Everything you need is specified in the notebook.  I have modified the original code, and I'm presenting it here in small chunks so as to allow students less familiar with python to go through slowly. "
   ]
  },
  {
   "cell_type": "markdown",
   "metadata": {},
   "source": [
    "***HOMEWORK***:  \\\n",
    "Go through the notebook by running each cell, one at a time. If you see an error, you can fix the issue and re-run the cells.  \n",
    "Look for **(TO DO)** for the tasks that you need to perform.  Once you're done, submit your notebook. Don't forget to put your name at the bottom of the Notebook. Also, RENAME the file to personalize it StudentNumber-LastName-Notebook-2.ipynb.\n",
    "\n",
    "*The notebook will be marked on 20.  \n",
    "Each **(TO DO)** has a number of points associated with it.*\n",
    "***"
   ]
  },
  {
   "cell_type": "markdown",
   "metadata": {},
   "source": [
    "**1. Definition of a directed graph.**  \n",
    "A directed graph is made of nodes and arcs. The class below defines an arc that connects two nodes. The first two parameters give the two connected nodes. The other two parameters provide optional cost of an arc (with default to 1) and an optional action of the arc (default to None). The init is the constructor. The assert states a condition that must be true and provides what to do otherwise."
   ]
  },
  {
   "cell_type": "code",
   "execution_count": 1409,
   "metadata": {},
   "outputs": [],
   "source": [
    "class Arc(object):\n",
    "    \"\"\"An arc has a from_node and a to_node node and a (non-negative) cost\"\"\"\n",
    "    \n",
    "    def __init__(self, from_node, to_node, cost=1, action=None):\n",
    "        assert cost >= 0, (\"Cost cannot be negative for\"+\n",
    "                           str(from_node)+\"->\"+str(to_node)+\", cost: \"+str(cost))\n",
    "        self.from_node = from_node\n",
    "        self.to_node = to_node\n",
    "        self.action = action\n",
    "        self.cost=cost\n",
    "\n",
    "    def __repr__(self):\n",
    "        \"\"\"string representation of an arc\"\"\"\n",
    "        if self.action:\n",
    "            return str(self.from_node)+\" --\"+str(self.action)+\"--> \"+str(self.to_node)\n",
    "        else:\n",
    "            return str(self.from_node)+\" --> \"+str(self.to_node)"
   ]
  },
  {
   "cell_type": "markdown",
   "metadata": {},
   "source": [
    "Here is an example of a small DAG (Directed Acyclic Graph). \n",
    "![Image1](./Image1.png)"
   ]
  },
  {
   "cell_type": "markdown",
   "metadata": {},
   "source": [
    "We can build a DAG with the Arc class defined above."
   ]
  },
  {
   "cell_type": "code",
   "execution_count": 1410,
   "metadata": {},
   "outputs": [],
   "source": [
    "# Defining a small dag\n",
    "dag1 = [Arc('a','b'), Arc('b','c1'), Arc('c1','d'), Arc('b','c2'), Arc('c2','d')]"
   ]
  },
  {
   "cell_type": "code",
   "execution_count": 1411,
   "metadata": {},
   "outputs": [
    {
     "name": "stdout",
     "output_type": "stream",
     "text": [
      "[a --> b, b --> c1, c1 --> d, b --> c2, c2 --> d]\n"
     ]
    }
   ],
   "source": [
    "# print the dag\n",
    "print(dag1)"
   ]
  },
  {
   "cell_type": "markdown",
   "metadata": {},
   "source": [
    "The Node class is not defined.  So far, it is assumed that a Node will simply be a string."
   ]
  },
  {
   "cell_type": "markdown",
   "metadata": {},
   "source": [
    "**2. Search Space**  \n",
    "Instead of describing a dag as simply a set of arcs, we can more formally define a class that will represent a search problem which will contain not only the list of arcs, but the explicit list of nodes, the actual start node and the goals.  This class also contains useful methods to \"query\" the search problem for a node's neighbors, or for determining if a node is a goal or not. It also allows to include a heuristic function, which we will use later.  "
   ]
  },
  {
   "cell_type": "code",
   "execution_count": 1412,
   "metadata": {},
   "outputs": [],
   "source": [
    "class Search_problem_from_explicit_graph():\n",
    "    \"\"\"A search problem consists of:\n",
    "    * a list or set of nodes\n",
    "    * a list or set of arcs\n",
    "    * a start node\n",
    "    * a list or set of goal nodes\n",
    "    * a dictionary that maps each node into its heuristic value.\n",
    "    \"\"\"\n",
    "\n",
    "    def __init__(self, nodes, arcs, start=None, goals=set(), hmap={}):\n",
    "        self.neighs = {}\n",
    "        self.nodes = nodes\n",
    "        for node in nodes:\n",
    "            self.neighs[node]=[]\n",
    "        self.arcs = arcs\n",
    "        for arc in arcs:\n",
    "            self.neighs[arc.from_node].append(arc)\n",
    "        self.start = start\n",
    "        self.goals = goals\n",
    "        self.hmap = hmap\n",
    "\n",
    "    def start_node(self):\n",
    "        \"\"\"returns start node\"\"\"\n",
    "        return self.start\n",
    "    \n",
    "    def is_goal(self,node):\n",
    "        \"\"\"is True if node is a goal\"\"\"\n",
    "        return node in self.goals\n",
    "\n",
    "    def neighbors(self,node):\n",
    "        \"\"\"returns the neighbors of node\"\"\"\n",
    "        return self.neighs[node]\n",
    "\n",
    "    def heuristic(self,node):\n",
    "        \"\"\"Gives the heuristic value of node n.\n",
    "        Returns 0 if not overridden in the hmap.\"\"\"\n",
    "        if node in self.hmap:\n",
    "            return self.hmap[node]\n",
    "        else:\n",
    "            return 0\n",
    "        \n",
    "    def __repr__(self):\n",
    "        \"\"\"returns a string representation of the search problem\"\"\"\n",
    "        res=\"\"\n",
    "        for arc in self.arcs:\n",
    "            res += str(arc)+\".  \"\n",
    "        return res\n",
    "\n",
    "    def neighbor_nodes(self,node):\n",
    "        \"\"\"returns an iterator over the neighbors of node\"\"\"\n",
    "        return (path.to_node for path in self.neighs[node])\n"
   ]
  },
  {
   "cell_type": "markdown",
   "metadata": {},
   "source": [
    "Below is an example of a search problem that we might want to represent. Assuming we wish to go from node 'a' to 'h' (highlighted in yellow). Under the figure is the definition.\n",
    "\n",
    "![Image2](./Image2.png)"
   ]
  },
  {
   "cell_type": "code",
   "execution_count": 1413,
   "metadata": {},
   "outputs": [],
   "source": [
    "# Defining a search space\n",
    "problemSimple = Search_problem_from_explicit_graph(\n",
    "    {'a','b','c','d','e', 'f', 'g', 'h', 'j'},\n",
    "    [Arc('a','b',1), Arc('a','c',1), Arc('b','d',1), Arc('b','e',1),\n",
    "     Arc('c','f',1), Arc('c', 'g'), Arc('d','h',1), Arc('e','h',1),\n",
    "     Arc('f', 'e', 1), Arc('f','j',1)],\n",
    "    start = 'a',\n",
    "    goals = {'h'})"
   ]
  },
  {
   "cell_type": "code",
   "execution_count": 1414,
   "metadata": {},
   "outputs": [
    {
     "name": "stdout",
     "output_type": "stream",
     "text": [
      "[a --> b, a --> c]\n"
     ]
    }
   ],
   "source": [
    "# Print some information\n",
    "print(problemSimple.neighbors('a'))"
   ]
  },
  {
   "cell_type": "markdown",
   "metadata": {},
   "source": [
    "**(TO DO) Q1 - 2 marks**  \n",
    "Print the start node of the search space *probemSimple*. Test if its node 'g' is a goal node.  Go through its list of nodes to find which one is its goal node."
   ]
  },
  {
   "cell_type": "code",
   "execution_count": 1415,
   "metadata": {},
   "outputs": [
    {
     "name": "stdout",
     "output_type": "stream",
     "text": [
      "a\n",
      "g is not the goal node\n",
      "The goal node is: h\n"
     ]
    }
   ],
   "source": [
    "# ANSWER HERE - Q1\n",
    "# Print the start node. \n",
    "print(problemSimple.start_node())\n",
    "\n",
    "# Test if node 'g' is a goal node. \n",
    "if problemSimple.is_goal('g'):\n",
    "    print('g is goal node')\n",
    "else:\n",
    "    print('g is not the goal node')\n",
    "\n",
    "# Go through the list of nodes to find which one is the goal.\n",
    "for node in problemSimple.nodes:\n",
    "    if problemSimple.is_goal(node):\n",
    "        print(\"The goal node is: \"+ node)"
   ]
  },
  {
   "cell_type": "markdown",
   "metadata": {},
   "source": [
    "**(TO DO) Q2 - 2 marks** <br>\n",
    "Complete the definition of the problem space below, according to the following DAG.  The cost are not all equal to 1 now, but are rather given on the arcs.\n",
    "\n",
    "![Image3](./Image3.png)"
   ]
  },
  {
   "cell_type": "code",
   "execution_count": 1416,
   "metadata": {},
   "outputs": [],
   "source": [
    "# ANSWER HERE - Q2\n",
    "problemTest = Search_problem_from_explicit_graph(\n",
    "    {'a','b','c','d','e', 'f', 'g', 'h', 'j', 'k', 'l'},\n",
    "    [Arc('a','b',6), Arc('a','c',5), Arc('a','d',4),\n",
    "     Arc('b','e',2), Arc('b','f',4),\n",
    "     Arc('c','g',3), \n",
    "     Arc('d','g',6),\n",
    "     Arc('e','h',5),\n",
    "     Arc('f','k',12),\n",
    "     Arc('g','k',7),\n",
    "     Arc('h','j',8),\n",
    "     Arc('j','l',5),\n",
    "     Arc('k','l',6)],\n",
    "    start = 'a',\n",
    "    goals = {'l'})"
   ]
  },
  {
   "cell_type": "markdown",
   "metadata": {},
   "source": [
    "**3. Definition of a solution as a path.**  \n",
    "A solution to a search problem is usually a Path, providing the set of visited nodes and arcs from source node to goal node.  Below a path is defined as either a single node (when arc=None), or a path followed by an arc.  Do not worry too much about all the implementation details in this class.  As your python skills get better, it will become more clear."
   ]
  },
  {
   "cell_type": "code",
   "execution_count": 1417,
   "metadata": {},
   "outputs": [],
   "source": [
    "# class to represent a path\n",
    "class Path(object):\n",
    "    \"\"\"A path is either a node or a path followed by an arc\"\"\"\n",
    "    \n",
    "    def __init__(self,initial,arc=None):\n",
    "        \"\"\"initial is either a node (in which case arc is None) or\n",
    "        a path (in which case arc is an object of type Arc)\"\"\"\n",
    "        self.initial = initial\n",
    "        self.arc=arc\n",
    "        if arc is None:\n",
    "            self.cost=0\n",
    "        else:\n",
    "            self.cost = initial.cost+arc.cost\n",
    "\n",
    "    def end(self):\n",
    "        \"\"\"returns the node at the end of the path\"\"\"\n",
    "        if self.arc is None:\n",
    "            return self.initial\n",
    "        else:\n",
    "            return self.arc.to_node\n",
    "\n",
    "    def nodes(self):\n",
    "        \"\"\"enumerates the nodes for the path.\n",
    "        This starts at the end and enumerates nodes in the path backwards.\"\"\"\n",
    "        current = self\n",
    "        while current.arc is not None:\n",
    "            yield current.arc.to_node\n",
    "            current = current.initial\n",
    "        yield current.initial\n",
    "\n",
    "    def initial_nodes(self):\n",
    "        \"\"\"enumerates the nodes for the path before the end node.\n",
    "        This starts at the end and enumerates nodes in the path backwards.\"\"\"\n",
    "        if self.arc is not None:\n",
    "            for nd in self.initial.nodes(): yield nd     # could be \"yield from\"\n",
    "        \n",
    "    def __repr__(self):\n",
    "        \"\"\"returns a string representation of a path\"\"\"\n",
    "        if self.arc is None:\n",
    "            return str(self.initial)\n",
    "        elif self.arc.action:\n",
    "            return (str(self.initial)+\"\\n   --\"+str(self.arc.action)\n",
    "                    +\"--> \"+str(self.arc.to_node))\n",
    "        else:\n",
    "            return str(self.initial)+\" --> \"+str(self.arc.to_node)"
   ]
  },
  {
   "cell_type": "markdown",
   "metadata": {},
   "source": [
    "**4.  Definition of a generic searcher**  \n",
    "We first define a class representing a generic searcher, but with no strategy as to which node will be explored next. "
   ]
  },
  {
   "cell_type": "code",
   "execution_count": 1418,
   "metadata": {},
   "outputs": [],
   "source": [
    "# (CB) Modified from book\n",
    "class GenericSearcher():\n",
    "    \"\"\"returns a searcher for a problem.\n",
    "    Paths can be found by repeatedly calling search().\n",
    "    This does depth-first search unless overridden\n",
    "    \"\"\"\n",
    "    def __init__(self, problem):\n",
    "        \"\"\"creates a searcher from a problem\n",
    "        \"\"\"\n",
    "        self.problem = problem\n",
    "        self.initialize_frontier()\n",
    "\n",
    "    def initialize_frontier(self):\n",
    "        self.frontier = [Path(self.problem.start_node())]\n",
    "        \n",
    "    def empty_frontier(self):\n",
    "        return self.frontier == []\n",
    "       \n",
    "    ### change the add_to_frontier method --- THIS METHOD NEEDS TO BE IMPLEMENTED FOR DIFFERENT SEARCH STRATEGIES\n",
    "    def add_to_frontier(self,path):\n",
    "        raise NotImplementedError\n",
    "        \n",
    "    def search(self):\n",
    "        \"\"\"returns (next) path from the problem's start node\n",
    "        to a goal node. \n",
    "        Returns None if no path exists.\n",
    "        \"\"\"\n",
    "        while not self.empty_frontier():\n",
    "            # The next node explored is selected\n",
    "            # It is implemented with a Pop, which actually removes from top of stack\n",
    "            path = self.frontier.pop()            \n",
    "            print(path)\n",
    "            if self.problem.is_goal(path.end()):    # solution found\n",
    "                self.solution = path                # store the solution found\n",
    "                return path\n",
    "            else:\n",
    "                neighs = self.problem.neighbors(path.end())              \n",
    "                for arc in neighs:\n",
    "                    self.add_to_frontier(Path(path,arc))              "
   ]
  },
  {
   "cell_type": "markdown",
   "metadata": {},
   "source": [
    "**5. Let's implement the three blind searchers.**  \n",
    "As we saw in class, the behavior of a searcher depends on how the frontier is dealt with.  By modifying the method *add_to_frontier* from the generic searcher, we can implement the 3 types of blind searches saw in the video lectures: depth-first, breadth-first and lowest-cost.  The breadth-first is implemented below.  You are asked to implement the other two."
   ]
  },
  {
   "cell_type": "code",
   "execution_count": 1419,
   "metadata": {},
   "outputs": [],
   "source": [
    "# (CB) extend the generic searcher to be a Breadth-first searcher.\n",
    "class BreadthFirstSearcher(GenericSearcher):\n",
    "    \n",
    "    def __init__(self, problem):   \n",
    "        super().__init__(problem)\n",
    "\n",
    "    def add_to_frontier(self,path):\n",
    "        # breadth\n",
    "        self.frontier.insert(0,path)        # HERE, I insert in position 0 (bottom of stack), knowing that I want a FIFO"
   ]
  },
  {
   "cell_type": "code",
   "execution_count": 1420,
   "metadata": {},
   "outputs": [
    {
     "name": "stdout",
     "output_type": "stream",
     "text": [
      "Exploring nodes:\n",
      "a\n",
      "a --> b\n",
      "a --> c\n",
      "a --> d\n",
      "a --> b --> e\n",
      "a --> b --> f\n",
      "a --> c --> g\n",
      "a --> d --> g\n",
      "a --> b --> e --> h\n",
      "a --> b --> f --> k\n",
      "a --> c --> g --> k\n",
      "a --> d --> g --> k\n",
      "a --> b --> e --> h --> j\n",
      "a --> b --> f --> k --> l\n",
      "Path found: a --> b --> f --> k --> l with a cost of 28\n"
     ]
    }
   ],
   "source": [
    "# Test breadth-first searcher\n",
    "searcherBreadth = BreadthFirstSearcher(problemTest)  \n",
    "print(\"Exploring nodes:\")\n",
    "foundPath = searcherBreadth.search();\n",
    "print('Path found: {} with a cost of {}'.format(foundPath, foundPath.cost))"
   ]
  },
  {
   "cell_type": "markdown",
   "metadata": {},
   "source": [
    "**(TO DO) Q3 - 2 marks** <br> \n",
    "Implement the *add_to_frontier* method for the depth-first search.  And test your implementation."
   ]
  },
  {
   "cell_type": "code",
   "execution_count": 1421,
   "metadata": {},
   "outputs": [],
   "source": [
    "# ANSWER HERE - Q3 - Part 1 (SINGLE LINE TO DO) (1 mark)\n",
    "# Depth-first searcher\n",
    "class DepthFirstSearcher(GenericSearcher):\n",
    "    def __init__(self, problem):   \n",
    "        super().__init__(problem)\n",
    "\n",
    "    def add_to_frontier(self,path):\n",
    "        # depth\n",
    "        self.frontier.append(path)"
   ]
  },
  {
   "cell_type": "code",
   "execution_count": 1422,
   "metadata": {},
   "outputs": [
    {
     "name": "stdout",
     "output_type": "stream",
     "text": [
      "Exploring nodes:\n",
      "a\n",
      "a --> d\n",
      "a --> d --> g\n",
      "a --> d --> g --> k\n",
      "a --> d --> g --> k --> l\n",
      "Path found: a --> d --> g --> k --> l with a cost of 23\n"
     ]
    }
   ],
   "source": [
    "# ANSWER HERE - Q3 - Part 2 (Test implementation) (1 mark)\n",
    "# Test\n",
    "searcherDepth = DepthFirstSearcher(problemTest)\n",
    "print(\"Exploring nodes:\")\n",
    "foundPath = searcherDepth.search()\n",
    "print('Path found: {} with a cost of {}'.format(foundPath, foundPath.cost))"
   ]
  },
  {
   "cell_type": "markdown",
   "metadata": {},
   "source": [
    "**(TO DO) Q4 - 4 marks** <br> \n",
    "Implement the *add_to_frontier* method for the lowest-cost search. And test your implementation."
   ]
  },
  {
   "cell_type": "code",
   "execution_count": 1423,
   "metadata": {},
   "outputs": [],
   "source": [
    "# ANSWER HERE - Q4 - Part 1 (More complex, must sort so lowest-cost would be the one use in the \"pop\") (3 marks)\n",
    "# Lowest Cost searcher\n",
    "class LowCostSearcher(GenericSearcher):\n",
    "    def __init__(self, problem):   \n",
    "        super().__init__(problem)\n",
    "\n",
    "    def add_to_frontier(self,path):\n",
    "        # Need to insert path p onto the frontier so the cost order is kept\n",
    "        self.frontier.insert(0,path) \n",
    "\n",
    "        # low-cost search  - put code here...\n",
    "        self.frontier.sort(key=lambda x: x.cost,reverse=True)"
   ]
  },
  {
   "cell_type": "code",
   "execution_count": 1424,
   "metadata": {},
   "outputs": [
    {
     "name": "stdout",
     "output_type": "stream",
     "text": [
      "Exploring nodes:\n",
      "a\n",
      "a --> d\n",
      "a --> c\n",
      "a --> b\n",
      "a --> c --> g\n",
      "a --> b --> e\n",
      "a --> d --> g\n",
      "a --> b --> f\n",
      "a --> b --> e --> h\n",
      "a --> c --> g --> k\n",
      "a --> d --> g --> k\n",
      "a --> b --> e --> h --> j\n",
      "a --> c --> g --> k --> l\n",
      "Path found: a --> c --> g --> k --> l with a cost of 21\n"
     ]
    }
   ],
   "source": [
    "# ANSWER HERE - Q4 - Part 2 (Test implementation) (1 mark)\n",
    "# Test\n",
    "searcherLowCost = LowCostSearcher(problemTest)\n",
    "print(\"Exploring nodes:\")\n",
    "foundPath = searcherLowCost.search()\n",
    "print('Path found: {} with a cost of {}'.format(foundPath, foundPath.cost))"
   ]
  },
  {
   "cell_type": "markdown",
   "metadata": {},
   "source": [
    "**6. Heuristic searches**  \n",
    "We have seen three types of heuristic searches in class: greedy, best-first and A\\*. The first one, Greedy, is a local heuristic search.  The other two, best-first and A\\* are global heuristic search.  Let's focus on those last two.  We can implement them, as different specific searchers which will modify the add_to_frontier method of the generic searcher.\n",
    "\n",
    "Within this notebook, to get the heuristic of a node, you must call the self.problem.heuristic(...) function where you pass in the node that you want the heuristic for. "
   ]
  },
  {
   "cell_type": "markdown",
   "metadata": {},
   "source": [
    "Let's assume the heuristic function provides an optimistic distance of each node to the goal node 'l'. These distances are encoded in a dictionary call hmap, in the problem definition below, which is an extension to problemTest defined earlier."
   ]
  },
  {
   "cell_type": "code",
   "execution_count": 1425,
   "metadata": {},
   "outputs": [],
   "source": [
    "problemTestWithHeuristics = Search_problem_from_explicit_graph(\n",
    "    {'a','b','c','d','e', 'f', 'g', 'h', 'j', 'k', 'l'},\n",
    "    [Arc('a','b', 6), Arc('a','c', 5), Arc('a','d', 4), \n",
    "     Arc('b','e', 2), Arc('b','f', 4),\n",
    "     Arc('e','h', 5), Arc('h','j', 8), Arc('j','l', 5),\n",
    "     Arc('f','k', 12), Arc('k','l', 6),\n",
    "     Arc('c','g', 3), Arc('g','k', 7),\n",
    "     Arc('d','g', 6)],\n",
    "    start = 'a',\n",
    "    goals = {'l'},\n",
    "     hmap = {'a':20, 'b':12, 'c':15, 'd':14, 'e':9, 'f':13, 'g':10, 'h':11, 'j':5, 'k':6})"
   ]
  },
  {
   "cell_type": "markdown",
   "metadata": {},
   "source": [
    "**(TO DO) Q5 - 4 marks** <br> \n",
    "You must implement and test the A* search algorithm."
   ]
  },
  {
   "cell_type": "code",
   "execution_count": 1426,
   "metadata": {},
   "outputs": [],
   "source": [
    "# ANSWER HERE - Q5 - Part 1 (3 marks)\n",
    "# A* searcher\n",
    "class AStarSearcher(GenericSearcher):\n",
    "    \"\"\"returns a searcher for a problem.\n",
    "    Paths can be found by repeatedly calling search().\n",
    "    \"\"\"\n",
    "    def __init__(self, problem):   \n",
    "        super().__init__(problem)\n",
    "\n",
    "    def getCostKey(self, path):\n",
    "        return self.problem.heuristic(path.end()) + path.cost\n",
    "    \n",
    "    def add_to_frontier(self,path):\n",
    "        \"\"\"add path to the frontier with the appropriate cost\"\"\"\n",
    "        self.frontier.insert(0,path) \n",
    "        \n",
    "        # sort frontier so that all the elements are ordered from most costly to least costly\n",
    "        self.frontier.sort(key=self.getCostKey, reverse=True)"
   ]
  },
  {
   "cell_type": "code",
   "execution_count": 1427,
   "metadata": {},
   "outputs": [
    {
     "name": "stdout",
     "output_type": "stream",
     "text": [
      "Exploring nodes:\n",
      "a\n",
      "a --> b\n",
      "a --> b --> e\n",
      "a --> d\n",
      "a --> c\n",
      "a --> c --> g\n",
      "a --> d --> g\n",
      "a --> c --> g --> k\n",
      "a --> c --> g --> k --> l\n",
      "Path found: a --> c --> g --> k --> l with a cost of 21\n"
     ]
    }
   ],
   "source": [
    "# ANSWER HERE - Q5 - Part 2 (1 mark)\n",
    "# Test\n",
    "searcherAStar = AStarSearcher(problemTestWithHeuristics)\n",
    "print(\"Exploring nodes:\")\n",
    "foundPath = searcherAStar.search()\n",
    "print('Path found: {} with a cost of {}'.format(foundPath, foundPath.cost))"
   ]
  },
  {
   "cell_type": "markdown",
   "metadata": {},
   "source": [
    "**(TO DO) Q6 - 4 marks** <br> \n",
    "You must implement and test the Best-First Search algorithm."
   ]
  },
  {
   "cell_type": "code",
   "execution_count": 1428,
   "metadata": {},
   "outputs": [],
   "source": [
    "# ANSWER HERE - Q6 - Part 1 (3 marks)\n",
    "# Best first searcher\n",
    "class BestFirstSearcher(GenericSearcher):\n",
    "    \"\"\"returns a searcher for a problem.\n",
    "    Paths can be found by repeatedly calling search().\n",
    "    \"\"\"\n",
    "    def __init__(self, problem):   \n",
    "        super().__init__(problem)  \n",
    "\n",
    "    def getCostKey(self, path):\n",
    "        return self.problem.heuristic(path.end())\n",
    "    \n",
    "    def add_to_frontier(self,path):\n",
    "        self.frontier.insert(0,path)\n",
    "        self.frontier.sort(key=self.getCostKey, reverse=True)"
   ]
  },
  {
   "cell_type": "code",
   "execution_count": 1429,
   "metadata": {},
   "outputs": [
    {
     "name": "stdout",
     "output_type": "stream",
     "text": [
      "Exploring nodes:\n",
      "a\n",
      "a --> b\n",
      "a --> b --> e\n",
      "a --> b --> e --> h\n",
      "a --> b --> e --> h --> j\n",
      "a --> b --> e --> h --> j --> l\n",
      "Path found: a --> b --> e --> h --> j --> l with a cost of 26\n"
     ]
    }
   ],
   "source": [
    "# ANSWER HERE - Q6 - Part 2 (1 mark)\n",
    "# Test\n",
    "searcherBestFirst = BestFirstSearcher(problemTestWithHeuristics)\n",
    "print(\"Exploring nodes:\")\n",
    "foundPath = searcherBestFirst.search()\n",
    "print('Path found: {} with a cost of {}'.format(foundPath, foundPath.cost))"
   ]
  },
  {
   "cell_type": "markdown",
   "metadata": {},
   "source": [
    "**(TO DO) Q7 - 2 marks**\\\n",
    "Now that you have 5 algorithms implemented, 3 blind ones and 2 global heuristic ones, discuss: \\\n",
    "(a) among breadth-first and depth-first, which one performed better (in terms of finding a lower cost path and in terms of number of nodes explored) and was that as low as the result obtained with the lowest-cost first search, and \\\n",
    "(b) among the 2 heuristic searches, which one performed better (in terms of finding a lower cost path)."
   ]
  },
  {
   "cell_type": "markdown",
   "metadata": {},
   "source": [
    "ANSWER HERE - Q7   \n",
    "(a) \n",
    "Depth-First Search performed better than Breadth-First Search in terms of finding a lower cost path and it also performed better than Breadth-First Search in terms of number of nodes explored.\n",
    "\n",
    "However, Lowest-Cost-First Search performed better than Depth-First Search in terms of finding a lower cost path, but it performed worst that Depth-First Search in terms of number of nodes explored, since it explored more nodes that Depth-First Search. \n",
    "\n",
    "Furthermore, Lowest-Cost-First Search performed better than Breadth-First-Search both in terms of finding a lower cost path and the number of nodes explored.\n",
    "\n",
    "To conclude, Breadth-First Search was the worst performing algorithm in terms of finding a lower cost path and number of nodes explored.\n",
    "\n",
    "\n",
    "(b) Among the 2 heuristic searches, A* Search performed better in terms of finding a lower cost path."
   ]
  }
 ],
 "metadata": {
  "kernelspec": {
   "display_name": "Python 3",
   "language": "python",
   "name": "python3"
  },
  "language_info": {
   "codemirror_mode": {
    "name": "ipython",
    "version": 3
   },
   "file_extension": ".py",
   "mimetype": "text/x-python",
   "name": "python",
   "nbconvert_exporter": "python",
   "pygments_lexer": "ipython3",
   "version": "3.8.8"
  }
 },
 "nbformat": 4,
 "nbformat_minor": 2
}
