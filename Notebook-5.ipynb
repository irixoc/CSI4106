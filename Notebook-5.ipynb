{
 "cells": [
  {
   "cell_type": "markdown",
   "metadata": {
    "id": "l3aO38zC0-5L"
   },
   "source": [
    "# Notebook 5 - Titanic Prediction"
   ]
  },
  {
   "cell_type": "markdown",
   "metadata": {
    "id": "K5U6AOch0-5M"
   },
   "source": [
    "CSI4106 Artificial Intelligence  \n",
    "Fall 2021. \\\n",
    "Version 1 (2020) prepared by Julian Templeton.  Version 2 (2021) modified by Caroline Barrière."
   ]
  },
  {
   "cell_type": "markdown",
   "metadata": {
    "id": "kiedO0TE0-5M"
   },
   "source": [
    "***INTRODUCTION***:\n",
    "\n",
    "The supervised classification task tackled in this notebook is to determine whether a passenger survived or did not survive on the Titanic. This is a common introductory problem to supervised machine learning and is a challenge on a popular site called Kaggle. Kaggle contains competitions that participants can compete in. These competitions typical provide a dataset to work with and a description of the problem to solve. That said, not all datasets will include the ground truth for the test set. Or, a competition may only provide a training and validation set, not the test set. This means that participants will not know how their models perform on the real unseen data until the host(s) test the participant's submission on the private test set, posting the results.    \n",
    "\n",
    "This notebook will expand your knowledge from the previous notebook and will introduce the concept of dealing with class imabalance through the use of a technique called oversampling. You will also see how a dataset can have issues with its data and that not every feature should be used to train and test a model. You will also perform the training, testing, and evaluation in slightly new ways since we will be working with a different type of dataset.\n",
    "\n",
    "Once again, this notebook uses **scikit-learn** (http://scikit-learn.org/stable/), **Matplot**, **Numpy**, and **Pandas**. Also, we will be using **imblearn** which provides robust techniques for balancing the number of instances of different classes. To install this packge, use the command ***pip install imbalanced-learn***. If this causes any issues you can also try *pip install imblearn*.  As was mentioned in the previous notebook, if a local installation of these packages creates any problem, don't hesitate to move to *colab*, an environment provided by Google in which you can run your notebooks.\n",
    "\n",
    "In this notebook we will use the Naive Bayes algorithm and the Logistic Regression algorithm to perform the binary classification of the survival of passengers on the Titanic. After evaluating both models, you will determine which performed better, and why. Finally, you will go through the process once more to determine whether or not a common oversampling technique will improve the results obtained.    "
   ]
  },
  {
   "cell_type": "markdown",
   "metadata": {
    "id": "v1zn2uY90-5N"
   },
   "source": [
    "***HOMEWORK***:  \\\n",
    "\n",
    "Go through the notebook by running each cell, one at a time.  \n",
    "Look for **(TO DO)** for the tasks that you need to perform. Do not edit the code outside of the questions which you are asked to answer unless specifically asked. Once you're done, sign the notebook (at the end of the notebook), change its name to StudentNumber-LastName-Notebook5.ipynb and submit it.  \n",
    "\n",
    "*The notebook will be marked on 30.  \n",
    "Each **(TO DO)** has a number of points associated with it.*\n",
    "***"
   ]
  },
  {
   "cell_type": "markdown",
   "metadata": {
    "id": "1fruPKuL0-5N"
   },
   "source": [
    "**1. Exploring the dataset**    \n",
    "\n",
    "First, we will set up the data that we will be working with. This data is included with the notebook and can be found from Kaggle, which also contains a description of the data that we will be working with (https://www.kaggle.com/c/titanic/data). \n",
    "\n",
    "It is highly recommended that you ***look at the attribute descriptions*** within the Overview section that is available by the link above. This will help you understand the data that we will be working with.     \n",
    "\n",
    "As alluded to in the introduction, this Kaggle competition only provides annotated training data, while the testing data is unannotated. The ground truth of the the test dataset can be found online, but we will focus on only using the training dataset to create and test our model.       \n",
    "\n",
    "In general, a competition will only give a training set, so we will try to learn whether a passenger did or did not survive on the Titanic from this training data."
   ]
  },
  {
   "cell_type": "code",
   "execution_count": 1079,
   "metadata": {
    "id": "pO55OGYT0-5N"
   },
   "outputs": [],
   "source": [
    "# Import the required packages for data analysis and machine learning\n",
    "import seaborn as sns\n",
    "from imblearn.over_sampling import SMOTE\n",
    "from sklearn.naive_bayes import MultinomialNB\n",
    "from sklearn.linear_model import LogisticRegression\n",
    "from sklearn.model_selection import train_test_split\n",
    "import datetime\n",
    "import pandas as pd\n",
    "import numpy as np\n",
    "import matplotlib.pyplot as plt"
   ]
  },
  {
   "cell_type": "markdown",
   "metadata": {
    "id": "V4bLwgb70-5O"
   },
   "source": [
    "First, we will load the training dataset (*train.csv*) into a dataframe with Pandas and explore the first ten samples. Notice that this dataset contains a variety of potential features, unlike the movie reviews that we worked with last notebook which contained movie reviews (textual form) that we had to transform. The current dataset contains both continuous and discrete values."
   ]
  },
  {
   "cell_type": "code",
   "execution_count": 1080,
   "metadata": {
    "id": "AJbZO9gq0-5O"
   },
   "outputs": [
    {
     "data": {
      "text/html": [
       "<div>\n",
       "<style scoped>\n",
       "    .dataframe tbody tr th:only-of-type {\n",
       "        vertical-align: middle;\n",
       "    }\n",
       "\n",
       "    .dataframe tbody tr th {\n",
       "        vertical-align: top;\n",
       "    }\n",
       "\n",
       "    .dataframe thead th {\n",
       "        text-align: right;\n",
       "    }\n",
       "</style>\n",
       "<table border=\"1\" class=\"dataframe\">\n",
       "  <thead>\n",
       "    <tr style=\"text-align: right;\">\n",
       "      <th></th>\n",
       "      <th>PassengerId</th>\n",
       "      <th>Survived</th>\n",
       "      <th>Pclass</th>\n",
       "      <th>Name</th>\n",
       "      <th>Sex</th>\n",
       "      <th>Age</th>\n",
       "      <th>SibSp</th>\n",
       "      <th>Parch</th>\n",
       "      <th>Ticket</th>\n",
       "      <th>Fare</th>\n",
       "      <th>Cabin</th>\n",
       "      <th>Embarked</th>\n",
       "    </tr>\n",
       "  </thead>\n",
       "  <tbody>\n",
       "    <tr>\n",
       "      <th>0</th>\n",
       "      <td>1</td>\n",
       "      <td>0</td>\n",
       "      <td>3</td>\n",
       "      <td>Braund, Mr. Owen Harris</td>\n",
       "      <td>male</td>\n",
       "      <td>22.0</td>\n",
       "      <td>1</td>\n",
       "      <td>0</td>\n",
       "      <td>A/5 21171</td>\n",
       "      <td>7.2500</td>\n",
       "      <td>NaN</td>\n",
       "      <td>S</td>\n",
       "    </tr>\n",
       "    <tr>\n",
       "      <th>1</th>\n",
       "      <td>2</td>\n",
       "      <td>1</td>\n",
       "      <td>1</td>\n",
       "      <td>Cumings, Mrs. John Bradley (Florence Briggs Th...</td>\n",
       "      <td>female</td>\n",
       "      <td>38.0</td>\n",
       "      <td>1</td>\n",
       "      <td>0</td>\n",
       "      <td>PC 17599</td>\n",
       "      <td>71.2833</td>\n",
       "      <td>C85</td>\n",
       "      <td>C</td>\n",
       "    </tr>\n",
       "    <tr>\n",
       "      <th>2</th>\n",
       "      <td>3</td>\n",
       "      <td>1</td>\n",
       "      <td>3</td>\n",
       "      <td>Heikkinen, Miss. Laina</td>\n",
       "      <td>female</td>\n",
       "      <td>26.0</td>\n",
       "      <td>0</td>\n",
       "      <td>0</td>\n",
       "      <td>STON/O2. 3101282</td>\n",
       "      <td>7.9250</td>\n",
       "      <td>NaN</td>\n",
       "      <td>S</td>\n",
       "    </tr>\n",
       "    <tr>\n",
       "      <th>3</th>\n",
       "      <td>4</td>\n",
       "      <td>1</td>\n",
       "      <td>1</td>\n",
       "      <td>Futrelle, Mrs. Jacques Heath (Lily May Peel)</td>\n",
       "      <td>female</td>\n",
       "      <td>35.0</td>\n",
       "      <td>1</td>\n",
       "      <td>0</td>\n",
       "      <td>113803</td>\n",
       "      <td>53.1000</td>\n",
       "      <td>C123</td>\n",
       "      <td>S</td>\n",
       "    </tr>\n",
       "    <tr>\n",
       "      <th>4</th>\n",
       "      <td>5</td>\n",
       "      <td>0</td>\n",
       "      <td>3</td>\n",
       "      <td>Allen, Mr. William Henry</td>\n",
       "      <td>male</td>\n",
       "      <td>35.0</td>\n",
       "      <td>0</td>\n",
       "      <td>0</td>\n",
       "      <td>373450</td>\n",
       "      <td>8.0500</td>\n",
       "      <td>NaN</td>\n",
       "      <td>S</td>\n",
       "    </tr>\n",
       "    <tr>\n",
       "      <th>5</th>\n",
       "      <td>6</td>\n",
       "      <td>0</td>\n",
       "      <td>3</td>\n",
       "      <td>Moran, Mr. James</td>\n",
       "      <td>male</td>\n",
       "      <td>NaN</td>\n",
       "      <td>0</td>\n",
       "      <td>0</td>\n",
       "      <td>330877</td>\n",
       "      <td>8.4583</td>\n",
       "      <td>NaN</td>\n",
       "      <td>Q</td>\n",
       "    </tr>\n",
       "    <tr>\n",
       "      <th>6</th>\n",
       "      <td>7</td>\n",
       "      <td>0</td>\n",
       "      <td>1</td>\n",
       "      <td>McCarthy, Mr. Timothy J</td>\n",
       "      <td>male</td>\n",
       "      <td>54.0</td>\n",
       "      <td>0</td>\n",
       "      <td>0</td>\n",
       "      <td>17463</td>\n",
       "      <td>51.8625</td>\n",
       "      <td>E46</td>\n",
       "      <td>S</td>\n",
       "    </tr>\n",
       "    <tr>\n",
       "      <th>7</th>\n",
       "      <td>8</td>\n",
       "      <td>0</td>\n",
       "      <td>3</td>\n",
       "      <td>Palsson, Master. Gosta Leonard</td>\n",
       "      <td>male</td>\n",
       "      <td>2.0</td>\n",
       "      <td>3</td>\n",
       "      <td>1</td>\n",
       "      <td>349909</td>\n",
       "      <td>21.0750</td>\n",
       "      <td>NaN</td>\n",
       "      <td>S</td>\n",
       "    </tr>\n",
       "    <tr>\n",
       "      <th>8</th>\n",
       "      <td>9</td>\n",
       "      <td>1</td>\n",
       "      <td>3</td>\n",
       "      <td>Johnson, Mrs. Oscar W (Elisabeth Vilhelmina Berg)</td>\n",
       "      <td>female</td>\n",
       "      <td>27.0</td>\n",
       "      <td>0</td>\n",
       "      <td>2</td>\n",
       "      <td>347742</td>\n",
       "      <td>11.1333</td>\n",
       "      <td>NaN</td>\n",
       "      <td>S</td>\n",
       "    </tr>\n",
       "    <tr>\n",
       "      <th>9</th>\n",
       "      <td>10</td>\n",
       "      <td>1</td>\n",
       "      <td>2</td>\n",
       "      <td>Nasser, Mrs. Nicholas (Adele Achem)</td>\n",
       "      <td>female</td>\n",
       "      <td>14.0</td>\n",
       "      <td>1</td>\n",
       "      <td>0</td>\n",
       "      <td>237736</td>\n",
       "      <td>30.0708</td>\n",
       "      <td>NaN</td>\n",
       "      <td>C</td>\n",
       "    </tr>\n",
       "  </tbody>\n",
       "</table>\n",
       "</div>"
      ],
      "text/plain": [
       "   PassengerId  Survived  Pclass  \\\n",
       "0            1         0       3   \n",
       "1            2         1       1   \n",
       "2            3         1       3   \n",
       "3            4         1       1   \n",
       "4            5         0       3   \n",
       "5            6         0       3   \n",
       "6            7         0       1   \n",
       "7            8         0       3   \n",
       "8            9         1       3   \n",
       "9           10         1       2   \n",
       "\n",
       "                                                Name     Sex   Age  SibSp  \\\n",
       "0                            Braund, Mr. Owen Harris    male  22.0      1   \n",
       "1  Cumings, Mrs. John Bradley (Florence Briggs Th...  female  38.0      1   \n",
       "2                             Heikkinen, Miss. Laina  female  26.0      0   \n",
       "3       Futrelle, Mrs. Jacques Heath (Lily May Peel)  female  35.0      1   \n",
       "4                           Allen, Mr. William Henry    male  35.0      0   \n",
       "5                                   Moran, Mr. James    male   NaN      0   \n",
       "6                            McCarthy, Mr. Timothy J    male  54.0      0   \n",
       "7                     Palsson, Master. Gosta Leonard    male   2.0      3   \n",
       "8  Johnson, Mrs. Oscar W (Elisabeth Vilhelmina Berg)  female  27.0      0   \n",
       "9                Nasser, Mrs. Nicholas (Adele Achem)  female  14.0      1   \n",
       "\n",
       "   Parch            Ticket     Fare Cabin Embarked  \n",
       "0      0         A/5 21171   7.2500   NaN        S  \n",
       "1      0          PC 17599  71.2833   C85        C  \n",
       "2      0  STON/O2. 3101282   7.9250   NaN        S  \n",
       "3      0            113803  53.1000  C123        S  \n",
       "4      0            373450   8.0500   NaN        S  \n",
       "5      0            330877   8.4583   NaN        Q  \n",
       "6      0             17463  51.8625   E46        S  \n",
       "7      1            349909  21.0750   NaN        S  \n",
       "8      2            347742  11.1333   NaN        S  \n",
       "9      0            237736  30.0708   NaN        C  "
      ]
     },
     "execution_count": 1080,
     "metadata": {},
     "output_type": "execute_result"
    }
   ],
   "source": [
    "# Read the dataset, show top ten rows\n",
    "X = pd.read_csv(\"train.csv\")\n",
    "X.head(10)"
   ]
  },
  {
   "cell_type": "markdown",
   "metadata": {
    "id": "MciBjuCz0-5O"
   },
   "source": [
    "From the above, we can see a variety of columns. Out of these columns, the ***Survived*** column represents the class values that we wish to predict. A passenger survived from the Titanic if *Survived* is 1 and did not survive from the Titanic if *Survived* is 0. These are our two classes that we will predict (1 and 0). The other columns represent potential features that can be used by the Machine Learning algorithms to learn how to accurately predict the target class.   \n",
    "\n",
    "One important note from the data above is that not every sample contains data for each column. For example, Passenger 6 (Moran, Mr. James) does not contain a value for their *Age* and does not contain the *Cabin* that they were residing in. Since Machine Learning algorithms learn from data, a Data Scientist will need to learn how to accurately fill in the missing data. Robust methods of doing this is beyond the scope of this notebook, but we will be filling in most of the missing data later on through simple means.    \n",
    "\n",
    "Another note is that it is important to consider whether one class is seen more frequently than another class within the data. A class with the most instances is called the *majority* class and a class with least instances is called the *minority* class. If one class contains more instances than another class, the algorithm may focus on learning that majority class more than the minority class. In problems such as cancer diagnosis, this is a major problem (since many more people do not have cancer). Thus, another issue that we will explore in this notebook is the concept of using oversampling  to balance the class distribution. This concept will be explained in detail later in the notebook.  \n",
    "\n",
    "Below is a plot of the number of instances for each class. In this scenario, based on the data available from the training set, more people did not survive on the Titanic than those who did survive (as we would expect in this scenario). Since we cannot simply collect more data on passenger's who survived the Titanic, we will need to think of ways to balance the class distribution."
   ]
  },
  {
   "cell_type": "code",
   "execution_count": 1081,
   "metadata": {
    "id": "Rnx6mn4Z0-5P"
   },
   "outputs": [
    {
     "data": {
      "image/png": "[encoded data removed]",
      "text/plain": [
       "<Figure size 432x288 with 1 Axes>"
      ]
     },
     "metadata": {
      "needs_background": "light"
     },
     "output_type": "display_data"
    }
   ],
   "source": [
    "plt.figure() # Creates a new figure\n",
    "X[\"Survived\"].value_counts().plot(kind=\"bar\", title=\"Survived Distribution\")\n",
    "plt.show()"
   ]
  },
  {
   "cell_type": "markdown",
   "metadata": {
    "id": "tT9brxu60-5P"
   },
   "source": [
    "With this in mind, we will now move the class values from the pandas dataframe X into a numpy array called y. X is typically used to refer to the features and y is typically used to represent the class values."
   ]
  },
  {
   "cell_type": "code",
   "execution_count": 1082,
   "metadata": {
    "id": "9vVgyehh0-5P"
   },
   "outputs": [],
   "source": [
    "# This can ONLY BE DONE ONCE, as we pop the values into a new variable to be used as predicted class\n",
    "y = X.pop(\"Survived\").values"
   ]
  },
  {
   "cell_type": "markdown",
   "metadata": {
    "id": "FqV1kkhy0-5P"
   },
   "source": [
    "Since we have taken a look into the class distribution, we will now take a look into the other attributes available in the dataset. Below we print a list of all available attributes and explore the properties of the *Embarked* column (port where passengers embarked the Titanic)."
   ]
  },
  {
   "cell_type": "code",
   "execution_count": 1083,
   "metadata": {
    "id": "p620peZy0-5P"
   },
   "outputs": [
    {
     "name": "stdout",
     "output_type": "stream",
     "text": [
      "['PassengerId', 'Pclass', 'Name', 'Sex', 'Age', 'SibSp', 'Parch', 'Ticket', 'Fare', 'Cabin', 'Embarked']\n",
      "(891, 11)\n",
      "S    644\n",
      "C    168\n",
      "Q     77\n",
      "Name: Embarked, dtype: int64\n"
     ]
    }
   ],
   "source": [
    "# Show all attributes\n",
    "print(list(X))\n",
    "# Examples of data exploration\n",
    "print(X.shape)\n",
    "print(X['Embarked'].value_counts())"
   ]
  },
  {
   "cell_type": "markdown",
   "metadata": {
    "id": "57zJRqxE0-5P"
   },
   "source": [
    "From the above result, we see that the *Embarked* attribute contains 644 *S* values, 168 *C* values, and 77 *Q* values. But this is actually two less than the total of 891 instances. Thus, there are two missing values within this attribute. We can find these instances via the code below:"
   ]
  },
  {
   "cell_type": "code",
   "execution_count": 1084,
   "metadata": {
    "id": "7Rzd8jtm0-5P"
   },
   "outputs": [
    {
     "data": {
      "text/html": [
       "<div>\n",
       "<style scoped>\n",
       "    .dataframe tbody tr th:only-of-type {\n",
       "        vertical-align: middle;\n",
       "    }\n",
       "\n",
       "    .dataframe tbody tr th {\n",
       "        vertical-align: top;\n",
       "    }\n",
       "\n",
       "    .dataframe thead th {\n",
       "        text-align: right;\n",
       "    }\n",
       "</style>\n",
       "<table border=\"1\" class=\"dataframe\">\n",
       "  <thead>\n",
       "    <tr style=\"text-align: right;\">\n",
       "      <th></th>\n",
       "      <th>PassengerId</th>\n",
       "      <th>Pclass</th>\n",
       "      <th>Name</th>\n",
       "      <th>Sex</th>\n",
       "      <th>Age</th>\n",
       "      <th>SibSp</th>\n",
       "      <th>Parch</th>\n",
       "      <th>Ticket</th>\n",
       "      <th>Fare</th>\n",
       "      <th>Cabin</th>\n",
       "      <th>Embarked</th>\n",
       "    </tr>\n",
       "  </thead>\n",
       "  <tbody>\n",
       "    <tr>\n",
       "      <th>61</th>\n",
       "      <td>62</td>\n",
       "      <td>1</td>\n",
       "      <td>Icard, Miss. Amelie</td>\n",
       "      <td>female</td>\n",
       "      <td>38.0</td>\n",
       "      <td>0</td>\n",
       "      <td>0</td>\n",
       "      <td>113572</td>\n",
       "      <td>80.0</td>\n",
       "      <td>B28</td>\n",
       "      <td>NaN</td>\n",
       "    </tr>\n",
       "    <tr>\n",
       "      <th>829</th>\n",
       "      <td>830</td>\n",
       "      <td>1</td>\n",
       "      <td>Stone, Mrs. George Nelson (Martha Evelyn)</td>\n",
       "      <td>female</td>\n",
       "      <td>62.0</td>\n",
       "      <td>0</td>\n",
       "      <td>0</td>\n",
       "      <td>113572</td>\n",
       "      <td>80.0</td>\n",
       "      <td>B28</td>\n",
       "      <td>NaN</td>\n",
       "    </tr>\n",
       "  </tbody>\n",
       "</table>\n",
       "</div>"
      ],
      "text/plain": [
       "     PassengerId  Pclass                                       Name     Sex  \\\n",
       "61            62       1                        Icard, Miss. Amelie  female   \n",
       "829          830       1  Stone, Mrs. George Nelson (Martha Evelyn)  female   \n",
       "\n",
       "      Age  SibSp  Parch  Ticket  Fare Cabin Embarked  \n",
       "61   38.0      0      0  113572  80.0   B28      NaN  \n",
       "829  62.0      0      0  113572  80.0   B28      NaN  "
      ]
     },
     "execution_count": 1084,
     "metadata": {},
     "output_type": "execute_result"
    }
   ],
   "source": [
    "# Find the rows with a null Embarked value\n",
    "X[X['Embarked'].isnull()]"
   ]
  },
  {
   "cell_type": "markdown",
   "metadata": {
    "id": "mWa-lQkp0-5Q"
   },
   "source": [
    "**(TO DO) Q1 - 2 marks**   \n",
    "Similarly to the above example, explore the *Age* and the *Cabin* attributes by printing which values they contain.  Note that when an attribute has too many possible values, only the first and last values will be shown (with ... in between).\n",
    "\n",
    "Also print the rows where they are missing values. "
   ]
  },
  {
   "cell_type": "code",
   "execution_count": 1085,
   "metadata": {
    "id": "dDWfRoY30-5Q"
   },
   "outputs": [
    {
     "name": "stdout",
     "output_type": "stream",
     "text": [
      "24.00    30\n",
      "22.00    27\n",
      "18.00    26\n",
      "28.00    25\n",
      "19.00    25\n",
      "         ..\n",
      "55.50     1\n",
      "74.00     1\n",
      "0.92      1\n",
      "70.50     1\n",
      "12.00     1\n",
      "Name: Age, Length: 88, dtype: int64\n"
     ]
    },
    {
     "data": {
      "text/html": [
       "<div>\n",
       "<style scoped>\n",
       "    .dataframe tbody tr th:only-of-type {\n",
       "        vertical-align: middle;\n",
       "    }\n",
       "\n",
       "    .dataframe tbody tr th {\n",
       "        vertical-align: top;\n",
       "    }\n",
       "\n",
       "    .dataframe thead th {\n",
       "        text-align: right;\n",
       "    }\n",
       "</style>\n",
       "<table border=\"1\" class=\"dataframe\">\n",
       "  <thead>\n",
       "    <tr style=\"text-align: right;\">\n",
       "      <th></th>\n",
       "      <th>PassengerId</th>\n",
       "      <th>Pclass</th>\n",
       "      <th>Name</th>\n",
       "      <th>Sex</th>\n",
       "      <th>Age</th>\n",
       "      <th>SibSp</th>\n",
       "      <th>Parch</th>\n",
       "      <th>Ticket</th>\n",
       "      <th>Fare</th>\n",
       "      <th>Cabin</th>\n",
       "      <th>Embarked</th>\n",
       "    </tr>\n",
       "  </thead>\n",
       "  <tbody>\n",
       "    <tr>\n",
       "      <th>5</th>\n",
       "      <td>6</td>\n",
       "      <td>3</td>\n",
       "      <td>Moran, Mr. James</td>\n",
       "      <td>male</td>\n",
       "      <td>NaN</td>\n",
       "      <td>0</td>\n",
       "      <td>0</td>\n",
       "      <td>330877</td>\n",
       "      <td>8.4583</td>\n",
       "      <td>NaN</td>\n",
       "      <td>Q</td>\n",
       "    </tr>\n",
       "    <tr>\n",
       "      <th>17</th>\n",
       "      <td>18</td>\n",
       "      <td>2</td>\n",
       "      <td>Williams, Mr. Charles Eugene</td>\n",
       "      <td>male</td>\n",
       "      <td>NaN</td>\n",
       "      <td>0</td>\n",
       "      <td>0</td>\n",
       "      <td>244373</td>\n",
       "      <td>13.0000</td>\n",
       "      <td>NaN</td>\n",
       "      <td>S</td>\n",
       "    </tr>\n",
       "    <tr>\n",
       "      <th>19</th>\n",
       "      <td>20</td>\n",
       "      <td>3</td>\n",
       "      <td>Masselmani, Mrs. Fatima</td>\n",
       "      <td>female</td>\n",
       "      <td>NaN</td>\n",
       "      <td>0</td>\n",
       "      <td>0</td>\n",
       "      <td>2649</td>\n",
       "      <td>7.2250</td>\n",
       "      <td>NaN</td>\n",
       "      <td>C</td>\n",
       "    </tr>\n",
       "    <tr>\n",
       "      <th>26</th>\n",
       "      <td>27</td>\n",
       "      <td>3</td>\n",
       "      <td>Emir, Mr. Farred Chehab</td>\n",
       "      <td>male</td>\n",
       "      <td>NaN</td>\n",
       "      <td>0</td>\n",
       "      <td>0</td>\n",
       "      <td>2631</td>\n",
       "      <td>7.2250</td>\n",
       "      <td>NaN</td>\n",
       "      <td>C</td>\n",
       "    </tr>\n",
       "    <tr>\n",
       "      <th>28</th>\n",
       "      <td>29</td>\n",
       "      <td>3</td>\n",
       "      <td>O'Dwyer, Miss. Ellen \"Nellie\"</td>\n",
       "      <td>female</td>\n",
       "      <td>NaN</td>\n",
       "      <td>0</td>\n",
       "      <td>0</td>\n",
       "      <td>330959</td>\n",
       "      <td>7.8792</td>\n",
       "      <td>NaN</td>\n",
       "      <td>Q</td>\n",
       "    </tr>\n",
       "    <tr>\n",
       "      <th>...</th>\n",
       "      <td>...</td>\n",
       "      <td>...</td>\n",
       "      <td>...</td>\n",
       "      <td>...</td>\n",
       "      <td>...</td>\n",
       "      <td>...</td>\n",
       "      <td>...</td>\n",
       "      <td>...</td>\n",
       "      <td>...</td>\n",
       "      <td>...</td>\n",
       "      <td>...</td>\n",
       "    </tr>\n",
       "    <tr>\n",
       "      <th>859</th>\n",
       "      <td>860</td>\n",
       "      <td>3</td>\n",
       "      <td>Razi, Mr. Raihed</td>\n",
       "      <td>male</td>\n",
       "      <td>NaN</td>\n",
       "      <td>0</td>\n",
       "      <td>0</td>\n",
       "      <td>2629</td>\n",
       "      <td>7.2292</td>\n",
       "      <td>NaN</td>\n",
       "      <td>C</td>\n",
       "    </tr>\n",
       "    <tr>\n",
       "      <th>863</th>\n",
       "      <td>864</td>\n",
       "      <td>3</td>\n",
       "      <td>Sage, Miss. Dorothy Edith \"Dolly\"</td>\n",
       "      <td>female</td>\n",
       "      <td>NaN</td>\n",
       "      <td>8</td>\n",
       "      <td>2</td>\n",
       "      <td>CA. 2343</td>\n",
       "      <td>69.5500</td>\n",
       "      <td>NaN</td>\n",
       "      <td>S</td>\n",
       "    </tr>\n",
       "    <tr>\n",
       "      <th>868</th>\n",
       "      <td>869</td>\n",
       "      <td>3</td>\n",
       "      <td>van Melkebeke, Mr. Philemon</td>\n",
       "      <td>male</td>\n",
       "      <td>NaN</td>\n",
       "      <td>0</td>\n",
       "      <td>0</td>\n",
       "      <td>345777</td>\n",
       "      <td>9.5000</td>\n",
       "      <td>NaN</td>\n",
       "      <td>S</td>\n",
       "    </tr>\n",
       "    <tr>\n",
       "      <th>878</th>\n",
       "      <td>879</td>\n",
       "      <td>3</td>\n",
       "      <td>Laleff, Mr. Kristo</td>\n",
       "      <td>male</td>\n",
       "      <td>NaN</td>\n",
       "      <td>0</td>\n",
       "      <td>0</td>\n",
       "      <td>349217</td>\n",
       "      <td>7.8958</td>\n",
       "      <td>NaN</td>\n",
       "      <td>S</td>\n",
       "    </tr>\n",
       "    <tr>\n",
       "      <th>888</th>\n",
       "      <td>889</td>\n",
       "      <td>3</td>\n",
       "      <td>Johnston, Miss. Catherine Helen \"Carrie\"</td>\n",
       "      <td>female</td>\n",
       "      <td>NaN</td>\n",
       "      <td>1</td>\n",
       "      <td>2</td>\n",
       "      <td>W./C. 6607</td>\n",
       "      <td>23.4500</td>\n",
       "      <td>NaN</td>\n",
       "      <td>S</td>\n",
       "    </tr>\n",
       "  </tbody>\n",
       "</table>\n",
       "<p>177 rows × 11 columns</p>\n",
       "</div>"
      ],
      "text/plain": [
       "     PassengerId  Pclass                                      Name     Sex  \\\n",
       "5              6       3                          Moran, Mr. James    male   \n",
       "17            18       2              Williams, Mr. Charles Eugene    male   \n",
       "19            20       3                   Masselmani, Mrs. Fatima  female   \n",
       "26            27       3                   Emir, Mr. Farred Chehab    male   \n",
       "28            29       3             O'Dwyer, Miss. Ellen \"Nellie\"  female   \n",
       "..           ...     ...                                       ...     ...   \n",
       "859          860       3                          Razi, Mr. Raihed    male   \n",
       "863          864       3         Sage, Miss. Dorothy Edith \"Dolly\"  female   \n",
       "868          869       3               van Melkebeke, Mr. Philemon    male   \n",
       "878          879       3                        Laleff, Mr. Kristo    male   \n",
       "888          889       3  Johnston, Miss. Catherine Helen \"Carrie\"  female   \n",
       "\n",
       "     Age  SibSp  Parch      Ticket     Fare Cabin Embarked  \n",
       "5    NaN      0      0      330877   8.4583   NaN        Q  \n",
       "17   NaN      0      0      244373  13.0000   NaN        S  \n",
       "19   NaN      0      0        2649   7.2250   NaN        C  \n",
       "26   NaN      0      0        2631   7.2250   NaN        C  \n",
       "28   NaN      0      0      330959   7.8792   NaN        Q  \n",
       "..   ...    ...    ...         ...      ...   ...      ...  \n",
       "859  NaN      0      0        2629   7.2292   NaN        C  \n",
       "863  NaN      8      2    CA. 2343  69.5500   NaN        S  \n",
       "868  NaN      0      0      345777   9.5000   NaN        S  \n",
       "878  NaN      0      0      349217   7.8958   NaN        S  \n",
       "888  NaN      1      2  W./C. 6607  23.4500   NaN        S  \n",
       "\n",
       "[177 rows x 11 columns]"
      ]
     },
     "execution_count": 1085,
     "metadata": {},
     "output_type": "execute_result"
    }
   ],
   "source": [
    "# ANSWER Q1: For the Age attribute\n",
    "print(X['Age'].value_counts())\n",
    "X[X['Age'].isnull()]"
   ]
  },
  {
   "cell_type": "code",
   "execution_count": 1086,
   "metadata": {
    "id": "ddpShTvxFvxG"
   },
   "outputs": [
    {
     "name": "stdout",
     "output_type": "stream",
     "text": [
      "G6             4\n",
      "B96 B98        4\n",
      "C23 C25 C27    4\n",
      "E101           3\n",
      "D              3\n",
      "              ..\n",
      "C104           1\n",
      "E10            1\n",
      "B3             1\n",
      "E58            1\n",
      "C45            1\n",
      "Name: Cabin, Length: 147, dtype: int64\n"
     ]
    },
    {
     "data": {
      "text/html": [
       "<div>\n",
       "<style scoped>\n",
       "    .dataframe tbody tr th:only-of-type {\n",
       "        vertical-align: middle;\n",
       "    }\n",
       "\n",
       "    .dataframe tbody tr th {\n",
       "        vertical-align: top;\n",
       "    }\n",
       "\n",
       "    .dataframe thead th {\n",
       "        text-align: right;\n",
       "    }\n",
       "</style>\n",
       "<table border=\"1\" class=\"dataframe\">\n",
       "  <thead>\n",
       "    <tr style=\"text-align: right;\">\n",
       "      <th></th>\n",
       "      <th>PassengerId</th>\n",
       "      <th>Pclass</th>\n",
       "      <th>Name</th>\n",
       "      <th>Sex</th>\n",
       "      <th>Age</th>\n",
       "      <th>SibSp</th>\n",
       "      <th>Parch</th>\n",
       "      <th>Ticket</th>\n",
       "      <th>Fare</th>\n",
       "      <th>Cabin</th>\n",
       "      <th>Embarked</th>\n",
       "    </tr>\n",
       "  </thead>\n",
       "  <tbody>\n",
       "    <tr>\n",
       "      <th>0</th>\n",
       "      <td>1</td>\n",
       "      <td>3</td>\n",
       "      <td>Braund, Mr. Owen Harris</td>\n",
       "      <td>male</td>\n",
       "      <td>22.0</td>\n",
       "      <td>1</td>\n",
       "      <td>0</td>\n",
       "      <td>A/5 21171</td>\n",
       "      <td>7.2500</td>\n",
       "      <td>NaN</td>\n",
       "      <td>S</td>\n",
       "    </tr>\n",
       "    <tr>\n",
       "      <th>2</th>\n",
       "      <td>3</td>\n",
       "      <td>3</td>\n",
       "      <td>Heikkinen, Miss. Laina</td>\n",
       "      <td>female</td>\n",
       "      <td>26.0</td>\n",
       "      <td>0</td>\n",
       "      <td>0</td>\n",
       "      <td>STON/O2. 3101282</td>\n",
       "      <td>7.9250</td>\n",
       "      <td>NaN</td>\n",
       "      <td>S</td>\n",
       "    </tr>\n",
       "    <tr>\n",
       "      <th>4</th>\n",
       "      <td>5</td>\n",
       "      <td>3</td>\n",
       "      <td>Allen, Mr. William Henry</td>\n",
       "      <td>male</td>\n",
       "      <td>35.0</td>\n",
       "      <td>0</td>\n",
       "      <td>0</td>\n",
       "      <td>373450</td>\n",
       "      <td>8.0500</td>\n",
       "      <td>NaN</td>\n",
       "      <td>S</td>\n",
       "    </tr>\n",
       "    <tr>\n",
       "      <th>5</th>\n",
       "      <td>6</td>\n",
       "      <td>3</td>\n",
       "      <td>Moran, Mr. James</td>\n",
       "      <td>male</td>\n",
       "      <td>NaN</td>\n",
       "      <td>0</td>\n",
       "      <td>0</td>\n",
       "      <td>330877</td>\n",
       "      <td>8.4583</td>\n",
       "      <td>NaN</td>\n",
       "      <td>Q</td>\n",
       "    </tr>\n",
       "    <tr>\n",
       "      <th>7</th>\n",
       "      <td>8</td>\n",
       "      <td>3</td>\n",
       "      <td>Palsson, Master. Gosta Leonard</td>\n",
       "      <td>male</td>\n",
       "      <td>2.0</td>\n",
       "      <td>3</td>\n",
       "      <td>1</td>\n",
       "      <td>349909</td>\n",
       "      <td>21.0750</td>\n",
       "      <td>NaN</td>\n",
       "      <td>S</td>\n",
       "    </tr>\n",
       "    <tr>\n",
       "      <th>...</th>\n",
       "      <td>...</td>\n",
       "      <td>...</td>\n",
       "      <td>...</td>\n",
       "      <td>...</td>\n",
       "      <td>...</td>\n",
       "      <td>...</td>\n",
       "      <td>...</td>\n",
       "      <td>...</td>\n",
       "      <td>...</td>\n",
       "      <td>...</td>\n",
       "      <td>...</td>\n",
       "    </tr>\n",
       "    <tr>\n",
       "      <th>884</th>\n",
       "      <td>885</td>\n",
       "      <td>3</td>\n",
       "      <td>Sutehall, Mr. Henry Jr</td>\n",
       "      <td>male</td>\n",
       "      <td>25.0</td>\n",
       "      <td>0</td>\n",
       "      <td>0</td>\n",
       "      <td>SOTON/OQ 392076</td>\n",
       "      <td>7.0500</td>\n",
       "      <td>NaN</td>\n",
       "      <td>S</td>\n",
       "    </tr>\n",
       "    <tr>\n",
       "      <th>885</th>\n",
       "      <td>886</td>\n",
       "      <td>3</td>\n",
       "      <td>Rice, Mrs. William (Margaret Norton)</td>\n",
       "      <td>female</td>\n",
       "      <td>39.0</td>\n",
       "      <td>0</td>\n",
       "      <td>5</td>\n",
       "      <td>382652</td>\n",
       "      <td>29.1250</td>\n",
       "      <td>NaN</td>\n",
       "      <td>Q</td>\n",
       "    </tr>\n",
       "    <tr>\n",
       "      <th>886</th>\n",
       "      <td>887</td>\n",
       "      <td>2</td>\n",
       "      <td>Montvila, Rev. Juozas</td>\n",
       "      <td>male</td>\n",
       "      <td>27.0</td>\n",
       "      <td>0</td>\n",
       "      <td>0</td>\n",
       "      <td>211536</td>\n",
       "      <td>13.0000</td>\n",
       "      <td>NaN</td>\n",
       "      <td>S</td>\n",
       "    </tr>\n",
       "    <tr>\n",
       "      <th>888</th>\n",
       "      <td>889</td>\n",
       "      <td>3</td>\n",
       "      <td>Johnston, Miss. Catherine Helen \"Carrie\"</td>\n",
       "      <td>female</td>\n",
       "      <td>NaN</td>\n",
       "      <td>1</td>\n",
       "      <td>2</td>\n",
       "      <td>W./C. 6607</td>\n",
       "      <td>23.4500</td>\n",
       "      <td>NaN</td>\n",
       "      <td>S</td>\n",
       "    </tr>\n",
       "    <tr>\n",
       "      <th>890</th>\n",
       "      <td>891</td>\n",
       "      <td>3</td>\n",
       "      <td>Dooley, Mr. Patrick</td>\n",
       "      <td>male</td>\n",
       "      <td>32.0</td>\n",
       "      <td>0</td>\n",
       "      <td>0</td>\n",
       "      <td>370376</td>\n",
       "      <td>7.7500</td>\n",
       "      <td>NaN</td>\n",
       "      <td>Q</td>\n",
       "    </tr>\n",
       "  </tbody>\n",
       "</table>\n",
       "<p>687 rows × 11 columns</p>\n",
       "</div>"
      ],
      "text/plain": [
       "     PassengerId  Pclass                                      Name     Sex  \\\n",
       "0              1       3                   Braund, Mr. Owen Harris    male   \n",
       "2              3       3                    Heikkinen, Miss. Laina  female   \n",
       "4              5       3                  Allen, Mr. William Henry    male   \n",
       "5              6       3                          Moran, Mr. James    male   \n",
       "7              8       3            Palsson, Master. Gosta Leonard    male   \n",
       "..           ...     ...                                       ...     ...   \n",
       "884          885       3                    Sutehall, Mr. Henry Jr    male   \n",
       "885          886       3      Rice, Mrs. William (Margaret Norton)  female   \n",
       "886          887       2                     Montvila, Rev. Juozas    male   \n",
       "888          889       3  Johnston, Miss. Catherine Helen \"Carrie\"  female   \n",
       "890          891       3                       Dooley, Mr. Patrick    male   \n",
       "\n",
       "      Age  SibSp  Parch            Ticket     Fare Cabin Embarked  \n",
       "0    22.0      1      0         A/5 21171   7.2500   NaN        S  \n",
       "2    26.0      0      0  STON/O2. 3101282   7.9250   NaN        S  \n",
       "4    35.0      0      0            373450   8.0500   NaN        S  \n",
       "5     NaN      0      0            330877   8.4583   NaN        Q  \n",
       "7     2.0      3      1            349909  21.0750   NaN        S  \n",
       "..    ...    ...    ...               ...      ...   ...      ...  \n",
       "884  25.0      0      0   SOTON/OQ 392076   7.0500   NaN        S  \n",
       "885  39.0      0      5            382652  29.1250   NaN        Q  \n",
       "886  27.0      0      0            211536  13.0000   NaN        S  \n",
       "888   NaN      1      2        W./C. 6607  23.4500   NaN        S  \n",
       "890  32.0      0      0            370376   7.7500   NaN        Q  \n",
       "\n",
       "[687 rows x 11 columns]"
      ]
     },
     "execution_count": 1086,
     "metadata": {},
     "output_type": "execute_result"
    }
   ],
   "source": [
    "# ANSWER Q1: For the Cabin attribute\n",
    "print(X['Cabin'].value_counts())\n",
    "X[X['Cabin'].isnull()]"
   ]
  },
  {
   "cell_type": "markdown",
   "metadata": {
    "id": "1KeWWnE20-5Q"
   },
   "source": [
    "**2. Cleaning the data**    \n",
    "\n",
    "Having explored the dataset, we will now work on cleaning some of the missing values from attributes that we will be using as features for the Machine Learning algorithms.  We will then look at discrete and continuous attributes.\n",
    "\n",
    "***2.1. Missing values***\n",
    "\n",
    "Let's fill in the missing values for the *Age* and *Embarked* attributes. Although it is also possible to do this for the *Cabin* attribute, this attribute requires additional care when filling in its missing values. Thus, this notebook will not be exploring the *Cabin* attribute despite its importance (since the location of the passenger is an important identifier as to whether they survived or did not survive).   \n",
    "\n",
    "For your own interest, the following article does a good job discussing some of the available *imputation* methods: https://towardsdatascience.com/how-to-handle-missing-data-8646b18db0d4. Note that the term *imputation* refers to the process of filling in missing values. In this notebook, we will use trivial methods for imputation."
   ]
  },
  {
   "cell_type": "markdown",
   "metadata": {
    "id": "QpEZhYem0-5Q"
   },
   "source": [
    "For the *Age* attribute, we will fill in the missing values with a trivial method. The missing values will be filled with the mean age of passengers that contain a non-null age value. Although this will likely cause issues, such as making the algorithm learn inaccurate patterns from the mean age values, this is one of many trival approaches to filling in the missing data."
   ]
  },
  {
   "cell_type": "code",
   "execution_count": 1087,
   "metadata": {
    "id": "mPox2k8n0-5Q"
   },
   "outputs": [],
   "source": [
    "# Update the dataframe by filling in all missing age values as the mean of existing age values.\n",
    "X[\"Age\"].fillna(X[\"Age\"].mean(), inplace=True)"
   ]
  },
  {
   "cell_type": "markdown",
   "metadata": {
    "id": "PU9ysp9V0-5Q"
   },
   "source": [
    "For the *Embarked* attribute, we will also use a trivial approach.  We will simply take a random choice between all three possibilities ('S', 'C', 'Q')."
   ]
  },
  {
   "cell_type": "code",
   "execution_count": 1088,
   "metadata": {
    "id": "0mAjgIyH8fIh"
   },
   "outputs": [
    {
     "name": "stdout",
     "output_type": "stream",
     "text": [
      "['S', 'C', 'Q']\n"
     ]
    }
   ],
   "source": [
    "import random\n",
    "poss = X['Embarked'].value_counts().index.tolist()\n",
    "print(poss)\n",
    "X[\"Embarked\"].fillna(random.choice(poss), inplace=True)"
   ]
  },
  {
   "cell_type": "markdown",
   "metadata": {
    "id": "5yQvc_RC_1Oz"
   },
   "source": [
    "***2.2. Discrete/Continuous features***\n",
    "\n",
    "Before selecting which features to use, we will convert the categorical data (discrete attributes) within the *Sex* and *Embarked* columns to be numerical. This will be done via One-Hot-Encoding, where each possible categorical value for an attribute is made to be its own attribute. Then, only one of these three attributes will contain the value 1 for a row, where the others contain 0. In the next notebook we will explore the OneHotEncoder provided by sklearn, but we will handle this manually with pandas for this notebook (via the *get_dummies* function).\n",
    "\n",
    "This one-hot encoding is necessary for the logistic regression classifier (which we will use later).  We will also use a Naive Bayes classifier later which works well on discrete features, but the sklearn version allows it to work on continuous features as well, incorporating a bin-splitting (discretization).  So if all are attributes are continuous, we will be ok with both learners later on."
   ]
  },
  {
   "cell_type": "code",
   "execution_count": 1089,
   "metadata": {
    "id": "llwkTEam0-5S"
   },
   "outputs": [
    {
     "data": {
      "text/html": [
       "<div>\n",
       "<style scoped>\n",
       "    .dataframe tbody tr th:only-of-type {\n",
       "        vertical-align: middle;\n",
       "    }\n",
       "\n",
       "    .dataframe tbody tr th {\n",
       "        vertical-align: top;\n",
       "    }\n",
       "\n",
       "    .dataframe thead th {\n",
       "        text-align: right;\n",
       "    }\n",
       "</style>\n",
       "<table border=\"1\" class=\"dataframe\">\n",
       "  <thead>\n",
       "    <tr style=\"text-align: right;\">\n",
       "      <th></th>\n",
       "      <th>PassengerId</th>\n",
       "      <th>Pclass</th>\n",
       "      <th>Name</th>\n",
       "      <th>Sex</th>\n",
       "      <th>Age</th>\n",
       "      <th>SibSp</th>\n",
       "      <th>Parch</th>\n",
       "      <th>Ticket</th>\n",
       "      <th>Fare</th>\n",
       "      <th>Cabin</th>\n",
       "      <th>Embarked</th>\n",
       "    </tr>\n",
       "  </thead>\n",
       "  <tbody>\n",
       "    <tr>\n",
       "      <th>0</th>\n",
       "      <td>1</td>\n",
       "      <td>3</td>\n",
       "      <td>Braund, Mr. Owen Harris</td>\n",
       "      <td>male</td>\n",
       "      <td>22.0</td>\n",
       "      <td>1</td>\n",
       "      <td>0</td>\n",
       "      <td>A/5 21171</td>\n",
       "      <td>7.2500</td>\n",
       "      <td>NaN</td>\n",
       "      <td>S</td>\n",
       "    </tr>\n",
       "    <tr>\n",
       "      <th>1</th>\n",
       "      <td>2</td>\n",
       "      <td>1</td>\n",
       "      <td>Cumings, Mrs. John Bradley (Florence Briggs Th...</td>\n",
       "      <td>female</td>\n",
       "      <td>38.0</td>\n",
       "      <td>1</td>\n",
       "      <td>0</td>\n",
       "      <td>PC 17599</td>\n",
       "      <td>71.2833</td>\n",
       "      <td>C85</td>\n",
       "      <td>C</td>\n",
       "    </tr>\n",
       "    <tr>\n",
       "      <th>2</th>\n",
       "      <td>3</td>\n",
       "      <td>3</td>\n",
       "      <td>Heikkinen, Miss. Laina</td>\n",
       "      <td>female</td>\n",
       "      <td>26.0</td>\n",
       "      <td>0</td>\n",
       "      <td>0</td>\n",
       "      <td>STON/O2. 3101282</td>\n",
       "      <td>7.9250</td>\n",
       "      <td>NaN</td>\n",
       "      <td>S</td>\n",
       "    </tr>\n",
       "    <tr>\n",
       "      <th>3</th>\n",
       "      <td>4</td>\n",
       "      <td>1</td>\n",
       "      <td>Futrelle, Mrs. Jacques Heath (Lily May Peel)</td>\n",
       "      <td>female</td>\n",
       "      <td>35.0</td>\n",
       "      <td>1</td>\n",
       "      <td>0</td>\n",
       "      <td>113803</td>\n",
       "      <td>53.1000</td>\n",
       "      <td>C123</td>\n",
       "      <td>S</td>\n",
       "    </tr>\n",
       "    <tr>\n",
       "      <th>4</th>\n",
       "      <td>5</td>\n",
       "      <td>3</td>\n",
       "      <td>Allen, Mr. William Henry</td>\n",
       "      <td>male</td>\n",
       "      <td>35.0</td>\n",
       "      <td>0</td>\n",
       "      <td>0</td>\n",
       "      <td>373450</td>\n",
       "      <td>8.0500</td>\n",
       "      <td>NaN</td>\n",
       "      <td>S</td>\n",
       "    </tr>\n",
       "  </tbody>\n",
       "</table>\n",
       "</div>"
      ],
      "text/plain": [
       "   PassengerId  Pclass                                               Name  \\\n",
       "0            1       3                            Braund, Mr. Owen Harris   \n",
       "1            2       1  Cumings, Mrs. John Bradley (Florence Briggs Th...   \n",
       "2            3       3                             Heikkinen, Miss. Laina   \n",
       "3            4       1       Futrelle, Mrs. Jacques Heath (Lily May Peel)   \n",
       "4            5       3                           Allen, Mr. William Henry   \n",
       "\n",
       "      Sex   Age  SibSp  Parch            Ticket     Fare Cabin Embarked  \n",
       "0    male  22.0      1      0         A/5 21171   7.2500   NaN        S  \n",
       "1  female  38.0      1      0          PC 17599  71.2833   C85        C  \n",
       "2  female  26.0      0      0  STON/O2. 3101282   7.9250   NaN        S  \n",
       "3  female  35.0      1      0            113803  53.1000  C123        S  \n",
       "4    male  35.0      0      0            373450   8.0500   NaN        S  "
      ]
     },
     "execution_count": 1089,
     "metadata": {},
     "output_type": "execute_result"
    }
   ],
   "source": [
    "X.head()"
   ]
  },
  {
   "cell_type": "code",
   "execution_count": 1090,
   "metadata": {
    "id": "5bGQaaoY0-5S"
   },
   "outputs": [],
   "source": [
    "# Convert the categorical values stored within the Sex column to be numerical via One-Hot-Encoding\n",
    "X = pd.concat([X, pd.get_dummies(X['Sex'], prefix='Sex')], axis=1)\n",
    "# Drop the original column\n",
    "X.drop(['Sex'], axis=1, inplace=True)\n",
    "# Convert the categorical values stored within the Embarked column to be numerical via One-Hot-Encoding\n",
    "X = pd.concat([X, pd.get_dummies(X['Embarked'], prefix='Embarked')], axis=1)\n",
    "# Drop the original column\n",
    "X.drop(['Embarked'], axis=1, inplace=True)"
   ]
  },
  {
   "cell_type": "markdown",
   "metadata": {
    "id": "3uAFnN-D0-5S"
   },
   "source": [
    "Let us take a final look at the first 5 entries in our dataset. Look at how the columns differ from the output above."
   ]
  },
  {
   "cell_type": "code",
   "execution_count": 1091,
   "metadata": {
    "id": "V15utYAe0-5S"
   },
   "outputs": [
    {
     "data": {
      "text/html": [
       "<div>\n",
       "<style scoped>\n",
       "    .dataframe tbody tr th:only-of-type {\n",
       "        vertical-align: middle;\n",
       "    }\n",
       "\n",
       "    .dataframe tbody tr th {\n",
       "        vertical-align: top;\n",
       "    }\n",
       "\n",
       "    .dataframe thead th {\n",
       "        text-align: right;\n",
       "    }\n",
       "</style>\n",
       "<table border=\"1\" class=\"dataframe\">\n",
       "  <thead>\n",
       "    <tr style=\"text-align: right;\">\n",
       "      <th></th>\n",
       "      <th>PassengerId</th>\n",
       "      <th>Pclass</th>\n",
       "      <th>Name</th>\n",
       "      <th>Age</th>\n",
       "      <th>SibSp</th>\n",
       "      <th>Parch</th>\n",
       "      <th>Ticket</th>\n",
       "      <th>Fare</th>\n",
       "      <th>Cabin</th>\n",
       "      <th>Sex_female</th>\n",
       "      <th>Sex_male</th>\n",
       "      <th>Embarked_C</th>\n",
       "      <th>Embarked_Q</th>\n",
       "      <th>Embarked_S</th>\n",
       "    </tr>\n",
       "  </thead>\n",
       "  <tbody>\n",
       "    <tr>\n",
       "      <th>0</th>\n",
       "      <td>1</td>\n",
       "      <td>3</td>\n",
       "      <td>Braund, Mr. Owen Harris</td>\n",
       "      <td>22.0</td>\n",
       "      <td>1</td>\n",
       "      <td>0</td>\n",
       "      <td>A/5 21171</td>\n",
       "      <td>7.2500</td>\n",
       "      <td>NaN</td>\n",
       "      <td>0</td>\n",
       "      <td>1</td>\n",
       "      <td>0</td>\n",
       "      <td>0</td>\n",
       "      <td>1</td>\n",
       "    </tr>\n",
       "    <tr>\n",
       "      <th>1</th>\n",
       "      <td>2</td>\n",
       "      <td>1</td>\n",
       "      <td>Cumings, Mrs. John Bradley (Florence Briggs Th...</td>\n",
       "      <td>38.0</td>\n",
       "      <td>1</td>\n",
       "      <td>0</td>\n",
       "      <td>PC 17599</td>\n",
       "      <td>71.2833</td>\n",
       "      <td>C85</td>\n",
       "      <td>1</td>\n",
       "      <td>0</td>\n",
       "      <td>1</td>\n",
       "      <td>0</td>\n",
       "      <td>0</td>\n",
       "    </tr>\n",
       "    <tr>\n",
       "      <th>2</th>\n",
       "      <td>3</td>\n",
       "      <td>3</td>\n",
       "      <td>Heikkinen, Miss. Laina</td>\n",
       "      <td>26.0</td>\n",
       "      <td>0</td>\n",
       "      <td>0</td>\n",
       "      <td>STON/O2. 3101282</td>\n",
       "      <td>7.9250</td>\n",
       "      <td>NaN</td>\n",
       "      <td>1</td>\n",
       "      <td>0</td>\n",
       "      <td>0</td>\n",
       "      <td>0</td>\n",
       "      <td>1</td>\n",
       "    </tr>\n",
       "    <tr>\n",
       "      <th>3</th>\n",
       "      <td>4</td>\n",
       "      <td>1</td>\n",
       "      <td>Futrelle, Mrs. Jacques Heath (Lily May Peel)</td>\n",
       "      <td>35.0</td>\n",
       "      <td>1</td>\n",
       "      <td>0</td>\n",
       "      <td>113803</td>\n",
       "      <td>53.1000</td>\n",
       "      <td>C123</td>\n",
       "      <td>1</td>\n",
       "      <td>0</td>\n",
       "      <td>0</td>\n",
       "      <td>0</td>\n",
       "      <td>1</td>\n",
       "    </tr>\n",
       "    <tr>\n",
       "      <th>4</th>\n",
       "      <td>5</td>\n",
       "      <td>3</td>\n",
       "      <td>Allen, Mr. William Henry</td>\n",
       "      <td>35.0</td>\n",
       "      <td>0</td>\n",
       "      <td>0</td>\n",
       "      <td>373450</td>\n",
       "      <td>8.0500</td>\n",
       "      <td>NaN</td>\n",
       "      <td>0</td>\n",
       "      <td>1</td>\n",
       "      <td>0</td>\n",
       "      <td>0</td>\n",
       "      <td>1</td>\n",
       "    </tr>\n",
       "  </tbody>\n",
       "</table>\n",
       "</div>"
      ],
      "text/plain": [
       "   PassengerId  Pclass                                               Name  \\\n",
       "0            1       3                            Braund, Mr. Owen Harris   \n",
       "1            2       1  Cumings, Mrs. John Bradley (Florence Briggs Th...   \n",
       "2            3       3                             Heikkinen, Miss. Laina   \n",
       "3            4       1       Futrelle, Mrs. Jacques Heath (Lily May Peel)   \n",
       "4            5       3                           Allen, Mr. William Henry   \n",
       "\n",
       "    Age  SibSp  Parch            Ticket     Fare Cabin  Sex_female  Sex_male  \\\n",
       "0  22.0      1      0         A/5 21171   7.2500   NaN           0         1   \n",
       "1  38.0      1      0          PC 17599  71.2833   C85           1         0   \n",
       "2  26.0      0      0  STON/O2. 3101282   7.9250   NaN           1         0   \n",
       "3  35.0      1      0            113803  53.1000  C123           1         0   \n",
       "4  35.0      0      0            373450   8.0500   NaN           0         1   \n",
       "\n",
       "   Embarked_C  Embarked_Q  Embarked_S  \n",
       "0           0           0           1  \n",
       "1           1           0           0  \n",
       "2           0           0           1  \n",
       "3           0           0           1  \n",
       "4           0           0           1  "
      ]
     },
     "execution_count": 1091,
     "metadata": {},
     "output_type": "execute_result"
    }
   ],
   "source": [
    "X.head()"
   ]
  },
  {
   "cell_type": "markdown",
   "metadata": {
    "id": "AloMxZcg0-5S"
   },
   "source": [
    "**3. Feature selection and defining the train and validation sets**    \n",
    "\n",
    "With the data ready to be used, we will now select the features that we will be working with and define the training and validation sets from the available data. For our feature selection we will simply be selecting all non-null attributes except for the *PassengerId*, *Ticket* and *Name*.   \n",
    "\n",
    "*PassengerId* is a unique number for each passenger and therefore cannot provide any useful patterns regarding the target class values. The names (attribute (*Name*) are also unlikely to provide any insight as to whether a passenger did or did not survive.         \n",
    "\n",
    "*Ticket* is a value that does not seem to provide any useful information either. Therefore we will not use it.\n",
    "\n",
    "Let us look at the remaining attributes to see if any still contain null values."
   ]
  },
  {
   "cell_type": "code",
   "execution_count": 1092,
   "metadata": {
    "id": "s0HOTVzG0-5S"
   },
   "outputs": [
    {
     "data": {
      "text/plain": [
       "PassengerId      0\n",
       "Pclass           0\n",
       "Name             0\n",
       "Age              0\n",
       "SibSp            0\n",
       "Parch            0\n",
       "Ticket           0\n",
       "Fare             0\n",
       "Cabin          687\n",
       "Sex_female       0\n",
       "Sex_male         0\n",
       "Embarked_C       0\n",
       "Embarked_Q       0\n",
       "Embarked_S       0\n",
       "dtype: int64"
      ]
     },
     "execution_count": 1092,
     "metadata": {},
     "output_type": "execute_result"
    }
   ],
   "source": [
    "# Look at what is null\n",
    "X.isnull().sum()"
   ]
  },
  {
   "cell_type": "markdown",
   "metadata": {
    "id": "fvwbdxvX0-5S"
   },
   "source": [
    "As we can see, all attributes except for *Cabin* contain no missing values. Although *Cabin* is important, we will exclude it since we did not properly clean it and majority of the data is missing a value. Although we can skip any rows that do not contain a *Cabin* value or can assign an 'unknown' value to missing values, there are too many missing values for this to be reasonable.    \n"
   ]
  },
  {
   "cell_type": "code",
   "execution_count": 1093,
   "metadata": {
    "id": "SRQxWCEW0-5S"
   },
   "outputs": [],
   "source": [
    "# Define the list of attributes to use as features for the algorithms.\n",
    "featureSet = ['Pclass', 'Sex_female', 'Sex_male', 'Age', 'SibSp', \n",
    "              'Parch', 'Fare', 'Embarked_C', 'Embarked_Q', 'Embarked_S']"
   ]
  },
  {
   "cell_type": "code",
   "execution_count": 1094,
   "metadata": {
    "id": "C-pEVgqK0-5S"
   },
   "outputs": [],
   "source": [
    "# Set the dataframe to only contain the desired variables\n",
    "X = X[featureSet].copy()"
   ]
  },
  {
   "cell_type": "markdown",
   "metadata": {
    "id": "i7GFJvjF0-5T"
   },
   "source": [
    "With the features selected, we will now split the data into a training and validation set from the available data. Although sklearn calls the function \"train_test_split\", we know that we are dividing the original training set into a train and validation set."
   ]
  },
  {
   "cell_type": "code",
   "execution_count": 1095,
   "metadata": {
    "id": "fccerth60-5T"
   },
   "outputs": [
    {
     "name": "stdout",
     "output_type": "stream",
     "text": [
      "(712, 10)\n",
      "(179,)\n"
     ]
    }
   ],
   "source": [
    "# split the large dataset into train and test\n",
    "X_train, X_val, y_train, y_val = train_test_split(X, y, test_size = 0.2, random_state=2)\n",
    "# Look at the shape of the outputs\n",
    "print(X_train.shape)\n",
    "print(y_val.shape)"
   ]
  },
  {
   "cell_type": "code",
   "execution_count": 1096,
   "metadata": {
    "id": "3wf2GB1V0-5T"
   },
   "outputs": [
    {
     "data": {
      "text/html": [
       "<div>\n",
       "<style scoped>\n",
       "    .dataframe tbody tr th:only-of-type {\n",
       "        vertical-align: middle;\n",
       "    }\n",
       "\n",
       "    .dataframe tbody tr th {\n",
       "        vertical-align: top;\n",
       "    }\n",
       "\n",
       "    .dataframe thead th {\n",
       "        text-align: right;\n",
       "    }\n",
       "</style>\n",
       "<table border=\"1\" class=\"dataframe\">\n",
       "  <thead>\n",
       "    <tr style=\"text-align: right;\">\n",
       "      <th></th>\n",
       "      <th>Pclass</th>\n",
       "      <th>Sex_female</th>\n",
       "      <th>Sex_male</th>\n",
       "      <th>Age</th>\n",
       "      <th>SibSp</th>\n",
       "      <th>Parch</th>\n",
       "      <th>Fare</th>\n",
       "      <th>Embarked_C</th>\n",
       "      <th>Embarked_Q</th>\n",
       "      <th>Embarked_S</th>\n",
       "    </tr>\n",
       "  </thead>\n",
       "  <tbody>\n",
       "    <tr>\n",
       "      <th>30</th>\n",
       "      <td>1</td>\n",
       "      <td>0</td>\n",
       "      <td>1</td>\n",
       "      <td>40.0</td>\n",
       "      <td>0</td>\n",
       "      <td>0</td>\n",
       "      <td>27.7208</td>\n",
       "      <td>1</td>\n",
       "      <td>0</td>\n",
       "      <td>0</td>\n",
       "    </tr>\n",
       "    <tr>\n",
       "      <th>10</th>\n",
       "      <td>3</td>\n",
       "      <td>1</td>\n",
       "      <td>0</td>\n",
       "      <td>4.0</td>\n",
       "      <td>1</td>\n",
       "      <td>1</td>\n",
       "      <td>16.7000</td>\n",
       "      <td>0</td>\n",
       "      <td>0</td>\n",
       "      <td>1</td>\n",
       "    </tr>\n",
       "    <tr>\n",
       "      <th>873</th>\n",
       "      <td>3</td>\n",
       "      <td>0</td>\n",
       "      <td>1</td>\n",
       "      <td>47.0</td>\n",
       "      <td>0</td>\n",
       "      <td>0</td>\n",
       "      <td>9.0000</td>\n",
       "      <td>0</td>\n",
       "      <td>0</td>\n",
       "      <td>1</td>\n",
       "    </tr>\n",
       "    <tr>\n",
       "      <th>182</th>\n",
       "      <td>3</td>\n",
       "      <td>0</td>\n",
       "      <td>1</td>\n",
       "      <td>9.0</td>\n",
       "      <td>4</td>\n",
       "      <td>2</td>\n",
       "      <td>31.3875</td>\n",
       "      <td>0</td>\n",
       "      <td>0</td>\n",
       "      <td>1</td>\n",
       "    </tr>\n",
       "    <tr>\n",
       "      <th>876</th>\n",
       "      <td>3</td>\n",
       "      <td>0</td>\n",
       "      <td>1</td>\n",
       "      <td>20.0</td>\n",
       "      <td>0</td>\n",
       "      <td>0</td>\n",
       "      <td>9.8458</td>\n",
       "      <td>0</td>\n",
       "      <td>0</td>\n",
       "      <td>1</td>\n",
       "    </tr>\n",
       "  </tbody>\n",
       "</table>\n",
       "</div>"
      ],
      "text/plain": [
       "     Pclass  Sex_female  Sex_male   Age  SibSp  Parch     Fare  Embarked_C  \\\n",
       "30        1           0         1  40.0      0      0  27.7208           1   \n",
       "10        3           1         0   4.0      1      1  16.7000           0   \n",
       "873       3           0         1  47.0      0      0   9.0000           0   \n",
       "182       3           0         1   9.0      4      2  31.3875           0   \n",
       "876       3           0         1  20.0      0      0   9.8458           0   \n",
       "\n",
       "     Embarked_Q  Embarked_S  \n",
       "30            0           0  \n",
       "10            0           1  \n",
       "873           0           1  \n",
       "182           0           1  \n",
       "876           0           1  "
      ]
     },
     "execution_count": 1096,
     "metadata": {},
     "output_type": "execute_result"
    }
   ],
   "source": [
    "# Look at the training set\n",
    "X_train.head()"
   ]
  },
  {
   "cell_type": "code",
   "execution_count": 1097,
   "metadata": {
    "id": "xWaziU030-5T"
   },
   "outputs": [
    {
     "data": {
      "text/html": [
       "<div>\n",
       "<style scoped>\n",
       "    .dataframe tbody tr th:only-of-type {\n",
       "        vertical-align: middle;\n",
       "    }\n",
       "\n",
       "    .dataframe tbody tr th {\n",
       "        vertical-align: top;\n",
       "    }\n",
       "\n",
       "    .dataframe thead th {\n",
       "        text-align: right;\n",
       "    }\n",
       "</style>\n",
       "<table border=\"1\" class=\"dataframe\">\n",
       "  <thead>\n",
       "    <tr style=\"text-align: right;\">\n",
       "      <th></th>\n",
       "      <th>Pclass</th>\n",
       "      <th>Sex_female</th>\n",
       "      <th>Sex_male</th>\n",
       "      <th>Age</th>\n",
       "      <th>SibSp</th>\n",
       "      <th>Parch</th>\n",
       "      <th>Fare</th>\n",
       "      <th>Embarked_C</th>\n",
       "      <th>Embarked_Q</th>\n",
       "      <th>Embarked_S</th>\n",
       "    </tr>\n",
       "  </thead>\n",
       "  <tbody>\n",
       "    <tr>\n",
       "      <th>707</th>\n",
       "      <td>1</td>\n",
       "      <td>0</td>\n",
       "      <td>1</td>\n",
       "      <td>42.0</td>\n",
       "      <td>0</td>\n",
       "      <td>0</td>\n",
       "      <td>26.2875</td>\n",
       "      <td>0</td>\n",
       "      <td>0</td>\n",
       "      <td>1</td>\n",
       "    </tr>\n",
       "    <tr>\n",
       "      <th>37</th>\n",
       "      <td>3</td>\n",
       "      <td>0</td>\n",
       "      <td>1</td>\n",
       "      <td>21.0</td>\n",
       "      <td>0</td>\n",
       "      <td>0</td>\n",
       "      <td>8.0500</td>\n",
       "      <td>0</td>\n",
       "      <td>0</td>\n",
       "      <td>1</td>\n",
       "    </tr>\n",
       "    <tr>\n",
       "      <th>615</th>\n",
       "      <td>2</td>\n",
       "      <td>1</td>\n",
       "      <td>0</td>\n",
       "      <td>24.0</td>\n",
       "      <td>1</td>\n",
       "      <td>2</td>\n",
       "      <td>65.0000</td>\n",
       "      <td>0</td>\n",
       "      <td>0</td>\n",
       "      <td>1</td>\n",
       "    </tr>\n",
       "    <tr>\n",
       "      <th>169</th>\n",
       "      <td>3</td>\n",
       "      <td>0</td>\n",
       "      <td>1</td>\n",
       "      <td>28.0</td>\n",
       "      <td>0</td>\n",
       "      <td>0</td>\n",
       "      <td>56.4958</td>\n",
       "      <td>0</td>\n",
       "      <td>0</td>\n",
       "      <td>1</td>\n",
       "    </tr>\n",
       "    <tr>\n",
       "      <th>68</th>\n",
       "      <td>3</td>\n",
       "      <td>1</td>\n",
       "      <td>0</td>\n",
       "      <td>17.0</td>\n",
       "      <td>4</td>\n",
       "      <td>2</td>\n",
       "      <td>7.9250</td>\n",
       "      <td>0</td>\n",
       "      <td>0</td>\n",
       "      <td>1</td>\n",
       "    </tr>\n",
       "  </tbody>\n",
       "</table>\n",
       "</div>"
      ],
      "text/plain": [
       "     Pclass  Sex_female  Sex_male   Age  SibSp  Parch     Fare  Embarked_C  \\\n",
       "707       1           0         1  42.0      0      0  26.2875           0   \n",
       "37        3           0         1  21.0      0      0   8.0500           0   \n",
       "615       2           1         0  24.0      1      2  65.0000           0   \n",
       "169       3           0         1  28.0      0      0  56.4958           0   \n",
       "68        3           1         0  17.0      4      2   7.9250           0   \n",
       "\n",
       "     Embarked_Q  Embarked_S  \n",
       "707           0           1  \n",
       "37            0           1  \n",
       "615           0           1  \n",
       "169           0           1  \n",
       "68            0           1  "
      ]
     },
     "execution_count": 1097,
     "metadata": {},
     "output_type": "execute_result"
    }
   ],
   "source": [
    "# Look at the validation set\n",
    "X_val.head()"
   ]
  },
  {
   "cell_type": "markdown",
   "metadata": {
    "id": "yT0wl3Pi8kLY"
   },
   "source": [
    "**Understanding feature's relation by data visualization:**\\\n",
    "We can continue to analyze attributes using visualizations. Histograms can help us visualize the relationship between different features, such as age and gender in the figures below. In the 2 figures below, we see a slightly different distribution between men and women, related to age. In men, this distribution is relatively uniform (except for a peak around age 30), but for women, there is a greater proportion between age 18 and 30. The visualization helps to quickly get an idea of the attribute distributions."
   ]
  },
  {
   "cell_type": "code",
   "execution_count": 1098,
   "metadata": {
    "id": "BHFpYYhz8krN"
   },
   "outputs": [
    {
     "data": {
      "text/plain": [
       "<seaborn.axisgrid.FacetGrid at 0x2a44bd84100>"
      ]
     },
     "execution_count": 1098,
     "metadata": {},
     "output_type": "execute_result"
    },
    {
     "data": {
      "image/png": "[encoded data removed]",
      "text/plain": [
       "<Figure size 432x216 with 2 Axes>"
      ]
     },
     "metadata": {
      "needs_background": "light"
     },
     "output_type": "display_data"
    }
   ],
   "source": [
    "# Y = pd.read_csv(\"train.csv\")\n",
    "data_vis= sns.FacetGrid(X_train, col='Sex_female')\n",
    "data_vis.map(plt.hist, 'Age', bins=20)"
   ]
  },
  {
   "cell_type": "markdown",
   "metadata": {
    "id": "w7A6AWX7-lSb"
   },
   "source": [
    "**(TO DO) Q2 - 2 marks** \\\n",
    "(part a) Use data visualisation (as above) to show the relation between:\n",
    "\n",
    "1.   Gender and fare paid.\n",
    "2.   Gender and port of embarcation (either C, Q or S).\n",
    "\n",
    "Present (part b) your interpretation of the histograms."
   ]
  },
  {
   "cell_type": "code",
   "execution_count": 1099,
   "metadata": {
    "id": "WpZUrRwIDvEL"
   },
   "outputs": [
    {
     "data": {
      "text/plain": [
       "<seaborn.axisgrid.FacetGrid at 0x2a44bebe460>"
      ]
     },
     "execution_count": 1099,
     "metadata": {},
     "output_type": "execute_result"
    },
    {
     "data": {
      "image/png": "[encoded data removed]",
      "text/plain": [
       "<Figure size 432x216 with 2 Axes>"
      ]
     },
     "metadata": {
      "needs_background": "light"
     },
     "output_type": "display_data"
    },
    {
     "data": {
      "image/png": "[encoded data removed]",
      "text/plain": [
       "<Figure size 432x216 with 2 Axes>"
      ]
     },
     "metadata": {
      "needs_background": "light"
     },
     "output_type": "display_data"
    },
    {
     "data": {
      "image/png": "[encoded data removed]",
      "text/plain": [
       "<Figure size 432x216 with 2 Axes>"
      ]
     },
     "metadata": {
      "needs_background": "light"
     },
     "output_type": "display_data"
    },
    {
     "data": {
      "image/png": "[encoded data removed]",
      "text/plain": [
       "<Figure size 432x216 with 2 Axes>"
      ]
     },
     "metadata": {
      "needs_background": "light"
     },
     "output_type": "display_data"
    }
   ],
   "source": [
    "# ANSWER Q2 (part a):\n",
    "data_vis = sns.FacetGrid(X_train, col='Sex_female')\n",
    "data_vis.map(plt.hist, 'Fare')\n",
    "\n",
    "data_vis = sns.FacetGrid(X_train, col='Sex_female')\n",
    "data_vis.map(plt.hist, 'Embarked_C')\n",
    "\n",
    "data_vis = sns.FacetGrid(X_train, col='Sex_female')\n",
    "data_vis.map(plt.hist, 'Embarked_Q')\n",
    "\n",
    "data_vis = sns.FacetGrid(X_train, col='Sex_female')\n",
    "data_vis.map(plt.hist, 'Embarked_S')"
   ]
  },
  {
   "cell_type": "markdown",
   "metadata": {
    "id": "_CHKOlKoEBDf"
   },
   "source": [
    "**ANSWER Q2 - part b** \\\n",
    "1. The distribution represented by the histogram seems to show that both men and women paid a lower fare, with more men paying a lower fare in general. It seems that more men paid less, but this could be due to the fact that there were more male passengers, which created an unbalanced data set. However, this theory cannot be considered until the number of male and female passengers are counted, at the very least.\n",
    "\n",
    "2. The distribution seems to show the ratio of embarkment of men and women seem to be pretty consistent regardless of place of embarkment. However, more men seem to embark at S than other places."
   ]
  },
  {
   "cell_type": "markdown",
   "metadata": {
    "id": "NuUu0w510-5T"
   },
   "source": [
    "**4. Evaluation techniques**    \n",
    "\n",
    "Now that we have our training and validation set, we are almost ready to learn models with various learning algorithms. But once these models are learned, we will want to evaluate them. So let's first define our evaluation metrics.\n",
    "\n",
    "Later on we will be using more evaluation techniques to better evaluate the performance of the models. For now, we will define functions to calculate the *Precision*, *Recall*, and *Accuracy* metrics. \n",
    "\n",
    "Precision and recall were discussed in the previous notebook.  The *Accuracy* represents what percentage of classifications the model correctly made. "
   ]
  },
  {
   "cell_type": "code",
   "execution_count": 1100,
   "metadata": {
    "id": "FtcTqHkY0-5T"
   },
   "outputs": [],
   "source": [
    "def precision(actualTags, predictions, classOfInterest):\n",
    "    '''\n",
    "    Calculates the precision for a specific class, given the ground truth and predicted values.\n",
    "    '''\n",
    "    totalFound = 0\n",
    "    for i in range(len(actualTags)):\n",
    "        if (actualTags[i] == classOfInterest and actualTags[i] == predictions[i]):\n",
    "            totalFound += 1\n",
    "    return totalFound / np.count_nonzero(predictions == classOfInterest)"
   ]
  },
  {
   "cell_type": "code",
   "execution_count": 1101,
   "metadata": {
    "id": "y-PonRBj0-5T"
   },
   "outputs": [],
   "source": [
    "def recall(actualTags, predictions, classOfInterest):\n",
    "    '''\n",
    "    Calculates the recall for a specific class, given the ground truth and predicted values.\n",
    "    '''\n",
    "    totalFound = 0\n",
    "    for i in range(len(actualTags)):\n",
    "        if (actualTags[i] == classOfInterest and actualTags[i] == predictions[i]):\n",
    "            totalFound += 1\n",
    "    return totalFound / np.count_nonzero(actualTags == classOfInterest)"
   ]
  },
  {
   "cell_type": "code",
   "execution_count": 1102,
   "metadata": {
    "id": "Jm4ECsc20-5T"
   },
   "outputs": [],
   "source": [
    "def accuracy(actualTags, predictions):\n",
    "    '''\n",
    "    Calculates the average number of correct predictions.\n",
    "        - actualTags: The ground truth\n",
    "        - predictions: What the model predicts\n",
    "    '''\n",
    "    totalFound = 0\n",
    "    for i in range(len(actualTags)):\n",
    "        if (actualTags[i] == predictions[i]):\n",
    "            totalFound += 1\n",
    "    return totalFound / len(predictions)"
   ]
  },
  {
   "cell_type": "code",
   "execution_count": 1103,
   "metadata": {
    "id": "2bNEP3NT0-5T"
   },
   "outputs": [
    {
     "data": {
      "text/plain": [
       "0.4"
      ]
     },
     "execution_count": 1103,
     "metadata": {},
     "output_type": "execute_result"
    }
   ],
   "source": [
    "# Example of calculating accuracy\n",
    "accuracy([0, 1, 1, 1, 0], [1, 1, 1, 0, 1])"
   ]
  },
  {
   "cell_type": "markdown",
   "metadata": {
    "id": "uyrn5Grr0-5T"
   },
   "source": [
    "**5. Naive Bayes**    \n",
    "\n",
    "With the data preprocessed and several evaluation functions defined, we are now ready to use some Machine Learning algorithms to perform the predictions of whether or not a passenger survived on the Titanic.    \n",
    "\n",
    "The first approach that we will use is the Naive Bayes algorithm provided by scikit-learn. This will be a very similar process to what you have done in notebook 4. You will train the model by calling the *fit* function and will retrieve predictions from the model by calling the *predict* function. Unlike last notebook, we already have all of our data preprocessed as numerical features within a pandas dataframe, with the class labels as numpy arrays (y_train and y_val). Thus we will not need to perform any transformations, such as those that were performed in notebook 4.  \n",
    "\n",
    "The first task is to train the model with the .fit() function."
   ]
  },
  {
   "cell_type": "code",
   "execution_count": 1104,
   "metadata": {
    "id": "GqxmjGBf0-5T"
   },
   "outputs": [],
   "source": [
    "# Train the model with the training set by calling the .fit() function\n",
    "# X_train contains the features used to train the model\n",
    "# y_train contains the class labels for the samples from X_train\n",
    "clf_nb = MultinomialNB().fit(X_train, y_train)"
   ]
  },
  {
   "cell_type": "markdown",
   "metadata": {
    "id": "-ZKPvEXN0-5U"
   },
   "source": [
    "We can get then view how the algorithm performs when predicting the samples in the training set through the following code."
   ]
  },
  {
   "cell_type": "code",
   "execution_count": 1105,
   "metadata": {
    "id": "FqvTWl550-5U"
   },
   "outputs": [
    {
     "name": "stdout",
     "output_type": "stream",
     "text": [
      "Comparing the first ten actual values to the predicted values:\n",
      "[0 1 0 0 0 0 0 1 1 0]\n",
      "[0 1 0 1 0 0 0 0 0 0]\n",
      "Calculating the total accuracy for the training set:\n",
      "0.6980337078651685\n"
     ]
    }
   ],
   "source": [
    "print(\"Comparing the first ten actual values to the predicted values:\")\n",
    "# Print the first ten class labels for the training set\n",
    "print(y_train[0:10])\n",
    "# Predict whether the passengers did or did not survive the Titanic on the training set\n",
    "nb_train_predictions = clf_nb.predict(X_train)\n",
    "# Print the first ten predictions\n",
    "print(nb_train_predictions[0:10])\n",
    "print(\"Calculating the total accuracy for the training set:\")\n",
    "print(accuracy(y_train, nb_train_predictions))"
   ]
  },
  {
   "cell_type": "markdown",
   "metadata": {
    "id": "m3kGj7OB0-5U"
   },
   "source": [
    "From the above, we can see that after being trained, the model can correctly predict just under 70% of all samples from the training set. But how well does it perform on the validation set?"
   ]
  },
  {
   "cell_type": "markdown",
   "metadata": {
    "id": "vuCcSuJn0-5U"
   },
   "source": [
    "**(TO DO) Q3 - 3 marks**   \n",
    "Following the example provided above, obtain the predictions from the Naive Bayes model on the entire validation set (X_val, y_val) and print the precision, recall, and accuracy for the validation set (for precision and recall, print individually for both classes, 1 and 0)."
   ]
  },
  {
   "cell_type": "code",
   "execution_count": 1106,
   "metadata": {
    "id": "nQevFw0jHOb4"
   },
   "outputs": [
    {
     "name": "stdout",
     "output_type": "stream",
     "text": [
      "Precision when class = 0: 0.6535433070866141\n",
      "Precision when class = 1: 0.6730769230769231\n",
      "Recall when class = 0: 0.83\n",
      "Recall when class = 1: 0.4430379746835443\n",
      "Accuracy: 0.659217877094972\n"
     ]
    }
   ],
   "source": [
    "# ANSWER Q3 \n",
    "\n",
    "# Get the predictions for the validation set\n",
    "nb_val_predictions = clf_nb.predict(X_val)\n",
    "# Retrieve and print the precision values for class 1 and class 0\n",
    "print(\"Precision when class = 0: \" + str(precision(y_val, nb_val_predictions, 0)))\n",
    "print(\"Precision when class = 1: \" + str(precision(y_val, nb_val_predictions, 1)))\n",
    "# Retrieve and print the recall values for class 1 and class 0\n",
    "print(\"Recall when class = 0: \" + str(recall(y_val, nb_val_predictions, 0)))\n",
    "print(\"Recall when class = 1: \" + str(recall(y_val, nb_val_predictions, 1)))\n",
    "# Retrieve and print the accuracy for the model\n",
    "print(\"Accuracy: \" + str(accuracy(y_val, nb_val_predictions)))"
   ]
  },
  {
   "cell_type": "markdown",
   "metadata": {
    "id": "yTiP4vCh0-5U"
   },
   "source": [
    "**6. Logistic Regression**    \n",
    "\n",
    "We will now try using another Machine Learning algorithm that may or may not perform better than the Naive Bayes approach. Specifically, we will use the Logistic Regression Machine Learning algorithm to predict who did and did not survive on the Titanic.    \n",
    "\n",
    "Since the Logistic Regression algorithm that we will be using also comes from scikit-learn, the general process will be nearly identical to what we have done for the Naive Bayes classifier. The main difference is that we will now be using a different algorithm that contains some options that we will need to set. All of the details of possible ways to tune the Logistic Regression model are available [here](https://scikit-learn.org/stable/modules/generated/sklearn.linear_model.LogisticRegression.html).     \n",
    "\n",
    "We will first initialize and train the model with the training data."
   ]
  },
  {
   "cell_type": "code",
   "execution_count": 1107,
   "metadata": {
    "id": "WEyQJU5o0-5U"
   },
   "outputs": [],
   "source": [
    "# Train the model with the training set by calling the .fit() function\n",
    "# X_train contains the features used to train the model\n",
    "# y_train contains the class labels for the samples from X_train\n",
    "clf_lr = LogisticRegression(solver='lbfgs', max_iter=1000, random_state=1).fit(X_train, y_train)"
   ]
  },
  {
   "cell_type": "markdown",
   "metadata": {
    "id": "mOIweR1R0-5U"
   },
   "source": [
    "Next, we will view how the model performs on the training data to get an idea as to how the training went. Since we trained on this data, we will hopefully have strong results."
   ]
  },
  {
   "cell_type": "code",
   "execution_count": 1108,
   "metadata": {
    "id": "rEhPonk80-5U"
   },
   "outputs": [
    {
     "name": "stdout",
     "output_type": "stream",
     "text": [
      "Comparing the first ten actual values to the predicted values:\n",
      "[0 1 0 0 0 0 0 1 1 0]\n",
      "[0 1 0 0 0 0 0 1 0 0]\n",
      "Calculating the total accuracy for the training set:\n",
      "0.8103932584269663\n"
     ]
    }
   ],
   "source": [
    "print(\"Comparing the first ten actual values to the predicted values:\")\n",
    "# Print the first ten class labels for the training set\n",
    "print(y_train[0:10])\n",
    "# Predict whether the passengers did or did not survive the Titanic on the training set\n",
    "lr_train_predictions = clf_lr.predict(X_train)\n",
    "# Print the first ten predictions\n",
    "print(lr_train_predictions[0:10])\n",
    "print(\"Calculating the total accuracy for the training set:\")\n",
    "print(accuracy(y_train, lr_train_predictions))"
   ]
  },
  {
   "cell_type": "markdown",
   "metadata": {
    "id": "0yghkCkt0-5U"
   },
   "source": [
    "**(TO DO) Q4 - 3 marks**   \n",
    "Following the example provided above, obtain the predictions from the Logistic Regression model on the validation set (X_val, y_val) and print the precision, recall, and accuracy for the validation set."
   ]
  },
  {
   "cell_type": "code",
   "execution_count": 1109,
   "metadata": {
    "id": "MMsxlL7gHdYS"
   },
   "outputs": [
    {
     "name": "stdout",
     "output_type": "stream",
     "text": [
      "Precision when class = 0: 0.7583333333333333\n",
      "Precision when class = 1: 0.847457627118644\n",
      "Recall when class = 0: 0.91\n",
      "Recall when class = 1: 0.6329113924050633\n",
      "Accuracy: 0.7877094972067039\n"
     ]
    }
   ],
   "source": [
    "# ANSWER Q4 - \n",
    "\n",
    "# Get the predictions for the validation set\n",
    "lr_val_predictions = clf_lr.predict(X_val)\n",
    "# Retrieve and print the precision values for class 1 and class 0\n",
    "print(\"Precision when class = 0: \" + str(precision(y_val, lr_val_predictions, 0)))\n",
    "print(\"Precision when class = 1: \" + str(precision(y_val, lr_val_predictions, 1)))\n",
    "# Retrieve and print the recall values for class 1 and class 0\n",
    "print(\"Recall when class = 0: \" + str(recall(y_val, lr_val_predictions, 0)))\n",
    "print(\"Recall when class = 1: \" + str(recall(y_val, lr_val_predictions, 1)))\n",
    "# Retrieve and print the accuracy for the model\n",
    "print(\"Accuracy: \" + str(accuracy(y_val, lr_val_predictions)))"
   ]
  },
  {
   "cell_type": "markdown",
   "metadata": {
    "id": "Eb6WiAEf0-5V"
   },
   "source": [
    "**7. More evaluation techniques**    \n",
    "\n",
    "Now that you have trained and tested the models above, you will define two additional evaluation methods. The first will be the Micro-average on precisions and the second will be the Macro-average on precisions. Definitions for these can be found in your course material from Module 4 on Supervised Machine Learning (part 4 - Evaluation).   \n",
    "\n",
    "Although we can also define the Micro- and Macro-averages on recalls, we will not do that for this notebook to avoid having too many evaluation metrics to consider. In reality, each dataset will have evaluation criteria that are more and less important depending on the problem."
   ]
  },
  {
   "cell_type": "markdown",
   "metadata": {
    "id": "1kB3cXYX0-5V"
   },
   "source": [
    "**(TO DO) Q5 - 2 marks**   \n",
    "In the cell below, complete the definition of the micro_precision_average function. You must use only the parameters provided and cannot use any functionality from scikit-learn's library.  It would be easier to use the function from sklearn, but the purpose here is to learn how to write it."
   ]
  },
  {
   "cell_type": "code",
   "execution_count": 1110,
   "metadata": {
    "id": "kaxzsQTEHtwi"
   },
   "outputs": [],
   "source": [
    "# ANSWER Q5 - \n",
    "def micro_precision_average(actualTags, predictions, class1, class2):\n",
    "    '''\n",
    "    Calculates the Micro-average on precisions.\n",
    "        - actualTags: The ground truth\n",
    "        - predictions: The predicted class values\n",
    "        - class1: The value of the first class\n",
    "        - class2: The value of the second class\n",
    "    '''\n",
    "    truePositiveC1 = 0\n",
    "    for i in range(len(actualTags)):\n",
    "        if (actualTags[i] == class1 and actualTags[i] == predictions[i]):\n",
    "            truePositiveC1 += 1\n",
    "    \n",
    "    truePositiveC2 = 0        \n",
    "    for i in range(len(actualTags)):\n",
    "        if (actualTags[i] == class2 and actualTags[i] == predictions[i]):\n",
    "            truePositiveC2 += 1\n",
    "  \n",
    "    return (truePositiveC1 + truePositiveC2) / np.prod(predictions.shape)    "
   ]
  },
  {
   "cell_type": "markdown",
   "metadata": {
    "id": "Ju01dU580-5V"
   },
   "source": [
    "**(TO DO) Q6 - 2 marks**   \n",
    "In the cell below, complete the definition of the macro_precision_average function. You must use only the parameters provided and cannot use any functionality from scikit-learn's library, since again, the goal is to learn how to write the function."
   ]
  },
  {
   "cell_type": "code",
   "execution_count": 1111,
   "metadata": {
    "id": "_oJUDy1jH7Cr"
   },
   "outputs": [],
   "source": [
    "# ANSWER Q6 - \n",
    "def macro_precision_average(actualTags, predictions, class1, class2):\n",
    "    '''\n",
    "    Calculates the Macro-average on precisions.\n",
    "        - actualTags: The ground truth\n",
    "        - predictions: The predicted class values\n",
    "        - class1: The value of the first class\n",
    "        - class2: The value of the second class\n",
    "    '''\n",
    "    return (precision(actualTags,predictions,class1) + precision(actualTags,predictions,class2))/2\n"
   ]
  },
  {
   "cell_type": "markdown",
   "metadata": {
    "id": "MNaTFl8D0-5V"
   },
   "source": [
    "**(TO DO) Q7 - 2 marks**   \n",
    "To test these evaluation functions, evaluate the Micro- and Macro-averages on the precisions from your testing on the validation set with both the Naive Bayes and Logistic Regression models. Print the results."
   ]
  },
  {
   "cell_type": "code",
   "execution_count": 1112,
   "metadata": {
    "id": "xlndYT_ElLRT"
   },
   "outputs": [
    {
     "name": "stdout",
     "output_type": "stream",
     "text": [
      "For Naive Bayes:\n",
      "Micro-Average for Precision:0.659217877094972\n",
      "Macro-Average for Precision:0.6633101150817686\n",
      "\n",
      "For Logistic Regression:\n",
      "Micro-Average for Precision:0.7877094972067039\n",
      "Macro-average for precision:0.8028954802259887\n"
     ]
    }
   ],
   "source": [
    "# ANSWER Q7 - \n",
    "\n",
    "print(\"For Naive Bayes:\")\n",
    "microAvgNB = micro_precision_average(y_val, nb_val_predictions, 0, 1)\n",
    "print(\"Micro-Average for Precision:{}\".format(microAvgNB))\n",
    "macroAvgNB = macro_precision_average(y_val, nb_val_predictions, 0, 1)\n",
    "print(\"Macro-Average for Precision:{}\".format(macroAvgNB))\n",
    "\n",
    "\n",
    "print(\"\\nFor Logistic Regression:\")\n",
    "microAvgL = micro_precision_average(y_val, lr_val_predictions, 0, 1)\n",
    "print(\"Micro-Average for Precision:{}\".format(microAvgL))\n",
    "macroAvgL = macro_precision_average(y_val, lr_val_predictions, 0, 1)\n",
    "print(\"Macro-average for precision:{}\".format(macroAvgL))"
   ]
  },
  {
   "cell_type": "markdown",
   "metadata": {
    "id": "ANPkAxkA0-5V"
   },
   "source": [
    "**8. Discussion**    \n",
    "\n",
    "As with all Machine Learning experiments, we must use the results obtained to understand which model is better and why. In this scenario we have the precision, recall, average, micro-average, and macro-average values. Below is a discussion question separated into sections for you to answer."
   ]
  },
  {
   "cell_type": "markdown",
   "metadata": {
    "id": "TMUu5vd90-5V"
   },
   "source": [
    "**(TO DO) Q8 (a) - 2 marks**   \n",
    "Copy the outputs for the precision, recall, accuracy, micro-average, and macro-average obtained for both models below (only from the validation tests). Enter each value in the corresponding <td\\> </td\\> tag. For each evaluation approach, mention which Machine Learning model provides the better results."
   ]
  },
  {
   "cell_type": "markdown",
   "metadata": {
    "id": "YypqY0sIKieR"
   },
   "source": [
    "**ANSWER Q8(a) -** \\\n",
    "\n",
    "<table>\n",
    "    <tr>\n",
    "        <td></td>\n",
    "        <td><strong>Naive Bayes</strong></td>\n",
    "        <td><strong>Logistic Regression</strong></td>\n",
    "        <td><strong>Better Model</strong></td>\n",
    "    </tr>\n",
    "    <tr>\n",
    "        <td><strong>Precision (class=0)</strong></td>\n",
    "        <td> 0.6535433070866141</td>\n",
    "        <td>0.7583333333333333</td>\n",
    "        <td>Logistic Regression</td>\n",
    "    </tr>\n",
    "    <tr>\n",
    "        <td><strong>Precision (class=1)</strong></td>\n",
    "        <td>0.6730769230769231</td>\n",
    "        <td>0.847457627118644</td>\n",
    "        <td>Logistic Regression</td>\n",
    "    </tr>\n",
    "    <tr>\n",
    "        <td><strong>Recall (class=0)</strong></td>\n",
    "        <td>0.83</td>\n",
    "        <td>0.91</td>\n",
    "        <td>Logistic Regression</td>\n",
    "    </tr>\n",
    "    <tr>\n",
    "        <td><strong>Recall (class=1)</strong></td>\n",
    "        <td>0.4430379746835443</td>\n",
    "        <td>0.6329113924050633</td>\n",
    "        <td>Logistic Regression</td>\n",
    "    </tr>\n",
    "    <tr>\n",
    "        <td><strong>Accuracy</strong></td>\n",
    "        <td>0.659217877094972</td>\n",
    "        <td>0.7877094972067039</td>\n",
    "        <td>Logistic Regression</td>\n",
    "    </tr>\n",
    "    <tr>\n",
    "        <td><strong>Micro Average Precision</strong></td>\n",
    "        <td>0.659217877094972</td>\n",
    "        <td>0.7877094972067039</td>\n",
    "        <td>Logistic Regression</td>\n",
    "    </tr>\n",
    "    <tr>\n",
    "        <td><strong>Macro Average Precision</strong></td>\n",
    "        <td>0.6633101150817686</td>\n",
    "        <td>0.8028954802259887</td>\n",
    "        <td>Logistic Regression</td>\n",
    "    </tr>    \n",
    "</table>"
   ]
  },
  {
   "cell_type": "markdown",
   "metadata": {
    "id": "hfnzv6h40-5V"
   },
   "source": [
    "**(TO DO) Q8 (b) - 2 marks**   \n",
    "Based on your results, which model performs better at predicting whether a passenger does or does not survive on the Titanic? Justify your answer.     "
   ]
  },
  {
   "cell_type": "markdown",
   "metadata": {
    "id": "OQy2TVOtLbVb"
   },
   "source": [
    "**ANSWER Q8 (b) -** \\\n",
    "Based on my results, the Logistic Regression model performs better than the Naive Bayes model at predicting whether a passenger survives on the Titanic. I base this conclusion on the fact that the Logistic Regression Model showed significant improvements over the Naive Bayes model on all the performance evaluations for precision, recall, accuracy, micro-average precision, and macro-average precison, regardless of the class.\n"
   ]
  },
  {
   "cell_type": "markdown",
   "metadata": {
    "id": "ce3am_ab0-5W"
   },
   "source": [
    "**9. Balancing the class distribution**    \n",
    "\n",
    "As mentioned at the beginning of the notebook, this dataset contains more passengers that did not survived on the Titanic than those who did survive. This results in a class imbalance where the majority class (0) contains more instances than the minority class (1). There are many methods of handling this problem. One method is to simply take the minority class and, through some method, produce more instances of that class. For example, a trivial method could be to randomly select a number instances and duplicate them to match the number of instances from the majority class. This concept is called *oversampling*. You can also remove instances from the majority class to balance the class distribution (called *undersampling*).    \n",
    "\n",
    "For this notebook, oversampling will be performed via imblearn's implementation of a technique called SMOTE. Understanding SMOTE is beyond the scope of this notebook, but more information can be found [here](https://machinelearningmastery.com/smote-oversampling-for-imbalanced-classification/). The important thing to understand is that the number of instances for each class value will be the same by artificially creating new instances of passengers who survived from the Titanic."
   ]
  },
  {
   "cell_type": "code",
   "execution_count": 1113,
   "metadata": {
    "id": "mUagI1fD0-5W"
   },
   "outputs": [],
   "source": [
    "# Define the SMOTE instance\n",
    "smote = SMOTE(random_state=0, sampling_strategy=\"minority\")\n",
    "# Retrieve the oevrsampled data\n",
    "X_os, y_os = smote.fit_resample(X, y)"
   ]
  },
  {
   "cell_type": "markdown",
   "metadata": {
    "id": "0qa4wJ3E0-5W"
   },
   "source": [
    "Note that the oversampled dataset is now defined within X_os and y_os, not X and y. We will be using these values for the remainder of the notebook. Below we now look at how many instances in our new dataset contain the class 0 and how many contain the class 1. These values are now balanced when compared to the plot shown in section 1 of this notebook. Note that X_os is now a numpy array rather than a dataframe due to this conversion. This changes nothing regarding how we use it, but changes the method of plotting the data."
   ]
  },
  {
   "cell_type": "code",
   "execution_count": 1114,
   "metadata": {
    "id": "u8I-LOmy0-5W"
   },
   "outputs": [
    {
     "name": "stdout",
     "output_type": "stream",
     "text": [
      "0 contains 549 instances.\n",
      "1 contains 549 instances.\n"
     ]
    }
   ],
   "source": [
    "# Print the number of instances for each class\n",
    "class_names, totals = np.unique(y_os, return_counts=True)\n",
    "print(str(class_names[0]) + \" contains \" + str(totals[0]) + \" instances.\")\n",
    "print(str(class_names[1]) + \" contains \" + str(totals[1]) + \" instances.\")"
   ]
  },
  {
   "cell_type": "markdown",
   "metadata": {
    "id": "Ndp2TvvF0-5W"
   },
   "source": [
    "With the oversampled dataset, we will now define our new train and validation sets."
   ]
  },
  {
   "cell_type": "code",
   "execution_count": 1115,
   "metadata": {
    "id": "ClkAjTSo0-5W"
   },
   "outputs": [
    {
     "name": "stdout",
     "output_type": "stream",
     "text": [
      "(878, 10)\n",
      "(220,)\n"
     ]
    }
   ],
   "source": [
    "# split the large dataset into train and test\n",
    "X_train_os, X_val_os, y_train_os, y_val_os = train_test_split(X_os, y_os, test_size = 0.2, random_state=2)\n",
    "# Look at the shape of the outputs\n",
    "print(X_train_os.shape)\n",
    "print(y_val_os.shape)"
   ]
  },
  {
   "cell_type": "markdown",
   "metadata": {
    "id": "h8BgGhAN0-5W"
   },
   "source": [
    "With this all defined, we will now train and test a new Naive Bayes and Logistic Regression model, evaluate the models, and determine whether the oversampling provided better results than without the oversampling."
   ]
  },
  {
   "cell_type": "markdown",
   "metadata": {
    "id": "I0oD1K_V0-5W"
   },
   "source": [
    "**(TO DO) Q9 - 10 marks total**   \n",
    "Repeat the Machine Learning experiment performed throughout the previous sections on the new oversampled data. Ensure that you use the appropriate names (***do not forget the _os in the names*** to avoid incorrect solutions).     "
   ]
  },
  {
   "cell_type": "markdown",
   "metadata": {
    "id": "zQ4WQOo10-5W"
   },
   "source": [
    "**(TO DO) Q9 (a) - 3 marks**   \n",
    "Train, test, and evaluate the validation set (with all evaluation metrics) with a Naive Bayes classifier."
   ]
  },
  {
   "cell_type": "code",
   "execution_count": 1116,
   "metadata": {
    "id": "4wGKDEz0MQw6"
   },
   "outputs": [
    {
     "name": "stdout",
     "output_type": "stream",
     "text": [
      "Precision when class = 0: 0.5874125874125874\n",
      "Precision when class = 1: 0.7662337662337663\n",
      "Recall when class = 0: 0.8235294117647058\n",
      "Recall when class = 1: 0.5\n",
      "Accuracy: 0.65\n",
      "Micro-Average for Precision: 0.65\n",
      "Macro-Average for Precision: 0.6768231768231768\n"
     ]
    }
   ],
   "source": [
    "# ANSWER Q9(a) --\n",
    "# Train Naive Bayes Classifier model on oversampled training data\n",
    "clf_nb_os = MultinomialNB().fit(X_train_os, y_train_os)\n",
    "\n",
    "# Get the predictions for the oversampled validation set\n",
    "nb_os_val_predictions = clf_nb_os.predict(X_val_os)\n",
    "\n",
    "# Retrieve and print the precision values for class 0 and class 1\n",
    "print(\"Precision when class = 0: \" + str(precision(y_val_os, nb_os_val_predictions, 0)))\n",
    "print(\"Precision when class = 1: \" + str(precision(y_val_os, nb_os_val_predictions, 1)))\n",
    "\n",
    "# Retrieve and print the recall values for class 0 and class 1\n",
    "print(\"Recall when class = 0: \" + str(recall(y_val_os, nb_os_val_predictions, 0)))\n",
    "print(\"Recall when class = 1: \" + str(recall(y_val_os, nb_os_val_predictions, 1)))\n",
    "\n",
    "# Retrieve and print the accuracy for the model\n",
    "print(\"Accuracy: \" + str(accuracy(y_val_os, nb_os_val_predictions)))\n",
    "\n",
    "# Retrieve and print the Micro Average for Precision\n",
    "print(\"Micro-Average for Precision: \"+ str(micro_precision_average(y_val_os, nb_os_val_predictions, 0, 1)))\n",
    "\n",
    "# Retrieve and print the Macro Average for Precision\n",
    "print(\"Macro-Average for Precision: \"+ str(macro_precision_average(y_val_os, nb_os_val_predictions, 0, 1)))"
   ]
  },
  {
   "cell_type": "markdown",
   "metadata": {
    "id": "PE_4uedU0-5W"
   },
   "source": [
    "**(TO DO) Q9 (b) - 3 marks**   \n",
    "Train, test, and evaluate the validation set (with all evaluation metrics) with a Logistic Regression classifier."
   ]
  },
  {
   "cell_type": "code",
   "execution_count": 1117,
   "metadata": {
    "id": "9nqKE5dxMXxJ"
   },
   "outputs": [
    {
     "name": "stdout",
     "output_type": "stream",
     "text": [
      "Precision when class = 0: 0.8035714285714286\n",
      "Precision when class = 1: 0.8888888888888888\n",
      "Recall when class = 0: 0.8823529411764706\n",
      "Recall when class = 1: 0.8135593220338984\n",
      "Accuracy: 0.8454545454545455\n",
      "Micro-Average for Precision: 0.8454545454545455\n",
      "Macro-Average for Precision: 0.8462301587301587\n"
     ]
    }
   ],
   "source": [
    "# ANSWER Q9(b) --\n",
    "# Train Logistic Regression Classifier model on oversampled training data\n",
    "clf_lr_os = LogisticRegression(solver='lbfgs', max_iter=1000, random_state=1).fit(X_train_os, y_train_os)\n",
    "\n",
    "# Get the predictions for the oversampled validation set\n",
    "lr_os_val_predictions = clf_lr_os.predict(X_val_os)\n",
    "\n",
    "# Retrieve and print the precision values for class 0 and class 1\n",
    "print(\"Precision when class = 0: \" + str(precision(y_val_os, lr_os_val_predictions, 0)))\n",
    "print(\"Precision when class = 1: \" + str(precision(y_val_os, lr_os_val_predictions, 1)))\n",
    "\n",
    "# Retrieve and print the recall values for class 0 and class 1\n",
    "print(\"Recall when class = 0: \" + str(recall(y_val_os, lr_os_val_predictions, 0)))\n",
    "print(\"Recall when class = 1: \" + str(recall(y_val_os, lr_os_val_predictions, 1)))\n",
    "\n",
    "# Retrieve and print the accuracy for the model\n",
    "print(\"Accuracy: \" + str(accuracy(y_val_os, lr_os_val_predictions)))\n",
    "\n",
    "# Retrieve and print the Micro Average for Precision\n",
    "print(\"Micro-Average for Precision: \"+ str(micro_precision_average(y_val_os, lr_os_val_predictions, 0, 1)))\n",
    "\n",
    "# Retrieve and print the Macro Average for Precision\n",
    "print(\"Macro-Average for Precision: \"+ str(macro_precision_average(y_val_os, lr_os_val_predictions, 0, 1)))"
   ]
  },
  {
   "cell_type": "markdown",
   "metadata": {
    "id": "bzB4H9Vf0-5X"
   },
   "source": [
    "**(TO DO) Q9 (c) - 2 marks**   \n",
    "Compare the results between the above two experiments (from Q9 (a) and Q9 (b)), which model is better and why?"
   ]
  },
  {
   "cell_type": "markdown",
   "metadata": {
    "id": "H9sRlrgyMdbx"
   },
   "source": [
    "**ANSWER Q9(c) -** \\\n",
    "\n",
    "<table>\n",
    "    <tr>\n",
    "        <td></td>\n",
    "        <td><strong>Naive Bayes (oversampled)</strong></td>\n",
    "        <td><strong>Logistic Regression (oversampled)</strong></td>\n",
    "        <td><strong>Better Model</strong></td>\n",
    "    </tr>\n",
    "    <tr>\n",
    "        <td><strong>Precision (class=0)</strong></td>\n",
    "        <td>0.5874125874125874</td>\n",
    "        <td>0.8035714285714286</td>\n",
    "        <td>Logistic Regression (oversampled)</td>\n",
    "    </tr>\n",
    "    <tr>\n",
    "        <td><strong>Precision (class=1)</strong></td>\n",
    "        <td>0.7662337662337663</td>\n",
    "        <td>0.8888888888888888</td>\n",
    "        <td>Logistic Regression (oversampled)</td>\n",
    "    </tr>\n",
    "    <tr>\n",
    "        <td><strong>Recall (class=0)</strong></td>\n",
    "        <td>0.8235294117647058</td>\n",
    "        <td>0.8823529411764706</td>\n",
    "        <td>Logistic Regression (oversampled)</td>\n",
    "    </tr>\n",
    "    <tr>\n",
    "        <td><strong>Recall (class=1)</strong></td>\n",
    "        <td>0.5</td>\n",
    "        <td>0.8135593220338984</td>\n",
    "        <td>Logistic Regression (oversampled)</td>\n",
    "    </tr>\n",
    "    <tr>\n",
    "        <td><strong>Accuracy</strong></td>\n",
    "        <td>0.65</td>\n",
    "        <td>0.8454545454545455</td>\n",
    "        <td>Logistic Regression (oversampled)</td>\n",
    "    </tr>\n",
    "    <tr>\n",
    "        <td><strong>Micro Average Precision</strong></td>\n",
    "        <td>0.65</td>\n",
    "        <td>0.8454545454545455</td>\n",
    "        <td>Logistic Regression (oversampled)</td>\n",
    "    </tr>\n",
    "    <tr>\n",
    "        <td><strong>Macro Average Precision</strong></td>\n",
    "        <td>0.6768231768231768</td>\n",
    "        <td>0.8462301587301587</td>\n",
    "        <td>Logistic Regression (oversampled)</td>\n",
    "    </tr>    \n",
    "</table>        "
   ]
  },
  {
   "cell_type": "markdown",
   "metadata": {
    "id": "FczVX4Qk0-5X"
   },
   "source": [
    "**(TO DO) Q9 (d) - 2 marks**   \n",
    "Does the model selected from Q9 (c) perform better or worse than the model selected in Q8 (b)? Does this mean that the oversampling helps the Machine Learning learn better or worse in this scenario? Justify your answer.    \n",
    "\n",
    "Note: There is no need to put all the data in another table (you certainly can if you would like to better organize it). Just provide the answers along with justifications as to why."
   ]
  },
  {
   "cell_type": "markdown",
   "metadata": {
    "id": "LbSlSJ7-Mk2p"
   },
   "source": [
    "**ANSWER Q9(d) -** \\\n",
    "The Logistic Regression model in Q9(c) performed noticeably better than the Logistic Regression model in Q8(b). However, the results were slightly mixed for the Naive Bayes model. When comparing the Naive Bayes Model in Q9(c)to the one in Q8(b), there were areas that performed negligibly worse, and areas that performed notably better.\n",
    "\n",
    "The results that showed how the Logistic Regression model improved with the oversampled training data are the precision for class 0 and class 1, the recall for class 1, the accuracy, the micro-average precision, and the macro-average precison. All received notable improvements in their performance measures. However, the recall value for class 0 was the only performance measure that seemed to do slightly worse, dropping from 0.91 to approximately 0.88. It is interesting to note that all the performance measures for the Logistic Regression model in Q9(c) seemed to be more consistent with each other, all their values fell within the range of 0.8 to 0.89. Thus, I believe that it is fair to conclude that oversampling helped to improve the Linear Regression model based on all the evidence presented.\n",
    "\n",
    "The results that demonstrated how the Naive Bayes model performed slightly worse with the oversampled training data are the recall for class 0, the accuracy, and the micro-average precision. All of these performance measures had negligible decreases that were less than approximately 1%. The precision for class 0 saw the largest decrease in performance, which was approximately a 6% reduction. Areas of improvement with the oversampled data were seen in the recall value for class 1 (approximately 6%), precision for for class 1 (approximately 10%), and a negligible improvement for the macro-average precision (which was approximately 2%). To conclude my evaluation, I beleive that oversampling also helped to improve the Naive Bayes model. Although there were some decreases in performance metrics for certain areas, the majority of those decreases were neglible, but there were almost just as many increases in other areas that were more significant.\n",
    "\n",
    "Overall, I can conclude for this scenario that oversampling helps the Machine Learning process learn better because of the improvements that occurred based on our two models."
   ]
  }
 ],
 "metadata": {
  "colab": {
   "collapsed_sections": [],
   "name": "CSI4106_SMLTitanic_Fall2021.ipynb",
   "provenance": []
  },
  "kernelspec": {
   "display_name": "Python 3",
   "language": "python",
   "name": "python3"
  },
  "language_info": {
   "codemirror_mode": {
    "name": "ipython",
    "version": 3
   },
   "file_extension": ".py",
   "mimetype": "text/x-python",
   "name": "python",
   "nbconvert_exporter": "python",
   "pygments_lexer": "ipython3",
   "version": "3.8.8"
  }
 },
 "nbformat": 4,
 "nbformat_minor": 1
}
