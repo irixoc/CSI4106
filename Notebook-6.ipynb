{
 "cells": [
  {
   "cell_type": "markdown",
   "metadata": {
    "id": "FNySfomU9yRB"
   },
   "source": [
    "# Notebook 6 - Neural Networks (MLP)"
   ]
  },
  {
   "cell_type": "markdown",
   "metadata": {
    "id": "pkpctPHb9yRE"
   },
   "source": [
    "CSI4106 Artificial Intelligence  \n",
    "Fall 2021. \\\n",
    "Version 1 (2020) prepared by Julian Templeton and Caroline Barrière.  Version 2 (2021) modified by Caroline Barrière."
   ]
  },
  {
   "cell_type": "markdown",
   "metadata": {
    "id": "IyAG5k5U9yRE"
   },
   "source": [
    "***INTRODUCTION***:  \n",
    "\n",
    "We are going into the medical domain for this notebook. The supervised classification task tackled in this notebook is about diabetes patient readmission to a hospital, provided a certain set of features describing their physical state, the procedure they went through during their stay, the medications they take, etc.\n",
    "\n",
    "Any *readmitted patient* is very costly for a medical system. It shows to some extent, that the patient was discharged before having fully recovered. The dataset we explore splits readmission into 3 values: before 30 days, after 30 days, and none.  Understanding what conditions brings patients back to the hospital within 30 days is very important for a medical system, as these cases should be minimized.\n",
    "\n",
    "This notebook will allow you to pursue your understanding of experimental set-up for supervised machine learning, in particular supervised classification through the use of multi-layer perceptrons.\n",
    "\n",
    "We will make use of three packages: (1) **scikit-learn**, a great machine learning package, which you've experimented with in the last notebook, (2) **pandas**, a must-have for data science, and (3) **matplotlib** which is a great plotting library (pip install matplotlib).  Make sure you have the LATEST version of scikit-learn (at least version >= 0.20), otherwise some functions (the one-hot-encoder) will not work.\n",
    "\n",
    "As mentioned for the previous notebooks, you always have the option of using Colab if a local installation causes you problems.\n",
    "\n",
    "*PLEASE NOTE:* As this is your 6th notebook this semester, some instructions will be a bit less explicit and may require looking at some online official documentation. You are also given more freedom in the way you code your answers. If you make any assumptions to answer some questions, make sure to state them, so they will be taken into account by the correctors."
   ]
  },
  {
   "cell_type": "markdown",
   "metadata": {
    "id": "MAU16pzK9yRF"
   },
   "source": [
    "***HOMEWORK***:  \n",
    "Go through the notebook by running each cell, one at a time.  \n",
    "\n",
    "Look for **(TO DO)** for the tasks that you need to perform. Do not edit the code outside of the questions which you are asked to answer unless specifically asked. Once you're done, sign the notebook, change the name to StudentNumber-LastName-Notebook6.ipynb, and submit it.  \n",
    "\n",
    "*The notebook will be marked on 30.  \n",
    "Each **(TO DO)** has a number of points associated with it.*\n",
    "***"
   ]
  },
  {
   "cell_type": "markdown",
   "metadata": {
    "id": "sQyylN8O9yRF"
   },
   "source": [
    "**1. Obtaining the dataset**\n",
    "\n",
    "First, read the description of the dataset on Diabetes Readmission (https://www.kaggle.com/brandao/diabetes).\n",
    "\n",
    "Next download the dataset from the UCI archive (click *Data Folder* --> download *dataset_diabetes.zip*):\n",
    "https://archive.ics.uci.edu/ml/datasets/Diabetes+130-US+hospitals+for+years+1999-2008\n",
    "\n",
    "Unzip the file *dataset_diabetes.zip* and there should be a file called *diabetic_data.csv* which we will use for our experiments. "
   ]
  },
  {
   "cell_type": "markdown",
   "metadata": {
    "id": "ABhNjcd-9yRG"
   },
   "source": [
    "**2. Exploring the dataset**  \n",
    "We will use the package *pandas* to read the csv file. Pandas will create a data structure called a dataframe, which will contain all the data. \n",
    "\n",
    "If you get some errors when you import the packages, it's because they are not installed... make sure you do *pip install package_name* (or whichever method you have been using to install the packages) at the command prompt to have access to these packages."
   ]
  },
  {
   "cell_type": "code",
   "execution_count": 293,
   "metadata": {
    "id": "2Mwvs17C9yRH"
   },
   "outputs": [],
   "source": [
    "# Import the required packages for data analysis and machine learning\n",
    "import pandas as pd\n",
    "import sklearn\n",
    "import matplotlib.pyplot as plt"
   ]
  },
  {
   "cell_type": "markdown",
   "metadata": {
    "id": "gW13g1Ui9yRI"
   },
   "source": [
    "The following code reads the csv file into a dataframe and shows the top ten rows from the read data.  \n",
    "Note that ? means that the value is *missing* from the dataset for a particular attribute.  \n",
    "We then look at all the attributes (to understand their meaning, refer to the Kaggle site, as mentioned in the introduction)."
   ]
  },
  {
   "cell_type": "code",
   "execution_count": 294,
   "metadata": {
    "id": "Jy1FDDej9yRJ"
   },
   "outputs": [
    {
     "data": {
      "text/html": [
       "<div>\n",
       "<style scoped>\n",
       "    .dataframe tbody tr th:only-of-type {\n",
       "        vertical-align: middle;\n",
       "    }\n",
       "\n",
       "    .dataframe tbody tr th {\n",
       "        vertical-align: top;\n",
       "    }\n",
       "\n",
       "    .dataframe thead th {\n",
       "        text-align: right;\n",
       "    }\n",
       "</style>\n",
       "<table border=\"1\" class=\"dataframe\">\n",
       "  <thead>\n",
       "    <tr style=\"text-align: right;\">\n",
       "      <th></th>\n",
       "      <th>encounter_id</th>\n",
       "      <th>patient_nbr</th>\n",
       "      <th>race</th>\n",
       "      <th>gender</th>\n",
       "      <th>age</th>\n",
       "      <th>weight</th>\n",
       "      <th>admission_type_id</th>\n",
       "      <th>discharge_disposition_id</th>\n",
       "      <th>admission_source_id</th>\n",
       "      <th>time_in_hospital</th>\n",
       "      <th>...</th>\n",
       "      <th>citoglipton</th>\n",
       "      <th>insulin</th>\n",
       "      <th>glyburide-metformin</th>\n",
       "      <th>glipizide-metformin</th>\n",
       "      <th>glimepiride-pioglitazone</th>\n",
       "      <th>metformin-rosiglitazone</th>\n",
       "      <th>metformin-pioglitazone</th>\n",
       "      <th>change</th>\n",
       "      <th>diabetesMed</th>\n",
       "      <th>readmitted</th>\n",
       "    </tr>\n",
       "  </thead>\n",
       "  <tbody>\n",
       "    <tr>\n",
       "      <th>0</th>\n",
       "      <td>2278392</td>\n",
       "      <td>8222157</td>\n",
       "      <td>Caucasian</td>\n",
       "      <td>Female</td>\n",
       "      <td>[0-10)</td>\n",
       "      <td>?</td>\n",
       "      <td>6</td>\n",
       "      <td>25</td>\n",
       "      <td>1</td>\n",
       "      <td>1</td>\n",
       "      <td>...</td>\n",
       "      <td>No</td>\n",
       "      <td>No</td>\n",
       "      <td>No</td>\n",
       "      <td>No</td>\n",
       "      <td>No</td>\n",
       "      <td>No</td>\n",
       "      <td>No</td>\n",
       "      <td>No</td>\n",
       "      <td>No</td>\n",
       "      <td>NO</td>\n",
       "    </tr>\n",
       "    <tr>\n",
       "      <th>1</th>\n",
       "      <td>149190</td>\n",
       "      <td>55629189</td>\n",
       "      <td>Caucasian</td>\n",
       "      <td>Female</td>\n",
       "      <td>[10-20)</td>\n",
       "      <td>?</td>\n",
       "      <td>1</td>\n",
       "      <td>1</td>\n",
       "      <td>7</td>\n",
       "      <td>3</td>\n",
       "      <td>...</td>\n",
       "      <td>No</td>\n",
       "      <td>Up</td>\n",
       "      <td>No</td>\n",
       "      <td>No</td>\n",
       "      <td>No</td>\n",
       "      <td>No</td>\n",
       "      <td>No</td>\n",
       "      <td>Ch</td>\n",
       "      <td>Yes</td>\n",
       "      <td>&gt;30</td>\n",
       "    </tr>\n",
       "    <tr>\n",
       "      <th>2</th>\n",
       "      <td>64410</td>\n",
       "      <td>86047875</td>\n",
       "      <td>AfricanAmerican</td>\n",
       "      <td>Female</td>\n",
       "      <td>[20-30)</td>\n",
       "      <td>?</td>\n",
       "      <td>1</td>\n",
       "      <td>1</td>\n",
       "      <td>7</td>\n",
       "      <td>2</td>\n",
       "      <td>...</td>\n",
       "      <td>No</td>\n",
       "      <td>No</td>\n",
       "      <td>No</td>\n",
       "      <td>No</td>\n",
       "      <td>No</td>\n",
       "      <td>No</td>\n",
       "      <td>No</td>\n",
       "      <td>No</td>\n",
       "      <td>Yes</td>\n",
       "      <td>NO</td>\n",
       "    </tr>\n",
       "    <tr>\n",
       "      <th>3</th>\n",
       "      <td>500364</td>\n",
       "      <td>82442376</td>\n",
       "      <td>Caucasian</td>\n",
       "      <td>Male</td>\n",
       "      <td>[30-40)</td>\n",
       "      <td>?</td>\n",
       "      <td>1</td>\n",
       "      <td>1</td>\n",
       "      <td>7</td>\n",
       "      <td>2</td>\n",
       "      <td>...</td>\n",
       "      <td>No</td>\n",
       "      <td>Up</td>\n",
       "      <td>No</td>\n",
       "      <td>No</td>\n",
       "      <td>No</td>\n",
       "      <td>No</td>\n",
       "      <td>No</td>\n",
       "      <td>Ch</td>\n",
       "      <td>Yes</td>\n",
       "      <td>NO</td>\n",
       "    </tr>\n",
       "    <tr>\n",
       "      <th>4</th>\n",
       "      <td>16680</td>\n",
       "      <td>42519267</td>\n",
       "      <td>Caucasian</td>\n",
       "      <td>Male</td>\n",
       "      <td>[40-50)</td>\n",
       "      <td>?</td>\n",
       "      <td>1</td>\n",
       "      <td>1</td>\n",
       "      <td>7</td>\n",
       "      <td>1</td>\n",
       "      <td>...</td>\n",
       "      <td>No</td>\n",
       "      <td>Steady</td>\n",
       "      <td>No</td>\n",
       "      <td>No</td>\n",
       "      <td>No</td>\n",
       "      <td>No</td>\n",
       "      <td>No</td>\n",
       "      <td>Ch</td>\n",
       "      <td>Yes</td>\n",
       "      <td>NO</td>\n",
       "    </tr>\n",
       "    <tr>\n",
       "      <th>5</th>\n",
       "      <td>35754</td>\n",
       "      <td>82637451</td>\n",
       "      <td>Caucasian</td>\n",
       "      <td>Male</td>\n",
       "      <td>[50-60)</td>\n",
       "      <td>?</td>\n",
       "      <td>2</td>\n",
       "      <td>1</td>\n",
       "      <td>2</td>\n",
       "      <td>3</td>\n",
       "      <td>...</td>\n",
       "      <td>No</td>\n",
       "      <td>Steady</td>\n",
       "      <td>No</td>\n",
       "      <td>No</td>\n",
       "      <td>No</td>\n",
       "      <td>No</td>\n",
       "      <td>No</td>\n",
       "      <td>No</td>\n",
       "      <td>Yes</td>\n",
       "      <td>&gt;30</td>\n",
       "    </tr>\n",
       "    <tr>\n",
       "      <th>6</th>\n",
       "      <td>55842</td>\n",
       "      <td>84259809</td>\n",
       "      <td>Caucasian</td>\n",
       "      <td>Male</td>\n",
       "      <td>[60-70)</td>\n",
       "      <td>?</td>\n",
       "      <td>3</td>\n",
       "      <td>1</td>\n",
       "      <td>2</td>\n",
       "      <td>4</td>\n",
       "      <td>...</td>\n",
       "      <td>No</td>\n",
       "      <td>Steady</td>\n",
       "      <td>No</td>\n",
       "      <td>No</td>\n",
       "      <td>No</td>\n",
       "      <td>No</td>\n",
       "      <td>No</td>\n",
       "      <td>Ch</td>\n",
       "      <td>Yes</td>\n",
       "      <td>NO</td>\n",
       "    </tr>\n",
       "    <tr>\n",
       "      <th>7</th>\n",
       "      <td>63768</td>\n",
       "      <td>114882984</td>\n",
       "      <td>Caucasian</td>\n",
       "      <td>Male</td>\n",
       "      <td>[70-80)</td>\n",
       "      <td>?</td>\n",
       "      <td>1</td>\n",
       "      <td>1</td>\n",
       "      <td>7</td>\n",
       "      <td>5</td>\n",
       "      <td>...</td>\n",
       "      <td>No</td>\n",
       "      <td>No</td>\n",
       "      <td>No</td>\n",
       "      <td>No</td>\n",
       "      <td>No</td>\n",
       "      <td>No</td>\n",
       "      <td>No</td>\n",
       "      <td>No</td>\n",
       "      <td>Yes</td>\n",
       "      <td>&gt;30</td>\n",
       "    </tr>\n",
       "    <tr>\n",
       "      <th>8</th>\n",
       "      <td>12522</td>\n",
       "      <td>48330783</td>\n",
       "      <td>Caucasian</td>\n",
       "      <td>Female</td>\n",
       "      <td>[80-90)</td>\n",
       "      <td>?</td>\n",
       "      <td>2</td>\n",
       "      <td>1</td>\n",
       "      <td>4</td>\n",
       "      <td>13</td>\n",
       "      <td>...</td>\n",
       "      <td>No</td>\n",
       "      <td>Steady</td>\n",
       "      <td>No</td>\n",
       "      <td>No</td>\n",
       "      <td>No</td>\n",
       "      <td>No</td>\n",
       "      <td>No</td>\n",
       "      <td>Ch</td>\n",
       "      <td>Yes</td>\n",
       "      <td>NO</td>\n",
       "    </tr>\n",
       "    <tr>\n",
       "      <th>9</th>\n",
       "      <td>15738</td>\n",
       "      <td>63555939</td>\n",
       "      <td>Caucasian</td>\n",
       "      <td>Female</td>\n",
       "      <td>[90-100)</td>\n",
       "      <td>?</td>\n",
       "      <td>3</td>\n",
       "      <td>3</td>\n",
       "      <td>4</td>\n",
       "      <td>12</td>\n",
       "      <td>...</td>\n",
       "      <td>No</td>\n",
       "      <td>Steady</td>\n",
       "      <td>No</td>\n",
       "      <td>No</td>\n",
       "      <td>No</td>\n",
       "      <td>No</td>\n",
       "      <td>No</td>\n",
       "      <td>Ch</td>\n",
       "      <td>Yes</td>\n",
       "      <td>NO</td>\n",
       "    </tr>\n",
       "  </tbody>\n",
       "</table>\n",
       "<p>10 rows × 50 columns</p>\n",
       "</div>"
      ],
      "text/plain": [
       "   encounter_id  patient_nbr             race  gender       age weight  \\\n",
       "0       2278392      8222157        Caucasian  Female    [0-10)      ?   \n",
       "1        149190     55629189        Caucasian  Female   [10-20)      ?   \n",
       "2         64410     86047875  AfricanAmerican  Female   [20-30)      ?   \n",
       "3        500364     82442376        Caucasian    Male   [30-40)      ?   \n",
       "4         16680     42519267        Caucasian    Male   [40-50)      ?   \n",
       "5         35754     82637451        Caucasian    Male   [50-60)      ?   \n",
       "6         55842     84259809        Caucasian    Male   [60-70)      ?   \n",
       "7         63768    114882984        Caucasian    Male   [70-80)      ?   \n",
       "8         12522     48330783        Caucasian  Female   [80-90)      ?   \n",
       "9         15738     63555939        Caucasian  Female  [90-100)      ?   \n",
       "\n",
       "   admission_type_id  discharge_disposition_id  admission_source_id  \\\n",
       "0                  6                        25                    1   \n",
       "1                  1                         1                    7   \n",
       "2                  1                         1                    7   \n",
       "3                  1                         1                    7   \n",
       "4                  1                         1                    7   \n",
       "5                  2                         1                    2   \n",
       "6                  3                         1                    2   \n",
       "7                  1                         1                    7   \n",
       "8                  2                         1                    4   \n",
       "9                  3                         3                    4   \n",
       "\n",
       "   time_in_hospital  ... citoglipton insulin  glyburide-metformin  \\\n",
       "0                 1  ...          No      No                   No   \n",
       "1                 3  ...          No      Up                   No   \n",
       "2                 2  ...          No      No                   No   \n",
       "3                 2  ...          No      Up                   No   \n",
       "4                 1  ...          No  Steady                   No   \n",
       "5                 3  ...          No  Steady                   No   \n",
       "6                 4  ...          No  Steady                   No   \n",
       "7                 5  ...          No      No                   No   \n",
       "8                13  ...          No  Steady                   No   \n",
       "9                12  ...          No  Steady                   No   \n",
       "\n",
       "   glipizide-metformin  glimepiride-pioglitazone  metformin-rosiglitazone  \\\n",
       "0                   No                        No                       No   \n",
       "1                   No                        No                       No   \n",
       "2                   No                        No                       No   \n",
       "3                   No                        No                       No   \n",
       "4                   No                        No                       No   \n",
       "5                   No                        No                       No   \n",
       "6                   No                        No                       No   \n",
       "7                   No                        No                       No   \n",
       "8                   No                        No                       No   \n",
       "9                   No                        No                       No   \n",
       "\n",
       "   metformin-pioglitazone  change diabetesMed readmitted  \n",
       "0                      No      No          No         NO  \n",
       "1                      No      Ch         Yes        >30  \n",
       "2                      No      No         Yes         NO  \n",
       "3                      No      Ch         Yes         NO  \n",
       "4                      No      Ch         Yes         NO  \n",
       "5                      No      No         Yes        >30  \n",
       "6                      No      Ch         Yes         NO  \n",
       "7                      No      No         Yes        >30  \n",
       "8                      No      Ch         Yes         NO  \n",
       "9                      No      Ch         Yes         NO  \n",
       "\n",
       "[10 rows x 50 columns]"
      ]
     },
     "execution_count": 294,
     "metadata": {},
     "output_type": "execute_result"
    }
   ],
   "source": [
    "# Read the dataset, show top ten rows\n",
    "X = pd.read_csv(\"diabetic_data.csv\")\n",
    "X.head(10)"
   ]
  },
  {
   "cell_type": "code",
   "execution_count": 295,
   "metadata": {
    "id": "012oRbxK9yRJ"
   },
   "outputs": [
    {
     "data": {
      "text/plain": [
       "['encounter_id',\n",
       " 'patient_nbr',\n",
       " 'race',\n",
       " 'gender',\n",
       " 'age',\n",
       " 'weight',\n",
       " 'admission_type_id',\n",
       " 'discharge_disposition_id',\n",
       " 'admission_source_id',\n",
       " 'time_in_hospital',\n",
       " 'payer_code',\n",
       " 'medical_specialty',\n",
       " 'num_lab_procedures',\n",
       " 'num_procedures',\n",
       " 'num_medications',\n",
       " 'number_outpatient',\n",
       " 'number_emergency',\n",
       " 'number_inpatient',\n",
       " 'diag_1',\n",
       " 'diag_2',\n",
       " 'diag_3',\n",
       " 'number_diagnoses',\n",
       " 'max_glu_serum',\n",
       " 'A1Cresult',\n",
       " 'metformin',\n",
       " 'repaglinide',\n",
       " 'nateglinide',\n",
       " 'chlorpropamide',\n",
       " 'glimepiride',\n",
       " 'acetohexamide',\n",
       " 'glipizide',\n",
       " 'glyburide',\n",
       " 'tolbutamide',\n",
       " 'pioglitazone',\n",
       " 'rosiglitazone',\n",
       " 'acarbose',\n",
       " 'miglitol',\n",
       " 'troglitazone',\n",
       " 'tolazamide',\n",
       " 'examide',\n",
       " 'citoglipton',\n",
       " 'insulin',\n",
       " 'glyburide-metformin',\n",
       " 'glipizide-metformin',\n",
       " 'glimepiride-pioglitazone',\n",
       " 'metformin-rosiglitazone',\n",
       " 'metformin-pioglitazone',\n",
       " 'change',\n",
       " 'diabetesMed',\n",
       " 'readmitted']"
      ]
     },
     "execution_count": 295,
     "metadata": {},
     "output_type": "execute_result"
    }
   ],
   "source": [
    "# Show all attributes\n",
    "list(X)"
   ]
  },
  {
   "cell_type": "code",
   "execution_count": 296,
   "metadata": {
    "id": "tZCV2olV9yRK"
   },
   "outputs": [
    {
     "name": "stdout",
     "output_type": "stream",
     "text": [
      "(101766, 50)\n",
      "Caucasian          76099\n",
      "AfricanAmerican    19210\n",
      "?                   2273\n",
      "Hispanic            2037\n",
      "Other               1506\n",
      "Asian                641\n",
      "Name: race, dtype: int64\n"
     ]
    }
   ],
   "source": [
    "# Examples of data exploration\n",
    "print(X.shape)\n",
    "print(X['race'].value_counts())"
   ]
  },
  {
   "cell_type": "markdown",
   "metadata": {
    "id": "h24ZI_oh9yRK"
   },
   "source": [
    "**(TO DO) Q1 - 3 marks**  \n",
    "Inspired by the code above, *write code* to answer the following questions (not just manually printing a number without finding that number in the code). Your code must help in finding the answer. Print the question that you are answering along with the answer that the code helped find.\n",
    "\n",
    "1. How many examples are in the dataset?\n",
    "2. What are the prior probabilities of each class (NO, <30, >30)?\n",
    "3. What are the possible ranges (including ?) for the attribute weight, and the number of examples in each?\n"
   ]
  },
  {
   "cell_type": "code",
   "execution_count": 297,
   "metadata": {
    "id": "7wLFoLK4ScjB"
   },
   "outputs": [
    {
     "name": "stdout",
     "output_type": "stream",
     "text": [
      "Number of examples in data set: \n",
      "101766\n",
      "\n",
      "Prior probabilities of each class\n",
      "NO     0.539119\n",
      ">30    0.349282\n",
      "<30    0.111599\n",
      "Name: readmitted, dtype: float64\n",
      "\n",
      "Possible ranges weight and the number of examples for each range\n"
     ]
    },
    {
     "data": {
      "text/plain": [
       "?            98569\n",
       "[75-100)      1336\n",
       "[50-75)        897\n",
       "[100-125)      625\n",
       "[125-150)      145\n",
       "[25-50)         97\n",
       "[0-25)          48\n",
       "[150-175)       35\n",
       "[175-200)       11\n",
       ">200             3\n",
       "Name: weight, dtype: int64"
      ]
     },
     "execution_count": 297,
     "metadata": {},
     "output_type": "execute_result"
    }
   ],
   "source": [
    "# ANSWER Q1 - \n",
    "### Your code which answers the three questions.\n",
    "\n",
    "# 1:\n",
    "print(\"Number of examples in data set: \")\n",
    "print(X.shape[0])\n",
    "# 2:\n",
    "print(\"\\nPrior probabilities of each class\")\n",
    "print(X['readmitted'].value_counts(normalize=True))\n",
    "# 3:\n",
    "print(\"\\nPossible ranges weight and the number of examples for each range\")\n",
    "X['weight'].value_counts()"
   ]
  },
  {
   "cell_type": "markdown",
   "metadata": {
    "id": "Jc3RpjgK9yRL"
   },
   "source": [
    "**3. Feature Selection**  \n",
    "Now that we have taken a look into our data, we should decide which features would be suitable to use with our model.\n",
    "\n",
    "Feature selection is just as important as tuning a model (choosing hyperparameters such as the number of layers and their sizes). We need to be sure to choose high quality features that best represent our data in order to maximize the performance of our model. Simply putting every feature or selecting some without analyzing them may provide worse results. Thus, we need to consider which features to use by looking at the data itself to see if it would be a good match."
   ]
  },
  {
   "cell_type": "markdown",
   "metadata": {
    "id": "WrmiUCJa9yRM"
   },
   "source": [
    "Some issues when working with data include:\n",
    "1. Is the data well distributed? That is, does it contain enough variety to provide a good split on the data.\n",
    "2. Are there missing values? The more missing values --> the less well these will work as features for many Machine Learning algorithms. Here, we will not focus on this issue, but it is important to know.\n",
    "3. Does the feature values (continuous, discrete) work well with our selected algorithm? (that we can transform)."
   ]
  },
  {
   "cell_type": "markdown",
   "metadata": {
    "id": "sUFdLNKS9yRM"
   },
   "source": [
    "**(TO DO) Q2 - 4 marks**   \n",
    "As you saw previously when listing all the features, there are many of them.  We do not have time, within this notebeook, to explore them all.  Therefore, we preselected 4 of them for you to analyse:  \n",
    "1. gender \n",
    "2. age \n",
    "3. weight \n",
    "4. num_medications\n",
    "\n",
    "Explore each of the specified features by:   \n",
    "\n",
    "1) Plotting the distribution (histogram using kind=\"hist\" for numerical data or bar plots using kind=\"barh\" for categorical/discrete data) and write if the data is well distributed. For more information on histograms, in case this is a newer concept, you can look at this link: https://datagy.io/histogram-python/  \n",
    "2) Identifying the number of missing/unknown/invalid values\n",
    "\n",
    "Remember, if you have any assumptions that you need to state, state them."
   ]
  },
  {
   "cell_type": "code",
   "execution_count": 298,
   "metadata": {
    "id": "9Y8g07H3Tx8f"
   },
   "outputs": [
    {
     "data": {
      "image/png": "[encoded data removed]",
      "text/plain": [
       "<Figure size 432x288 with 1 Axes>"
      ]
     },
     "metadata": {
      "needs_background": "light"
     },
     "output_type": "display_data"
    },
    {
     "name": "stdout",
     "output_type": "stream",
     "text": [
      "(Example.1): Is the above output well distributed? No it is not. This feature is highly imbalanced.\n",
      "(Example.2): There are 2273 missing values labelled as '?'.\n"
     ]
    },
    {
     "data": {
      "image/png": "[encoded data removed]",
      "text/plain": [
       "<Figure size 432x288 with 1 Axes>"
      ]
     },
     "metadata": {
      "needs_background": "light"
     },
     "output_type": "display_data"
    },
    {
     "name": "stdout",
     "output_type": "stream",
     "text": [
      "(1.1): Is the feature 'gender' well distributed? Yes, it is well distributed. However, this feature has a slight imbalance where there are slightly more examples of females occurring.\n",
      "(1.2): Assuming that Unknown/Invalid is not a gender and indicates a missing value. There are 3 missing values labelled as Unknown/Invalid\n"
     ]
    },
    {
     "data": {
      "image/png": "[encoded data removed]",
      "text/plain": [
       "<Figure size 432x288 with 1 Axes>"
      ]
     },
     "metadata": {
      "needs_background": "light"
     },
     "output_type": "display_data"
    },
    {
     "name": "stdout",
     "output_type": "stream",
     "text": [
      "(2.1): Is the feature 'age' well distributed? No, it is not. The number of examples seem to increase as the age range increases, with the majority occuring in the range 70-80. Thus, creating an imbalance.\n",
      "(2.2): There are no missing values for the class age\n"
     ]
    },
    {
     "data": {
      "image/png": "[encoded data removed]",
      "text/plain": [
       "<Figure size 432x288 with 1 Axes>"
      ]
     },
     "metadata": {
      "needs_background": "light"
     },
     "output_type": "display_data"
    },
    {
     "name": "stdout",
     "output_type": "stream",
     "text": [
      "(3.1): Is the feature 'weight' well distributed? No, it is not. The feature is highly imbalanced because a large portion of its examples are missing values labelled ?\n",
      "(3.2): There are 98569 missing values labelled as ?\n"
     ]
    },
    {
     "data": {
      "image/png": "[encoded data removed]",
      "text/plain": [
       "<Figure size 432x288 with 1 Axes>"
      ]
     },
     "metadata": {
      "needs_background": "light"
     },
     "output_type": "display_data"
    },
    {
     "name": "stdout",
     "output_type": "stream",
     "text": [
      "(4.1): Is the feature 'num_medications' well distributed? No it is not. A large portion of the distribution tends towards more occurrences of a lower value for num_medications\n",
      "(4.2): There are no missing values for num_medications\n"
     ]
    }
   ],
   "source": [
    "# ANSWER Q2 -\n",
    "\n",
    "# Example for the feature \"race\"\n",
    "plt.figure() # Creates a new figure\n",
    "X[\"race\"].value_counts().plot(kind=\"barh\", title=\"EXAMPLE - Race Distribution\")\n",
    "plt.show()\n",
    "print(\"(Example.1): Is the above output well distributed? No it is not. This feature is highly imbalanced.\")\n",
    "print(\"(Example.2): There are 2273 missing values labelled as '?'.\")\n",
    "\n",
    "# MODIFY AND ANSWER THE BELOW BASED ON THE EXAMPLE ABOVE.  \n",
    "# Also, instead of just saying balanced/imbalanced, try to add why?\n",
    "\n",
    "# gender\n",
    "X[\"gender\"].value_counts().plot(kind=\"barh\", title=\"Gender Distribution\")\n",
    "plt.show()\n",
    "print(\"(1.1): Is the feature 'gender' well distributed? Yes, it is well distributed. However, this feature has a slight imbalance where there are slightly more examples of females occurring.\")\n",
    "print(\"(1.2): Assuming that Unknown/Invalid is not a gender and indicates a missing value. There are {} missing values labelled as Unknown/Invalid\".format(X[X[\"gender\"]==\"Unknown/Invalid\"].shape[0]))\n",
    "\n",
    "# age\n",
    "X[\"age\"].value_counts().plot(kind=\"barh\", title=\"Age Distribution\")\n",
    "plt.show()\n",
    "print(\"(2.1): Is the feature 'age' well distributed? No, it is not. The number of examples seem to increase as the age range increases, with the majority occuring in the range 70-80. Thus, creating an imbalance.\")\n",
    "print(\"(2.2): There are no missing values for the class age\")\n",
    "\n",
    "# weight\n",
    "X[\"weight\"].value_counts().plot(kind=\"barh\", title=\"Weight Distribution\")\n",
    "plt.show()\n",
    "print(\"(3.1): Is the feature 'weight' well distributed? No, it is not. The feature is highly imbalanced because a large portion of its examples are missing values labelled ?\")\n",
    "print(\"(3.2): There are 98569 missing values labelled as ?\")\n",
    "\n",
    "# num_medications\n",
    "X[\"num_medications\"].value_counts().plot(kind=\"barh\", title=\"Number of Medications Distribution\")\n",
    "plt.show()\n",
    "print(\"(4.1): Is the feature 'num_medications' well distributed? No it is not. A large portion of the distribution tends towards more occurrences of a lower value for num_medications\")\n",
    "print(\"(4.2): There are no missing values for num_medications\")"
   ]
  },
  {
   "cell_type": "markdown",
   "metadata": {
    "id": "_F8fP3uw9yRM"
   },
   "source": [
    "**4. Preparing the dataset for experimentation**\n",
    "\n",
    "We will do a few steps to prepare the data for experimentations:  \\\n",
    "\n",
    "(1) extracting the class we wish to predict \\\n",
    "(2) splitting the dataset into a training and a validation set (called a test set in sklearn) \\\n",
    "(3) define a subset of features to work with \\\n",
    "(4) perform one-hot-encoding for discrete features"
   ]
  },
  {
   "cell_type": "code",
   "execution_count": 299,
   "metadata": {
    "id": "D1hcovh29yRN"
   },
   "outputs": [],
   "source": [
    "# This can ONLY BE DONE ONCE, as we pop the values into a new variable to be used as predicted class\n",
    "y = X.pop(\"readmitted\").values"
   ]
  },
  {
   "cell_type": "code",
   "execution_count": 300,
   "metadata": {
    "id": "Rl0NLwG-9yRN"
   },
   "outputs": [
    {
     "name": "stdout",
     "output_type": "stream",
     "text": [
      "(81412, 49)\n",
      "(81412,)\n",
      "(20354, 49)\n",
      "(20354,)\n"
     ]
    }
   ],
   "source": [
    "# split the large dataset into train and test\n",
    "from sklearn.model_selection import train_test_split\n",
    "\n",
    "X_train, X_test, y_train, y_test = train_test_split(X, y, test_size = 0.2, random_state=5)\n",
    "# Look at the shape of the outputs\n",
    "print(X_train.shape)\n",
    "print(y_train.shape)\n",
    "print(X_test.shape)\n",
    "print(y_test.shape)"
   ]
  },
  {
   "cell_type": "code",
   "execution_count": 241,
   "metadata": {
    "id": "S-mpXhFz9yRN"
   },
   "outputs": [
    {
     "data": {
      "text/plain": [
       "OneHotEncoder(handle_unknown='ignore', sparse=False)"
      ]
     },
     "execution_count": 241,
     "metadata": {},
     "output_type": "execute_result"
    }
   ],
   "source": [
    "from sklearn import preprocessing\n",
    "from sklearn.preprocessing import OneHotEncoder\n",
    "\n",
    "# Setting up our one-hot encoder\n",
    "ohe = OneHotEncoder(sparse=False, handle_unknown='ignore')\n",
    "\n",
    "# Since the dataset is quite large, try with a subset of features\n",
    "featureSet = ['race','gender','age', 'weight', 'time_in_hospital', 'num_lab_procedures', 'num_procedures',\n",
    " 'num_medications']\n",
    "\n",
    "# Make a copy of the training set containing only the chosen features\n",
    "X_train_sf = X_train[featureSet].copy()\n",
    "X_test_sf = X_test[featureSet].copy()\n",
    "\n",
    "# IF you wanted to try with the full dataset, try to redo the steps with this (optional - takes a lot of time)\n",
    "# X_train_allf = X_train[:].copy()\n",
    "# X_test_allf = X_test[:].copy()\n",
    "\n",
    "# Perform the one-hot encoding using our one-hot encoder on the selected feature set\n",
    "ohe.fit(X_train_sf)"
   ]
  },
  {
   "cell_type": "code",
   "execution_count": 242,
   "metadata": {
    "id": "ZU6oDlY-9yRO"
   },
   "outputs": [
    {
     "name": "stdout",
     "output_type": "stream",
     "text": [
      "['x0_?' 'x0_AfricanAmerican' 'x0_Asian' 'x0_Caucasian' 'x0_Hispanic'\n",
      " 'x0_Other' 'x1_Female' 'x1_Male' 'x1_Unknown/Invalid' 'x2_[0-10)'\n",
      " 'x2_[10-20)' 'x2_[20-30)' 'x2_[30-40)' 'x2_[40-50)' 'x2_[50-60)'\n",
      " 'x2_[60-70)' 'x2_[70-80)' 'x2_[80-90)' 'x2_[90-100)' 'x3_>200' 'x3_?'\n",
      " 'x3_[0-25)' 'x3_[100-125)' 'x3_[125-150)' 'x3_[150-175)' 'x3_[175-200)'\n",
      " 'x3_[25-50)' 'x3_[50-75)' 'x3_[75-100)' 'x4_1' 'x4_2' 'x4_3' 'x4_4'\n",
      " 'x4_5' 'x4_6' 'x4_7' 'x4_8' 'x4_9' 'x4_10' 'x4_11' 'x4_12' 'x4_13'\n",
      " 'x4_14' 'x5_1' 'x5_2' 'x5_3' 'x5_4' 'x5_5' 'x5_6' 'x5_7' 'x5_8' 'x5_9'\n",
      " 'x5_10' 'x5_11' 'x5_12' 'x5_13' 'x5_14' 'x5_15' 'x5_16' 'x5_17' 'x5_18'\n",
      " 'x5_19' 'x5_20' 'x5_21' 'x5_22' 'x5_23' 'x5_24' 'x5_25' 'x5_26' 'x5_27'\n",
      " 'x5_28' 'x5_29' 'x5_30' 'x5_31' 'x5_32' 'x5_33' 'x5_34' 'x5_35' 'x5_36'\n",
      " 'x5_37' 'x5_38' 'x5_39' 'x5_40' 'x5_41' 'x5_42' 'x5_43' 'x5_44' 'x5_45'\n",
      " 'x5_46' 'x5_47' 'x5_48' 'x5_49' 'x5_50' 'x5_51' 'x5_52' 'x5_53' 'x5_54'\n",
      " 'x5_55' 'x5_56' 'x5_57' 'x5_58' 'x5_59' 'x5_60' 'x5_61' 'x5_62' 'x5_63'\n",
      " 'x5_64' 'x5_65' 'x5_66' 'x5_67' 'x5_68' 'x5_69' 'x5_70' 'x5_71' 'x5_72'\n",
      " 'x5_73' 'x5_74' 'x5_75' 'x5_76' 'x5_77' 'x5_78' 'x5_79' 'x5_80' 'x5_81'\n",
      " 'x5_82' 'x5_83' 'x5_84' 'x5_85' 'x5_86' 'x5_87' 'x5_88' 'x5_89' 'x5_90'\n",
      " 'x5_91' 'x5_92' 'x5_93' 'x5_94' 'x5_95' 'x5_96' 'x5_97' 'x5_98' 'x5_99'\n",
      " 'x5_100' 'x5_101' 'x5_102' 'x5_103' 'x5_104' 'x5_105' 'x5_106' 'x5_107'\n",
      " 'x5_108' 'x5_109' 'x5_111' 'x5_113' 'x5_114' 'x5_118' 'x5_120' 'x5_121'\n",
      " 'x5_129' 'x5_132' 'x6_0' 'x6_1' 'x6_2' 'x6_3' 'x6_4' 'x6_5' 'x6_6' 'x7_1'\n",
      " 'x7_2' 'x7_3' 'x7_4' 'x7_5' 'x7_6' 'x7_7' 'x7_8' 'x7_9' 'x7_10' 'x7_11'\n",
      " 'x7_12' 'x7_13' 'x7_14' 'x7_15' 'x7_16' 'x7_17' 'x7_18' 'x7_19' 'x7_20'\n",
      " 'x7_21' 'x7_22' 'x7_23' 'x7_24' 'x7_25' 'x7_26' 'x7_27' 'x7_28' 'x7_29'\n",
      " 'x7_30' 'x7_31' 'x7_32' 'x7_33' 'x7_34' 'x7_35' 'x7_36' 'x7_37' 'x7_38'\n",
      " 'x7_39' 'x7_40' 'x7_41' 'x7_42' 'x7_43' 'x7_44' 'x7_45' 'x7_46' 'x7_47'\n",
      " 'x7_48' 'x7_49' 'x7_50' 'x7_51' 'x7_52' 'x7_53' 'x7_54' 'x7_55' 'x7_56'\n",
      " 'x7_57' 'x7_58' 'x7_59' 'x7_60' 'x7_61' 'x7_62' 'x7_63' 'x7_64' 'x7_65'\n",
      " 'x7_66' 'x7_67' 'x7_68' 'x7_69' 'x7_70' 'x7_72' 'x7_74' 'x7_75' 'x7_79'\n",
      " 'x7_81']\n"
     ]
    }
   ],
   "source": [
    "# The one-hot-encoder renames the features. Let's take a look at the new names.\n",
    "feature_names = ohe.get_feature_names()\n",
    "print(feature_names)"
   ]
  },
  {
   "cell_type": "code",
   "execution_count": 243,
   "metadata": {
    "id": "sJeeNJdm9yRO"
   },
   "outputs": [],
   "source": [
    "# We can now encode the training and test set with the new features\n",
    "X_train_sf_encoded = ohe.transform(X_train_sf)\n",
    "X_test_sf_encoded = ohe.transform(X_test_sf)"
   ]
  },
  {
   "cell_type": "markdown",
   "metadata": {
    "id": "7shNSZ7j9yRO"
   },
   "source": [
    "**(TO DO) Q3 - 1 mark**   \n",
    " \n",
    "1.   How many features are there now, after the one-hot-encoder?\n",
    "2.   Why so many? \n",
    "3.   Show the shape of the training set now."
   ]
  },
  {
   "cell_type": "code",
   "execution_count": 301,
   "metadata": {
    "id": "poQUnED8VRgd"
   },
   "outputs": [
    {
     "name": "stdout",
     "output_type": "stream",
     "text": [
      "Number of features after encoding: 242\n",
      "There are many features because one-hot encoding creates a new feature vector for each class per a categorical variable\n"
     ]
    },
    {
     "data": {
      "text/plain": [
       "(81412, 242)"
      ]
     },
     "execution_count": 301,
     "metadata": {},
     "output_type": "execute_result"
    }
   ],
   "source": [
    "# ANSWER Q3 -\n",
    "# How many features are there now after encoding (write a line of code)\n",
    "print(\"Number of features after encoding: {}\".format(X_train_sf_encoded.shape[1]))\n",
    "# Why so many?\n",
    "print(\"There are many features because one-hot encoding creates a new feature vector for each class per a categorical variable\")\n",
    "# Show the shape of the training set after the one-hot encoding. (write a line of code)\n",
    "X_train_sf_encoded.shape"
   ]
  },
  {
   "cell_type": "markdown",
   "metadata": {
    "id": "V_-OJgQx9yRO"
   },
   "source": [
    "**5. Baseline model**  \n",
    "Now that we have setup our encoded features we will start by using a Logistic Regression Classifier to perform supervised learning on our dataset."
   ]
  },
  {
   "cell_type": "markdown",
   "metadata": {
    "id": "yNRXFyAo9yRO"
   },
   "source": [
    "***5.1 Defining the Logistic Regression Classifier***   \n",
    "First we will define our Logistic Regression Classifier with scikit learn.  Since we have 3 classes for readmission prediction (before 30 days, after 30 days, and none), we define our classifier as a multinomial classifier (see below the parameter multi_class)."
   ]
  },
  {
   "cell_type": "code",
   "execution_count": 245,
   "metadata": {
    "executionInfo": {
     "elapsed": 1073,
     "status": "ok",
     "timestamp": 1634764437507,
     "user": {
      "displayName": "Caroline Barriere",
      "photoUrl": "https://lh3.googleusercontent.com/a/default-user=s64",
      "userId": "05790532458714626139"
     },
     "user_tz": 240
    },
    "id": "dWlaUiRQ9yRO"
   },
   "outputs": [],
   "source": [
    "# Import the Logistic Regression model from scikit and matplot\n",
    "from sklearn.linear_model import LogisticRegression\n",
    "import datetime"
   ]
  },
  {
   "cell_type": "code",
   "execution_count": 246,
   "metadata": {
    "executionInfo": {
     "elapsed": 169,
     "status": "ok",
     "timestamp": 1634764439560,
     "user": {
      "displayName": "Caroline Barriere",
      "photoUrl": "https://lh3.googleusercontent.com/a/default-user=s64",
      "userId": "05790532458714626139"
     },
     "user_tz": 240
    },
    "id": "jMqPCcUs9yRO"
   },
   "outputs": [],
   "source": [
    "# Define the model\n",
    "clf_lr = LogisticRegression(solver='lbfgs', multi_class=\"multinomial\", random_state=1, warm_start=True)"
   ]
  },
  {
   "cell_type": "markdown",
   "metadata": {
    "id": "WPAe0QpGsD5P"
   },
   "source": [
    "As you see above, the solver we use is the 'lbfgs' which is more complex than the 'sgd' (stochastic gradient descent) which we saw in the video lectures last week and this week. \n",
    "\n",
    "We will use 'sgd' later on in the notebook (also available in sklearn), but for now, we will use the 'lbfgs' which uses optimization techniques to converge more rapidly toward a set of weights that minimize the error.\n",
    "\n",
    "With such solver, the 'fit' function (clf_mlp.fit) needs to be repeated a certain number of epochs. An *epoch* is defined as going through all the training data once. Think of an epoch as the same as the number of iterations through all the training data, as we saw for 'sgd' in the lectures.\n",
    "\n",
    "Also, to make sure the weights are not reinitialized at random after each epoch, it's important to set warm_start to True."
   ]
  },
  {
   "cell_type": "markdown",
   "metadata": {
    "id": "QDtGHmsb9yRP"
   },
   "source": [
    "***5.2 Training the Logistic Regression Classifier***  \n",
    "Now that the model is defined, we need to train our model with the training set to learn how to classify our target class *readmitted*.  See how our *train_model* function requires a loop representing the number of epochs, which we set at 10 by default."
   ]
  },
  {
   "cell_type": "code",
   "execution_count": 247,
   "metadata": {
    "id": "avdtZzOz9yRP"
   },
   "outputs": [],
   "source": [
    "# This function trains a given model and returns a list of scores\n",
    "#   clf:     The untrained model to train\n",
    "#   X_train: The encoded attributes of the training set\n",
    "#   y_train: The target values of the training set\n",
    "def train_model(clf, X_train, y_train, epochs=10):\n",
    "    scores = []\n",
    "    print(\"Starting training...\")\n",
    "    for i in range(1, epochs + 1):\n",
    "        print(\"Epoch:\" + str(i) + \"/\" + str(epochs) + \" -- \" + str(datetime.datetime.now()))\n",
    "        clf.fit(X_train, y_train)\n",
    "        score = clf.score(X_train, y_train)\n",
    "        scores.append(score)\n",
    "    print(\"Done training.\")\n",
    "    return scores"
   ]
  },
  {
   "cell_type": "code",
   "execution_count": 248,
   "metadata": {
    "id": "yTxDCbNd9yRP"
   },
   "outputs": [
    {
     "name": "stdout",
     "output_type": "stream",
     "text": [
      "Starting training...\n",
      "Epoch:1/1 -- 2021-11-02 02:00:12.247498\n",
      "Done training.\n",
      "[0.5432368692576033]\n"
     ]
    }
   ],
   "source": [
    "import warnings\n",
    "warnings.filterwarnings('ignore')\n",
    "# Now let's train the model (recall that we use the training set)\n",
    "# We run for only one epoch and will only get one score\n",
    "clf_lr_scores = train_model(clf_lr, X_train_sf_encoded, y_train, 1)\n",
    "print(clf_lr_scores)\n"
   ]
  },
  {
   "cell_type": "markdown",
   "metadata": {
    "id": "kFEDpKYd9yRP"
   },
   "source": [
    "**(TO DO) Q4 - 1 mark**   \n",
    "Looking at the function train_model, what is the *score* (clf.score())? You may need to look at the [official documentation](https://scikit-learn.org/stable/modules/generated/sklearn.linear_model.LogisticRegression.html) for the LogisticRegression to understand this. \n",
    "\n",
    "What is the score obtained and what does it represent?"
   ]
  },
  {
   "cell_type": "markdown",
   "metadata": {
    "id": "XNg3nUq5XvGj"
   },
   "source": [
    "**ANSWER - Q4**\n",
    "\n",
    "Score obtained is 0.5432368692576033\\\n",
    "The score is the mean accuracy on the given train set and labels. In other words, it is the the mean accuracy of how each sample set for each label set was correctly predicted."
   ]
  },
  {
   "cell_type": "markdown",
   "metadata": {
    "id": "5NCE9_ki9yRP"
   },
   "source": [
    "**(TO DO) Q5 - 2 marks**   \n",
    "For this question, first run the code below.  Then describe what the code does. \n",
    "Afterwards, give the accuracy of the printed results (just manually state it, no need to code)."
   ]
  },
  {
   "cell_type": "code",
   "execution_count": 254,
   "metadata": {
    "id": "FDF_qFo_9yRP"
   },
   "outputs": [
    {
     "name": "stdout",
     "output_type": "stream",
     "text": [
      "['NO' 'NO' 'NO' 'NO' 'NO' 'NO' 'NO' 'NO' 'NO' 'NO']\n",
      "['>30' 'NO' 'NO' 'NO' '>30' '<30' '<30' '<30' '>30' '>30']\n"
     ]
    },
    {
     "data": {
      "text/plain": [
       "array([[0.06578887, 0.32106479, 0.61314633],\n",
       "       [0.08641421, 0.27137347, 0.64221232],\n",
       "       [0.06805648, 0.3504513 , 0.58149222],\n",
       "       [0.1221325 , 0.3446279 , 0.5332396 ],\n",
       "       [0.09654131, 0.30064441, 0.60281428],\n",
       "       [0.11759051, 0.35975672, 0.52265278],\n",
       "       [0.08787222, 0.34883324, 0.56329454],\n",
       "       [0.08040364, 0.29163956, 0.62795679],\n",
       "       [0.09662839, 0.35250772, 0.55086388],\n",
       "       [0.17717523, 0.40985769, 0.41296709]])"
      ]
     },
     "execution_count": 254,
     "metadata": {},
     "output_type": "execute_result"
    }
   ],
   "source": [
    "# Show the prediction on the first 10 examples\n",
    "y_predicted = clf_lr.predict(X_train_sf_encoded[0:10])\n",
    "print(y_predicted)\n",
    "print(y_train[0:10])\n",
    "clf_lr.predict_proba(X_train_sf_encoded[0:10])"
   ]
  },
  {
   "cell_type": "markdown",
   "metadata": {
    "id": "M90fKFGXYaED"
   },
   "source": [
    "**ANSWER Q5 -**\n",
    "\n",
    "1) Describe what y_predicted is: the prediction of the first ten examples for the training set\\\n",
    "2) Describe what y_train[0:10] is: the expected result (or the gold standard) for the first ten examples of the training set\\\n",
    "3) Describe clf_lr.predict_proba(X_train_sf_encoded[0:10]): This returns the predicted probability of each class (NO, >30, <30) for the first 10 examples of the training set.  \\\n",
    "4) What is the accuracy of the printed results? (manually calculated)\n",
    "The accuracy for the printed results is 3/10 = 0.3"
   ]
  },
  {
   "cell_type": "markdown",
   "metadata": {
    "id": "xE7gSxZu9yRP"
   },
   "source": [
    "**5.3 Testing the Logistic Regression Model**   \n",
    "Now that we have our trained model, let's test it on the test set."
   ]
  },
  {
   "cell_type": "markdown",
   "metadata": {
    "id": "Eby9JFSK9yRP"
   },
   "source": [
    "**(TO DO) Q6 - 2 marks**   \n",
    "Evaluate the model on the test set by computing it's *score* (recall how the score is computed when training) and compare that to the training set scores (you have this value from clf_lr_scores). Print which is better and give one reason why these results may have ended up this way."
   ]
  },
  {
   "cell_type": "code",
   "execution_count": 306,
   "metadata": {
    "id": "IB-HHZ4zY39K"
   },
   "outputs": [
    {
     "name": "stdout",
     "output_type": "stream",
     "text": [
      "Test set score: 0.5398447479610887 \n",
      "Training set score: 0.5432368692576033\n",
      "The training set score is better than the test set score by approximately 0.0034.\n",
      "This is because the model will usually produce a more optimistic prediction when used on the data it was trained on.\n"
     ]
    }
   ],
   "source": [
    "# ANSWER Q6\n",
    "\n",
    "# The test set is encoded in here: X_test_sf_encoded\n",
    "# Need to compute test score, print it, compare to train score, and print which is better and why\n",
    "y_predicted_t = clf_lr.predict(X_test_sf_encoded)\n",
    "test_score = clf_lr.score(X_test_sf_encoded, y_test)\n",
    "print(\"Test set score: {} \\nTraining set score: {}\".format(test_score, clf_lr_scores[0]))\n",
    "\n",
    "print(\"The training set score is better than the test set score by approximately 0.0034.\")\n",
    "print(\"This is because the model will usually produce a more optimistic prediction when used on the data it was trained on.\")"
   ]
  },
  {
   "cell_type": "markdown",
   "metadata": {
    "id": "r0sKNny79yRQ"
   },
   "source": [
    "**6. MLP**   \n",
    "We now work with a Multi Layer Perceptron Classifier to perform supervised learning on our dataset. We will be able to compare it to our baseline approach (logistic regression)."
   ]
  },
  {
   "cell_type": "markdown",
   "metadata": {
    "id": "636TNSrf9yRQ"
   },
   "source": [
    "***6.1 Defining the MLPClassifier***   \n",
    "First we will define our MLPClassifier with scikit learn.  We define a network with a single hidden layer of 100 nodes (see parameter hidden_layer_sizes)."
   ]
  },
  {
   "cell_type": "code",
   "execution_count": 261,
   "metadata": {
    "id": "_Oro4YHi9yRQ"
   },
   "outputs": [],
   "source": [
    "# Import the MLP model from scikit and matplot\n",
    "from sklearn.neural_network import MLPClassifier"
   ]
  },
  {
   "cell_type": "code",
   "execution_count": 262,
   "metadata": {
    "id": "NzMFDEmm9yRQ"
   },
   "outputs": [],
   "source": [
    "# Define the model\n",
    "clf_mlp = MLPClassifier(solver='lbfgs', hidden_layer_sizes=(100), random_state=1, warm_start=True)"
   ]
  },
  {
   "cell_type": "markdown",
   "metadata": {
    "id": "nPrafG3-kxZZ"
   },
   "source": [
    "As you see above, we use again the 'lbfgs' solver.  The same as for the logistic regression, with such solver, the 'fit' function (clf_mlp.fit) needs to be repeated a certain number of epochs.  \n",
    "\n",
    "Also, many parameters, available for the MLPClassifier, do not apply when using 'lbfgs', so for now, we are using the defaults.  We will discuss parameters later when we go back to 'sgd'."
   ]
  },
  {
   "cell_type": "markdown",
   "metadata": {
    "id": "2CHI7R7h9yRQ"
   },
   "source": [
    "***6.2 Training, Testing, and Discussing the MLPClassifier***  \n",
    "Now that the model is defined, we need to train our model with the train set to learn how to classify our target class *readmitted*. We will plot our retrieved scores, discuss them, and compare them with with the Baseline Model."
   ]
  },
  {
   "cell_type": "code",
   "execution_count": 263,
   "metadata": {
    "id": "5ewcttXg9yRQ"
   },
   "outputs": [],
   "source": [
    "# Plots the train and the test scores\n",
    "def plotScores(scores_train, scores_test):\n",
    "    # Plot the points\n",
    "    plt.plot([i for i in range(len(scores_train))], scores_train)\n",
    "    plt.plot([i for i in range(len(scores_test))], scores_test)\n",
    "    # Setup the legend\n",
    "    plt.legend([\"Train scores\", \"Test Scores\"])\n",
    "    # Labels for the x and y axis\n",
    "    plt.ylabel(\"Score\")\n",
    "    plt.xlabel(\"Epoch\")\n",
    "    plt.show()"
   ]
  },
  {
   "cell_type": "markdown",
   "metadata": {
    "id": "10ftbKow9yRQ"
   },
   "source": [
    "**(TO DO) Q7 - 7 marks**   \n",
    "\n",
    "***For all parts of this question, ensure that you have the full, correct output in your submission (do not clear the output here).***\n",
    "\n",
    "1. You must define the function train_and_evaluate() below. This function must take as input a classifier, the training set, the testing set, and the number of epochs. Inspired from the provided function train_model(), train the model as usual (use 10 epochs as the default), but now track the scores from both the train and the test sets at each epoch. Return both of these results.  \n",
    "2. Once defined, train clf_mlp with train_and_evaluate() for ten epochs.  PLEASE NOTE: this training might take a while depending on your machine (could be 2-3 minutes per epoch).\n",
    "3. Take the MLPClassifier results and plot them with the plotting function above (*plotScores*).   \n",
    "4. Describe the behaviour of the scores found during the training. Did the train or the test set produce the best results? What do these results mean? \n",
    "5. Did the MLP do better or worse than the Baseline Logistic Regression Model (and by how much)? Why do you think that it did better/worse?\n"
   ]
  },
  {
   "cell_type": "code",
   "execution_count": 265,
   "metadata": {
    "id": "imoVXGT6bL5z"
   },
   "outputs": [],
   "source": [
    "# ANSWER Q7 - part 1 - Create the train_and_evaluate function\n",
    "def train_and_evaluate(clf, X_train, y_train, X_test, y_test, epochs=10):\n",
    "\n",
    "    train_scores = []\n",
    "    test_scores = []\n",
    "    \n",
    "    print(\"Starting training...\")\n",
    "    for i in range(1, epochs + 1):\n",
    "        print(\"Epoch:\" + str(i) + \"/\" + str(epochs) + \" -- \" + str(datetime.datetime.now()))\n",
    "        clf.fit(X_train, y_train)\n",
    "        train_score = clf.score(X_train, y_train)\n",
    "        train_scores.append(train_score)\n",
    "        test_score = clf.score(X_test, y_test)\n",
    "        test_scores.append(test_score)\n",
    "    print(\"Done training.\")\n",
    "\n",
    "    return train_scores, test_scores"
   ]
  },
  {
   "cell_type": "code",
   "execution_count": 274,
   "metadata": {
    "id": "9P4B-beZbMD5"
   },
   "outputs": [
    {
     "name": "stdout",
     "output_type": "stream",
     "text": [
      "Starting training...\n",
      "Epoch:1/10 -- 2021-11-02 03:15:16.179686\n",
      "Epoch:2/10 -- 2021-11-02 03:16:19.271367\n",
      "Epoch:3/10 -- 2021-11-02 03:17:30.611947\n",
      "Epoch:4/10 -- 2021-11-02 03:18:42.093252\n",
      "Epoch:5/10 -- 2021-11-02 03:19:51.003249\n",
      "Epoch:6/10 -- 2021-11-02 03:21:00.639218\n",
      "Epoch:7/10 -- 2021-11-02 03:22:09.482526\n",
      "Epoch:8/10 -- 2021-11-02 03:23:18.031274\n",
      "Epoch:9/10 -- 2021-11-02 03:24:25.177310\n",
      "Epoch:10/10 -- 2021-11-02 03:25:32.427456\n",
      "Done training.\n",
      "train scores: [0.6751953029037489, 0.6753672677246597, 0.6758954453888861, 0.6765341718665553, 0.6768412519038962, 0.6771728983442244, 0.6769640839188326, 0.6776150935979954, 0.6776150935979954, 0.6771360487397435] \n",
      "test scores: [0.4801021912154859, 0.48069175592021224, 0.4796108872948806, 0.4796108872948806, 0.48000393043136486, 0.4799056696472438, 0.48000393043136486, 0.4802495823916675, 0.48103566866463593, 0.481133929448757]\n"
     ]
    }
   ],
   "source": [
    "# ANSWER Q7 - part 2\n",
    "# Train for *10* epochs, NOT 1. This will take a while so be patient!\n",
    "# You may see a warning message, this is because we defined clf_mlp to stop early if a condition is met.\n",
    "# In reality, you would want the model to go for as long as it needs to appropriately learn from the training set.\n",
    "train_scores_mlp, test_scores_mlp = train_and_evaluate(clf_mlp, X_train_sf_encoded, y_train, X_test_sf_encoded, y_test, 10)\n",
    "print(\"train scores: {} \\ntest scores: {}\".format(train_scores_mlp, test_scores_mlp))"
   ]
  },
  {
   "cell_type": "code",
   "execution_count": 276,
   "metadata": {
    "id": "6KMC7ToEbMQa"
   },
   "outputs": [
    {
     "data": {
      "image/png": "[encoded data removed]",
      "text/plain": [
       "<Figure size 432x288 with 1 Axes>"
      ]
     },
     "metadata": {
      "needs_background": "light"
     },
     "output_type": "display_data"
    }
   ],
   "source": [
    "# ANSWER Q7 - part 3 - Visualize the results\n",
    "plotScores(train_scores_mlp, test_scores_mlp)"
   ]
  },
  {
   "cell_type": "markdown",
   "metadata": {
    "id": "dXTB2veBbiVA"
   },
   "source": [
    "**ANSWER Q7 - part 4** \\\n",
    "Describe the behaviour of the scores found during the training. Did the train or the test set produce the best results? What do these results mean?\n",
    "\n",
    "The behaviour of the scores during training yieled very consistent results for both the train set and test set. The train set was very consistent across epochs, approximating a score at around 0.67 with extremely small deviations. The test set was also very consistent across epochs, approximating at a score around 0.48 with very small deviations. However, the train set produced the best results at around 0.67, which the test set did not even come close to. I think these results mean that the model is overfitted. Thus, the model matches the training data too well, and is unable to generalize on the test data to predict accurate results. "
   ]
  },
  {
   "cell_type": "markdown",
   "metadata": {
    "id": "zb1dGkLjbpXy"
   },
   "source": [
    "**ANSWER Q7 - part 5** \\\n",
    "Did the MLP do better or worse than the Baseline Logistic Regression Model (and by how much)? Why do you think that it did better/worse?\n",
    "\n",
    "I think that the MLP did worse than the Baseline Logistic Regression Model because the test set score of the MLP was lower than the test set score for the Baseline Logistic Regression Model. The MLP approximated a test score of around 0.48, and the Baseline Logistic Regression Model approximated a test of around 0.53, so the Baseline Logistic Model was better by approximately 0.05. I think the MLP did worse because it overfitted, since the score for the train set was significantly higher than the score for the test set. Furthermore, the score for the test set and train set for the Baseline Logistic Model were very similar, which is a good indicator that the model was not overfitted and, thus, another reason that it performed better than the MLP."
   ]
  },
  {
   "cell_type": "markdown",
   "metadata": {
    "id": "M2Lj29Fj9yRR"
   },
   "source": [
    "**7. Trying a slightly different model with different feature selection**  \n",
    "Now that we have run through the Baseline and the MLP classifiers, let us try one more MLP with a different feature selection. This time you will be creating the model by with random features to use from our original list of features. A random selection is certainly not what we should do in a real context, but for the sake of comparing results of different feature sets, within this notebook, this will work well.  The following TO DO gives an overview of the entire task."
   ]
  },
  {
   "cell_type": "markdown",
   "metadata": {
    "id": "P1_1s1Am9yRR"
   },
   "source": [
    "**(TO DO) Q8 - 6 marks**   \n",
    "\n",
    "You will retrain a MLP classifier using 4 random features instead of the ones we used above.\n",
    "\n",
    "1.   Insert a seed of your choice for the randomization.  \n",
    "2.   Create a new list of features containing a random four features from featureSet, we call this list randomFeatures.\n",
    "3.   Then use that list to complete the encoding process using ohe_rand.   \n",
    "4.   Once done, use the train_and_evaluate() function to train the model. \n",
    "5.   Plot the results. \n",
    "6.   Finally compare the test results from clf_rand (obtained here) with the results from clf_mlp (state which did better, posting the scores and the random feature set selected)."
   ]
  },
  {
   "cell_type": "code",
   "execution_count": 307,
   "metadata": {
    "id": "zt6MtCNec_Ml"
   },
   "outputs": [
    {
     "name": "stdout",
     "output_type": "stream",
     "text": [
      "['age', 'time_in_hospital', 'gender', 'num_lab_procedures']\n"
     ]
    }
   ],
   "source": [
    "# ANSWER Q8\n",
    "\n",
    "import random\n",
    "\n",
    "# Setup a seed\n",
    "random.seed(20)\n",
    "\n",
    "# Setting up our one-hot encoder\n",
    "ohe_rand = OneHotEncoder(sparse=False, handle_unknown='ignore')\n",
    "\n",
    "# Since the dataset is quite large, try with a subset of features\n",
    "featureSet = ['race','gender','age', 'weight', 'time_in_hospital', 'num_lab_procedures', 'num_procedures',\n",
    " 'num_medications']\n",
    "\n",
    "# TO DO - Select a random four unique features from the list featureSet\n",
    "randomFeatures = [random.choice(featureSet) for i in range(4)]\n",
    "print(randomFeatures)\n",
    "\n",
    "# TO DO - Finish the remaining encoding process\n",
    "X_train_r = X_train[featureSet].copy()\n",
    "X_test_r = X_test[featureSet].copy()\n",
    "ohe.fit(X_train_r)\n",
    "\n",
    "feature_names_r = ohe.get_feature_names()\n",
    "\n",
    "X_train_r_encoded = ohe.transform(X_train_r)\n",
    "X_test_r_encoded = ohe.transform(X_test_r)"
   ]
  },
  {
   "cell_type": "code",
   "execution_count": 284,
   "metadata": {
    "id": "GQLcueVKdHWd"
   },
   "outputs": [
    {
     "name": "stdout",
     "output_type": "stream",
     "text": [
      "Starting training...\n",
      "Epoch:1/10 -- 2021-11-02 05:25:18.076026\n",
      "Epoch:2/10 -- 2021-11-02 05:26:23.476438\n",
      "Epoch:3/10 -- 2021-11-02 05:27:34.114320\n",
      "Epoch:4/10 -- 2021-11-02 05:28:45.529492\n",
      "Epoch:5/10 -- 2021-11-02 05:29:58.032744\n",
      "Epoch:6/10 -- 2021-11-02 05:31:09.542843\n",
      "Epoch:7/10 -- 2021-11-02 05:32:20.202533\n",
      "Epoch:8/10 -- 2021-11-02 05:33:29.172802\n",
      "Epoch:9/10 -- 2021-11-02 05:34:38.573665\n",
      "Epoch:10/10 -- 2021-11-02 05:35:47.429256\n",
      "Done training.\n",
      "train scores: [0.6189013904584091, 0.6439345551024419, 0.6556035965213973, 0.6607871075517123, 0.6642018375669434, 0.6665356458507345, 0.6683289932688056, 0.6692870829853093, 0.6710312975974058, 0.6721859185378077] \n",
      "test scores: [0.49955782647145525, 0.4878156627689889, 0.484573056892994, 0.4809865382725754, 0.48093740788051487, 0.47951262651075954, 0.4778421931807016, 0.4780878451410042, 0.4781369755330648, 0.4790213225901543]\n"
     ]
    },
    {
     "data": {
      "image/png": "[encoded data removed]",
      "text/plain": [
       "<Figure size 432x288 with 1 Axes>"
      ]
     },
     "metadata": {
      "needs_background": "light"
     },
     "output_type": "display_data"
    }
   ],
   "source": [
    "# ANSWER Q8 (continue)\n",
    "clf_rand = MLPClassifier(solver='lbfgs',  hidden_layer_sizes=(100), random_state=1, warm_start=True)\n",
    "\n",
    "# TO DO - Train the model (this will take a little while! Grab a snack or find something to do), plot the results\n",
    "train_scores_r, test_scores_r = train_and_evaluate(clf_rand, X_train_r_encoded, y_train, X_test_r_encoded, y_test, 10)\n",
    "print(\"train scores: {} \\ntest scores: {}\".format(train_scores_r, test_scores_r))\n",
    "plotScores(train_scores_r, test_scores_r)"
   ]
  },
  {
   "cell_type": "markdown",
   "metadata": {
    "id": "9GpaHou-dPKb"
   },
   "source": [
    "**ANSWER Q8 (continue)**\n",
    "\n",
    "State the random feature set obtained. Compare the train and test results from clf_rand to clf_mlp, posting the scores from both.\n",
    "\n",
    "The random feature set obtained is: ['age', 'time_in_hospital', 'gender', 'num_lab_procedures']\n",
    "\n",
    "<table>\n",
    "    <tr>\n",
    "        <th></th><th>cld_rand train scores</th><th>clf_mlp train scores</th><th>cld_rand test scores</th><th>clf_mlp test scores</th>\n",
    "    </tr>\n",
    "    <tr><td>epoch 1</td><td>0.6189013904584091</td><td>0.6751953029037489</td><td>0.49955782647145525</td><td>0.4801021912154859</td></tr>\n",
    "    <tr><td>epoch 2</td><td>0.6439345551024419</td><td>0.6753672677246597</td><td>0.4878156627689889</td> <td>0.48069175592021224</td></tr>\n",
    "    <tr><td>epoch 3</td><td>0.6556035965213973</td><td>0.6758954453888861</td><td>0.484573056892994</td>  <td>0.4796108872948806</td></tr>\n",
    "    <tr><td>epoch 4</td><td>0.6607871075517123</td><td>0.6765341718665553</td><td>0.4809865382725754</td> <td>0.4796108872948806</td></tr>\n",
    "    <tr><td>epoch 5</td><td>0.6642018375669434</td><td>0.6768412519038962</td><td>0.48093740788051487</td><td>0.48000393043136486</td></tr>\n",
    "    <tr><td>epoch 6</td><td>0.6665356458507345</td><td>0.6771728983442244</td><td>0.47951262651075954</td><td>0.4799056696472438</td></tr>\n",
    "    <tr><td>epoch 7</td><td>0.6683289932688056</td><td>0.6769640839188326</td><td>0.4778421931807016</td> <td>0.48000393043136486</td></tr>\n",
    "    <tr><td>epoch 8</td><td>0.6692870829853093</td><td>0.6776150935979954</td><td>0.4780878451410042</td> <td>0.4802495823916675</td></tr>\n",
    "    <tr><td>epoch 9</td><td>0.6710312975974058</td><td>0.6776150935979954</td><td>0.4781369755330648</td> <td>0.48103566866463593</td></tr>\n",
    "    <tr><td>epoch 10</td><td>0.6721859185378077</td><td>0.6771360487397435</td><td>0.4790213225901543</td> <td>0.481133929448757</td></tr>\n",
    "</table>\n",
    "\n",
    "When comparing the results for the train sets between the clf_rand and clf_mlp, the clf_rand appears to perform slightly worse than the clf_mlp, with the majority of score decreases of approximately 0.1, and the biggest score decrease of approximately 0.056 occurring at epoch 1. Thus, the clf_mp performed marginally better for the train set.\n",
    "\n",
    "When comparing the results for the test sets between the clf_rand and clf_mlp, it does not appear that either algorithm performs better than the other. Each algorithm seems to have an even distribution of improvements over the other at different epochs of about 0.01.\n",
    "\n",
    "Furthermore, both algorithms appear to have better results for their train sets than their test sets, in spite of the feature vectors chosen. "
   ]
  },
  {
   "cell_type": "markdown",
   "metadata": {
    "id": "oSulcCsF9yRR"
   },
   "source": [
    "**8. Gradient Descent and error curve**  \n",
    "We will do one final training of a MLP, but this time we will use solver=\"SGD\". Using the gradient descent, as you've learned it, allows us to look at the error (loss) curve during its training, as well as discuss different parameters, as we saw them in the video lectures."
   ]
  },
  {
   "cell_type": "code",
   "execution_count": 285,
   "metadata": {
    "id": "ZU_wlfdS9yRR"
   },
   "outputs": [],
   "source": [
    "clf_sgd = MLPClassifier(solver='sgd', alpha=1e-4, hidden_layer_sizes=(50,50), random_state=1, max_iter=300, learning_rate_init=0.1, warm_start=True)"
   ]
  },
  {
   "cell_type": "markdown",
   "metadata": {
    "id": "0jDmHiIZnLrX"
   },
   "source": [
    "**(TO DO) Q9 - 2 marks**\n",
    "\n",
    "Explain **in your own words** the parameters chosen above. What do they all mean and explain how the chosen values for each parameter will affect the model. For any that are unfamiliar, explore the official documentation and just provide a short sentence on what the parameter does based on its description and your existing knowledge."
   ]
  },
  {
   "cell_type": "markdown",
   "metadata": {
    "id": "jK3r8z0semp1"
   },
   "source": [
    "**ANSWER Q9**  \n",
    "\n",
    "*solver:* This parameter indicates the solver used to optimize the weights. In this case, \"sgd\" means the stochastic gradient descent solver is used.\n",
    "\n",
    "*alpha:*  This parameter is used for the regularization of the weights.\n",
    "\n",
    "*hidden_layer_size:* This parameter indicates the number of hidden layers and the nodes per layer. In this case (50,50) means that there are 2 hidden layers with 50 neurons each in the first layer and second layer.\n",
    "\n",
    "*random_state:*  This parameter indicates the random number generated for weights and the initialization of the bias. If early stopping is used, it will determine the train-test split. When the solver parameter is \"sgd\" or \"adam\", it determines the batch sampling. An int is used to obtain reproducible results across multiple function calls.\n",
    "\n",
    "*learning_rate_init:* This parameter is used to set the learning rate only when the solver parameter is \"sgd\" or \"adam\"\n",
    "\n",
    "*warm_start:* This parameter is used to indicate if the learner will use weights from a previous solution. Setting it to True means it will use weights from a previous solution for the model. False means that random weights will be used."
   ]
  },
  {
   "cell_type": "code",
   "execution_count": 286,
   "metadata": {
    "id": "Y8m5dVSh9yRR"
   },
   "outputs": [],
   "source": [
    "# Plots the loss from the trained model\n",
    "# NOTE: clf.loss_curve_ only exists when using solver=\"SGD\"\n",
    "def plot_loss(clf):\n",
    "    plt.plot(clf.loss_curve_)\n",
    "    plt.ylabel('Loss')\n",
    "    plt.xlabel('Epoch')\n",
    "    plt.show()"
   ]
  },
  {
   "cell_type": "markdown",
   "metadata": {
    "id": "ONmikqyd9yRS"
   },
   "source": [
    "**(TO DO) Q10 - 2 marks**   \n",
    "Train and evaluate the model using train_and_evaluate (for 1 epoch, using X_train_sf_encoded and X_test_sf_encoded). Display the plot exhibiting the loss function when being trained. Briefly describe what the loss function represents (and why it's important)."
   ]
  },
  {
   "cell_type": "code",
   "execution_count": 289,
   "metadata": {
    "id": "GcDUAp8vfpvK"
   },
   "outputs": [
    {
     "name": "stdout",
     "output_type": "stream",
     "text": [
      "Starting training...\n",
      "Epoch:1/1 -- 2021-11-02 20:53:37.089441\n",
      "Done training.\n",
      "train scores: [0.6460841153638285] \n",
      "test scores: [0.4867839245357178]\n"
     ]
    },
    {
     "data": {
      "image/png": "[encoded data removed]",
      "text/plain": [
       "<Figure size 432x288 with 1 Axes>"
      ]
     },
     "metadata": {
      "needs_background": "light"
     },
     "output_type": "display_data"
    }
   ],
   "source": [
    "# ANSWER Q10 -\n",
    "# Train the model for *1 epoch* (with X_train_sf_encoded and X_test_sf_encoded)\n",
    "train_scores_sgd, test_scores_sgd = train_and_evaluate(clf_sgd, X_train_sf_encoded, y_train, X_test_sf_encoded, y_test, 1)\n",
    "print(\"train scores: {} \\ntest scores: {}\".format(train_scores_sgd, test_scores_sgd))\n",
    "# Plot the loss of clf_sgd\n",
    "plot_loss(clf_sgd)"
   ]
  },
  {
   "cell_type": "markdown",
   "metadata": {
    "id": "D_zIGLd_fy4M"
   },
   "source": [
    "**ANSWER Q10 - (continue)**\\\n",
    "\n",
    "The loss curve represents a model's error over time. For example, as the model gets better at learning, its error will decrease over time. It is important because it can be used as a measurement of a model's performance. Furthermore, it can be used to determine if the model is overfitted. If the error for the training set continues to decrease, but the error for the test set starts to diverge and increase, that is an indicator that the model is overtraining and the model is mimicking the training data. Thus, the model will not make accurate predictions when used on test data or actual data. "
   ]
  }
 ],
 "metadata": {
  "colab": {
   "collapsed_sections": [],
   "name": "CSI4106_MLP_Fall2021.ipynb",
   "provenance": []
  },
  "kernelspec": {
   "display_name": "Python 3",
   "language": "python",
   "name": "python3"
  },
  "language_info": {
   "codemirror_mode": {
    "name": "ipython",
    "version": 3
   },
   "file_extension": ".py",
   "mimetype": "text/x-python",
   "name": "python",
   "nbconvert_exporter": "python",
   "pygments_lexer": "ipython3",
   "version": "3.8.8"
  }
 },
 "nbformat": 4,
 "nbformat_minor": 1
}
